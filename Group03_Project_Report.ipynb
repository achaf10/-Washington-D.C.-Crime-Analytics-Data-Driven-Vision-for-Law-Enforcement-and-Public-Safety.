{
 "cells": [
  {
   "cell_type": "markdown",
   "id": "73bdb5ce-2cc3-4a9a-b40b-4116883486d0",
   "metadata": {},
   "source": [
    "<h1 style=\"color:SlateBlue\"> At the Scene of the Crime </h1>\n",
    "<h2> A Comprehensive Analysis of Crime Data in Washington DC </h2>\n",
    "<h4> Group 03: TerpIQ - Helena Getachew, Xinming Tan, Poojaa Ravi Kumar, Rajat Rautan, Aniket Chafekar, Adit Pawar, Shivam Shivam </h4>\n",
    "\n",
    "\n",
    "<center><img src=\"https://th.bing.com/th/id/R.94efbd62bdae0595ab0eb22d046d2540?rik=fgjR%2bfAeo19Sew&riu=http%3a%2f%2flowres.cartoonstock.com%2flaw-order-crime-criminal-thief-crime_prevention-crime_victims-ktan327_low.jpg&ehk=19rEsDm60mbLFW3%2bm9bf6CgWHPrKis6VYWMV8XOVmdY%3d&risl=&pid=ImgRaw&r=0\" alt=\"Girl in a jacket\" width=\"500\" height=\"600\"></center>\n",
    "\n",
    "<h3 style=\"color:SlateBlue\"> Introduction </h3>\n",
    "<p>\n",
    "\n",
    "This project aims to uncover potential patterns or relationships associated with crime in Washington D.C. We will utilize a comprehensive dataset on D.C. crime to gain insights into various factors that may influence criminal activities.\n",
    "\n",
    "The significance of this analysis lies in its connection to the overarching importance of public safety. The prevalent \"tough on crime\" stance often seen in politicians' platforms reflects civilians' concerns about the handling of criminal incidents.\n",
    "\n",
    "Moreover, our decision to analyze Washington D.C. is grounded in its allure as a tourist destination and as a desired residence in a bustling metropolitan area. According to 2022 Census data, the nation’s capital is home to 671,803 residents (U.S. Census Bureau quickfacts: District of Columbia, 2022). Our concern arises from the high population density, suggesting that Washington D.C. may be a hotspot for crime compared to smaller, more isolated towns. Thus, effective crime control is paramount to ensuring the safety of both local residents and tourists. Understanding crime patterns becomes pivotal in developing strategies to mitigate risks and safeguard the well-being of all stakeholders.\n",
    "\n",
    "During our analysis, our primary focus was on providing tangible value to our stakeholders. We aim for these stakeholders to leverage the extrapolations from this project to craft impactful, data-driven solutions for crime reduction and personal safety. The initial stakeholder we considered was law enforcement. The ability to offer insights into where and when crimes occur more frequently can assist the police in allocating resources more effectively. Identifying crime hotspots through data analysis enables the optimization of patrols and interventions.\n",
    "\n",
    "The second stakeholder we addressed was Washington D.C. government officials. By delivering a robust analysis of key indicators contributing to crime, we intend to inform policymakers about implementing solutions that address the root causes of crime, thereby instating preventative measures. Additionally, enhanced public safety can make D.C. more appealing to tourists, fostering increased economic opportunities for the city. D.C. government officials would be highly invested in initiatives that contribute to building upon its already strong tourism sector.\n",
    "\n",
    "Our third stakeholder group consists of civilians, including community members and tourists. Aiming to elevate community awareness, our analysis findings can empower citizens to be more vigilant about their personal safety. Knowledge of when and where crime is more prevalent enables civilians to take precautionary measures that ultimately enhance their safety. Safety is a communal effort, and it is crucial for people to be well-informed about the incidence of crime in their areas. We hope that this analysis can contribute to increased community involvement, thereby improving overall safety.\n",
    "</p>\n",
    "\n",
    "<h3 style=\"color:SlateBlue\"> Research Question </h3>\n",
    "\n",
    "1. Are there specific geographic hotspots for crime in Washington D.C.?\n",
    "2. Is there a correlation between the density of alcohol outlets and crime in D.C.?\n",
    "3. How do socioeconomic factors such as income levels, unemployment rates, and education levels correlate with crime rates in different areas of Washington D.C.?\n",
    "4. Does the temperature of the day have an impact on the number of crimes?\n",
    "5. Is there an association between the time of day a crime occurred and the type of crime?\n",
    "6. Can we predict future crime rates or hotspots based on historical data and identified patterns?\n",
    "\n",
    "<h3 style=\"color:SlateBlue\"> Data Sets </h3>\n",
    "\n",
    "**DC Crime Dataset**\n",
    "The Washington DC Crime Dataset was published on Kaggle and contains details about reported crimes that occurred from October 2022 to October 2023.\n",
    "\n",
    "Source: https://www.kaggle.com/datasets/karnikakapoor/crime-incidents-in-dc/data\n",
    "\n",
    "**Liquor Licenses in DC Dataset**\n",
    "Since we are also interested in a potential association between the prevalence of alcohol outlets on crime occurrence in Washington DC, a second dataset was obtained from Open Data DC entitled “Liquor Licenses.” The Liquor Licenses dataset contains 2,300 records and 41 variables. We are most interested in the location of these liquor stores so that we can assess if there is a relationship between the number of alcohol outlets in aparticular area and crime within that area.\n",
    "\n",
    "Source: https://opendata.dc.gov/datasets/liquor-licenses/explore?location=38.819686%2C-76.814256%2C9.41 \n",
    "</br>\n",
    "Permissions: https://creativecommons.org/licenses/by/4.0/\n",
    "\n",
    "**Weather Data**\n",
    "We are also interested in the relationship between daily temperatures and crime occurrence. Thus, we will be using National Weather Service (NWS) data that contains average daily temperature reports from 2022 to 2023 (365 records). We will assign these temperatures to the corresponding crime date to evaluate this relationship.\n",
    "\n",
    "Source: https://www.weather.gov/wrh/Climate?wfo=lwx\n",
    "</br>\n",
    "Permissions:The NOAA datasets made available through NODD are free for all users to access with no use restrictions and do not require any registration to access. The data is fully open for public access and can be downloaded with no egress charges.\n",
    "\n",
    "**Socio-economic Characteristics by Ward dataset**\n",
    "Finally, to evaluate the relationship between socioeconomic characteristics and crime, we will be using the American Community Survey (ACS) on Economic Characteristics by Ward dataset. The ACS dataset has unemployment rates and household income data for each ward in DC. There are 8 observations, which correspond to the 8 wards in DC, and 142 variables.\n",
    " \n",
    "Source: https://opendata.dc.gov/datasets/DCGIS::acs-economic-characteristics-dc-census-tract/about\n",
    "</br>\n",
    "Permissions: https://creativecommons.org/licenses/by/4.0/"
   ]
  },
  {
   "cell_type": "markdown",
   "id": "b1b3a725-5cf4-4aa9-a72e-45a665956f2d",
   "metadata": {},
   "source": [
    "### We want to be heavily graded on Data Analysis \n",
    "In our data analysis, We went beyond basic methodologies by implementing  statistical models and predictive modelling algorithms to uncover nuanced patterns and correlations. Additionally, we integrated diverse datasets, ensuring a comprehensive approach that provides insights beyond the scope of conventional analyses."
   ]
  },
  {
   "cell_type": "markdown",
   "id": "683352fc-cbfa-4af6-8157-470ec2074e48",
   "metadata": {},
   "source": [
    "### Data Acquisition, Cleaning Code & EDA\n",
    "\n",
    "<h3 style=\"color:SlateBlue\">1. DC Crime dataset</h3>"
   ]
  },
  {
   "cell_type": "code",
   "execution_count": 207,
   "id": "4e87d411-9054-468a-9f05-22637020c14d",
   "metadata": {
    "tags": []
   },
   "outputs": [],
   "source": [
    "#Importing required libraries\n",
    "\n",
    "import numpy as np\n",
    "import pandas as pd\n",
    "import matplotlib.pyplot as plt\n",
    "%matplotlib inline\n",
    "import seaborn as sns\n",
    "import plotly.express as px\n",
    "import folium\n",
    "from folium.plugins import HeatMap\n",
    "import warnings\n",
    "warnings.filterwarnings(\"ignore\")\n",
    "import geopandas as gpd\n",
    "import plotly.graph_objects as go\n",
    "import statsmodels.api as sm\n",
    "from sklearn.model_selection import train_test_split\n",
    "from sklearn.ensemble import RandomForestRegressor\n",
    "from sklearn.metrics import mean_squared_error\n",
    "from sklearn.preprocessing import StandardScaler"
   ]
  },
  {
   "cell_type": "code",
   "execution_count": 208,
   "id": "f401ff0e-271c-4832-890a-e288b1ea70d9",
   "metadata": {
    "tags": []
   },
   "outputs": [],
   "source": [
    "#Loading the data\n",
    "crime_dc = pd.read_csv('crime_dc.csv')"
   ]
  },
  {
   "cell_type": "markdown",
   "id": "15e27aa2-1c1a-4d1f-9987-1b6d45ffaf0a",
   "metadata": {},
   "source": [
    "<i>Before proceeding any further, it is important to understand what each variable name is and what information is contained in each of their columns.</i>\n",
    "    \n",
    "The following code will be used to highlight column names, identify any columns with potential null values (which will be explored later in this project), and the data types of the values within the column."
   ]
  },
  {
   "cell_type": "code",
   "execution_count": 209,
   "id": "03587750-5d77-433e-afc2-e0e3e1dcc64b",
   "metadata": {
    "tags": []
   },
   "outputs": [
    {
     "name": "stdout",
     "output_type": "stream",
     "text": [
      "There are 26091 observations of crime and 28 variables provided in this DC crime dataset.\n",
      "\n",
      "\n",
      "<class 'pandas.core.frame.DataFrame'>\n",
      "RangeIndex: 26091 entries, 0 to 26090\n",
      "Data columns (total 28 columns):\n",
      " #   Column                Non-Null Count  Dtype  \n",
      "---  ------                --------------  -----  \n",
      " 0   neighborhood_cluster  26091 non-null  object \n",
      " 1   offense_group         26091 non-null  object \n",
      " 2   census_tract          26080 non-null  float64\n",
      " 3   longitude             26091 non-null  float64\n",
      " 4   end_date              24003 non-null  object \n",
      " 5   offense_text          26091 non-null  object \n",
      " 6   shift                 26091 non-null  object \n",
      " 7   district              26091 non-null  float64\n",
      " 8   yblock                26091 non-null  float64\n",
      " 9   ward                  26089 non-null  float64\n",
      " 10  year                  26091 non-null  int64  \n",
      " 11  offensekey            26091 non-null  object \n",
      " 12  bid                   4668 non-null   object \n",
      " 13  sector                25946 non-null  object \n",
      " 14  psa                   25946 non-null  float64\n",
      " 15  ucr_rank              26091 non-null  int64  \n",
      " 16  block_group           26080 non-null  object \n",
      " 17  voting_precinct       26088 non-null  object \n",
      " 18  xblock                26091 non-null  float64\n",
      " 19  block                 26091 non-null  object \n",
      " 20  start_date            26089 non-null  object \n",
      " 21  ccn                   26091 non-null  int64  \n",
      " 22  offense               26091 non-null  object \n",
      " 23  anc                   26089 non-null  object \n",
      " 24  report_date           26091 non-null  object \n",
      " 25  method                26091 non-null  object \n",
      " 26  location              26091 non-null  object \n",
      " 27  latitude              26091 non-null  float64\n",
      "dtypes: float64(8), int64(3), object(17)\n",
      "memory usage: 5.6+ MB\n"
     ]
    }
   ],
   "source": [
    "# Determining the number of rows and columns in the data frame\n",
    "print(f'There are {(crime_dc.shape[0])} observations of crime and {crime_dc.shape[1]} variables provided in this DC crime dataset.')\n",
    "print('\\n')\n",
    "# Summarizing our data's variables, data types, and frequency of non-null values\n",
    "crime_dc.info()"
   ]
  },
  {
   "cell_type": "markdown",
   "id": "ffcc05d6-d2c6-488a-a714-b362cc1a486a",
   "metadata": {},
   "source": [
    "The above output indicates that there are multiple columns with null values when comparing our 26091 to the number of non-null values in columns 0-27. These columns will be further isolated in our data cleaning process. Additionally, The following columns within the data set provide geographic information about crimes that occurred:\n",
    "\n",
    "- ward\n",
    "- neighborhood cluster\n",
    "- longitude and latitude\n",
    "- district, census tract\n",
    "- voting precent\n",
    "- block\n",
    "- block group\n",
    "\n",
    "These variables may be useful in our analysis as we search for possible crime patterns related to geographic location.\n",
    "\n",
    "Next, our data contains 3 different data types:\n",
    "\n",
    "- float values (float64)\n",
    "- integer values (int)\n",
    "- object values (object)\n",
    "\n",
    "Knowing the data types within our data set is essential so that we can properly handle our data and reduce the frequency of errors when trying to perform operations on an unsupported data type for a particular operation. Though much has already been uncovered through these intial steps within our EDA, generating value counts for the columns in column can enhance this high level overview of crime in Washington D.C.\n",
    "\n",
    "According to the source of our data, none of the float or integer values are necessarily quantitative. Rather, they are numeric categorical values used to describe the location, year, and reporting of the crime (CITE). As a result, generating descriptive statistics such as the mean, standard deviation, minimum, and maximum values would not be appropriate for our analysis. Rather determining the different values within each column would be helpful it identifying the categories that each value falls into.\n",
    "\n",
    "<h3 style=\"color:SlateBlue\">Dataset Descriptions</h3>\n",
    "\n",
    "- **ward**: Which D.C. ward the crime occurred in\n",
    "- **neighborhood cluster**: What region of the neighborhood the crime occurred in\n",
    "- **longitude**: Longitude coordinate of where the crime occurred\n",
    "- **latitude**: Latitude coordinate of where the crime occurred\n",
    "- **district**: Police district where the crime occurred\n",
    "- **census tract**: Census tract where the crime occurred \n",
    "- **psa**: Police Service Area (a segment of the district) where the crime occurred\n",
    "- **voting precint**: polling division at which the crime occurred\n",
    "- **block**: 4 digit number describing the block at which a crime occurred\n",
    "- **block group**: subset of Census Tract; groups are based on the first digit of the block number\n",
    "- **bid**: Business improvement indicator (BID); districts with many commercial businesses\n",
    "- **yblock & xblock**: block coordinates of where the crime occurred\n",
    "- **offense group**: categorization of offenses\n",
    "- **start_date**: date and time when crimed occurred\n",
    "- **end_date**: date and time when crime ended\n",
    "- **report_date**: date and time when crime was reported\n",
    "- **shift**: police shift when the crime was reported\n",
    "- **offensekey**: key that represents type of offense\n",
    "- **sector**: police sector where crime occurred\n",
    "- **ucr_rank**: Uniform Crime Reporting (UCR) rank\n",
    "- **ccn**: Criminal Complaint Number (CCN) assigned to a criminal case\n",
    "- **offense**: categorization of crime\n",
    "- **anc**: Advisory Neighborhood Comission (ANC) indicator\n",
    "- **method**: method used to commit the crime (knife, gun, others)\n",
    "- **location**: textual format of geographic coordinates\n",
    "\n",
    "\n",
    "<h3 style=\"color:SlateBlue\">Summary Statistics of DC Crime</h3>"
   ]
  },
  {
   "cell_type": "code",
   "execution_count": 210,
   "id": "8eb8b56e-561b-4c74-9a8e-bbf62e3d005f",
   "metadata": {
    "tags": []
   },
   "outputs": [
    {
     "data": {
      "text/html": [
       "<div>\n",
       "<style scoped>\n",
       "    .dataframe tbody tr th:only-of-type {\n",
       "        vertical-align: middle;\n",
       "    }\n",
       "\n",
       "    .dataframe tbody tr th {\n",
       "        vertical-align: top;\n",
       "    }\n",
       "\n",
       "    .dataframe thead th {\n",
       "        text-align: right;\n",
       "    }\n",
       "</style>\n",
       "<table border=\"1\" class=\"dataframe\">\n",
       "  <thead>\n",
       "    <tr style=\"text-align: right;\">\n",
       "      <th></th>\n",
       "      <th>census_tract</th>\n",
       "      <th>longitude</th>\n",
       "      <th>district</th>\n",
       "      <th>yblock</th>\n",
       "      <th>ward</th>\n",
       "      <th>year</th>\n",
       "      <th>psa</th>\n",
       "      <th>ucr_rank</th>\n",
       "      <th>xblock</th>\n",
       "      <th>ccn</th>\n",
       "      <th>latitude</th>\n",
       "    </tr>\n",
       "  </thead>\n",
       "  <tbody>\n",
       "    <tr>\n",
       "      <th>count</th>\n",
       "      <td>26080.000000</td>\n",
       "      <td>26091.000000</td>\n",
       "      <td>26091.000000</td>\n",
       "      <td>26091.000000</td>\n",
       "      <td>26089.000000</td>\n",
       "      <td>26091.0</td>\n",
       "      <td>25946.000000</td>\n",
       "      <td>26091.000000</td>\n",
       "      <td>26091.000000</td>\n",
       "      <td>2.609100e+04</td>\n",
       "      <td>26091.000000</td>\n",
       "    </tr>\n",
       "    <tr>\n",
       "      <th>mean</th>\n",
       "      <td>7704.170936</td>\n",
       "      <td>-77.007120</td>\n",
       "      <td>3.786976</td>\n",
       "      <td>137660.320460</td>\n",
       "      <td>4.483307</td>\n",
       "      <td>2023.0</td>\n",
       "      <td>383.785516</td>\n",
       "      <td>6.219079</td>\n",
       "      <td>399383.051324</td>\n",
       "      <td>2.310455e+07</td>\n",
       "      <td>38.906796</td>\n",
       "    </tr>\n",
       "    <tr>\n",
       "      <th>std</th>\n",
       "      <td>35776.514487</td>\n",
       "      <td>0.034812</td>\n",
       "      <td>1.863017</td>\n",
       "      <td>3395.699165</td>\n",
       "      <td>2.357882</td>\n",
       "      <td>0.0</td>\n",
       "      <td>186.424781</td>\n",
       "      <td>1.454902</td>\n",
       "      <td>3019.263230</td>\n",
       "      <td>1.764424e+05</td>\n",
       "      <td>0.030588</td>\n",
       "    </tr>\n",
       "    <tr>\n",
       "      <th>min</th>\n",
       "      <td>101.000000</td>\n",
       "      <td>-77.112316</td>\n",
       "      <td>1.000000</td>\n",
       "      <td>127432.000000</td>\n",
       "      <td>1.000000</td>\n",
       "      <td>2023.0</td>\n",
       "      <td>101.000000</td>\n",
       "      <td>1.000000</td>\n",
       "      <td>390262.040000</td>\n",
       "      <td>5.008224e+06</td>\n",
       "      <td>38.814659</td>\n",
       "    </tr>\n",
       "    <tr>\n",
       "      <th>25%</th>\n",
       "      <td>3802.000000</td>\n",
       "      <td>-77.030789</td>\n",
       "      <td>2.000000</td>\n",
       "      <td>136028.290000</td>\n",
       "      <td>2.000000</td>\n",
       "      <td>2023.0</td>\n",
       "      <td>208.000000</td>\n",
       "      <td>6.000000</td>\n",
       "      <td>397329.970000</td>\n",
       "      <td>2.304572e+07</td>\n",
       "      <td>38.892091</td>\n",
       "    </tr>\n",
       "    <tr>\n",
       "      <th>50%</th>\n",
       "      <td>7304.000000</td>\n",
       "      <td>-77.009051</td>\n",
       "      <td>4.000000</td>\n",
       "      <td>137782.000000</td>\n",
       "      <td>5.000000</td>\n",
       "      <td>2023.0</td>\n",
       "      <td>401.000000</td>\n",
       "      <td>6.000000</td>\n",
       "      <td>399215.000000</td>\n",
       "      <td>2.309233e+07</td>\n",
       "      <td>38.907897</td>\n",
       "    </tr>\n",
       "    <tr>\n",
       "      <th>75%</th>\n",
       "      <td>9102.000000</td>\n",
       "      <td>-76.985513</td>\n",
       "      <td>5.000000</td>\n",
       "      <td>139624.000000</td>\n",
       "      <td>7.000000</td>\n",
       "      <td>2023.0</td>\n",
       "      <td>506.000000</td>\n",
       "      <td>7.000000</td>\n",
       "      <td>401257.000000</td>\n",
       "      <td>2.313228e+07</td>\n",
       "      <td>38.924489</td>\n",
       "    </tr>\n",
       "    <tr>\n",
       "      <th>max</th>\n",
       "      <td>980000.000000</td>\n",
       "      <td>-76.910146</td>\n",
       "      <td>7.000000</td>\n",
       "      <td>147292.580000</td>\n",
       "      <td>8.000000</td>\n",
       "      <td>2023.0</td>\n",
       "      <td>708.000000</td>\n",
       "      <td>9.000000</td>\n",
       "      <td>407795.000000</td>\n",
       "      <td>3.102638e+07</td>\n",
       "      <td>38.993565</td>\n",
       "    </tr>\n",
       "  </tbody>\n",
       "</table>\n",
       "</div>"
      ],
      "text/plain": [
       "        census_tract     longitude      district         yblock          ward  \\\n",
       "count   26080.000000  26091.000000  26091.000000   26091.000000  26089.000000   \n",
       "mean     7704.170936    -77.007120      3.786976  137660.320460      4.483307   \n",
       "std     35776.514487      0.034812      1.863017    3395.699165      2.357882   \n",
       "min       101.000000    -77.112316      1.000000  127432.000000      1.000000   \n",
       "25%      3802.000000    -77.030789      2.000000  136028.290000      2.000000   \n",
       "50%      7304.000000    -77.009051      4.000000  137782.000000      5.000000   \n",
       "75%      9102.000000    -76.985513      5.000000  139624.000000      7.000000   \n",
       "max    980000.000000    -76.910146      7.000000  147292.580000      8.000000   \n",
       "\n",
       "          year           psa      ucr_rank         xblock           ccn  \\\n",
       "count  26091.0  25946.000000  26091.000000   26091.000000  2.609100e+04   \n",
       "mean    2023.0    383.785516      6.219079  399383.051324  2.310455e+07   \n",
       "std        0.0    186.424781      1.454902    3019.263230  1.764424e+05   \n",
       "min     2023.0    101.000000      1.000000  390262.040000  5.008224e+06   \n",
       "25%     2023.0    208.000000      6.000000  397329.970000  2.304572e+07   \n",
       "50%     2023.0    401.000000      6.000000  399215.000000  2.309233e+07   \n",
       "75%     2023.0    506.000000      7.000000  401257.000000  2.313228e+07   \n",
       "max     2023.0    708.000000      9.000000  407795.000000  3.102638e+07   \n",
       "\n",
       "           latitude  \n",
       "count  26091.000000  \n",
       "mean      38.906796  \n",
       "std        0.030588  \n",
       "min       38.814659  \n",
       "25%       38.892091  \n",
       "50%       38.907897  \n",
       "75%       38.924489  \n",
       "max       38.993565  "
      ]
     },
     "execution_count": 210,
     "metadata": {},
     "output_type": "execute_result"
    }
   ],
   "source": [
    "# Obtaining summary statistics of DC Crime\n",
    "crime_dc.describe()"
   ]
  },
  {
   "cell_type": "markdown",
   "id": "46754959-ad43-4b59-a381-df60b2a4440b",
   "metadata": {},
   "source": [
    "<h3 style=\"color:SlateBlue\">Data Cleaning</h3>\n",
    "<h4>Identifying Null Values</h4>"
   ]
  },
  {
   "cell_type": "code",
   "execution_count": 211,
   "id": "d757c54a-f31f-42c5-b5bf-49bc58d4d4ad",
   "metadata": {
    "tags": []
   },
   "outputs": [
    {
     "data": {
      "text/plain": [
       "neighborhood_cluster        0\n",
       "offense_group               0\n",
       "census_tract               11\n",
       "longitude                   0\n",
       "end_date                 2088\n",
       "offense_text                0\n",
       "shift                       0\n",
       "district                    0\n",
       "yblock                      0\n",
       "ward                        2\n",
       "year                        0\n",
       "offensekey                  0\n",
       "bid                     21423\n",
       "sector                    145\n",
       "psa                       145\n",
       "ucr_rank                    0\n",
       "block_group                11\n",
       "voting_precinct             3\n",
       "xblock                      0\n",
       "block                       0\n",
       "start_date                  2\n",
       "ccn                         0\n",
       "offense                     0\n",
       "anc                         2\n",
       "report_date                 0\n",
       "method                      0\n",
       "location                    0\n",
       "latitude                    0\n",
       "dtype: int64"
      ]
     },
     "execution_count": 211,
     "metadata": {},
     "output_type": "execute_result"
    }
   ],
   "source": [
    "# Determining the number of null values in each column\n",
    "crime_dc.isnull().sum()"
   ]
  },
  {
   "cell_type": "markdown",
   "id": "9d233478-268b-497d-adff-1580f321d869",
   "metadata": {},
   "source": [
    "According to the above output, there are multiple null values throughout the dataset. For the goals of our analysis, it is crucial that we have ward data since it is a useful geographic indicator in the data set. Whether or not to drop the null ward values or impute them is based on how many other geographical indicators are available to determine what ward a crime occurred in. The rows with the null ward values will be examined in the code below."
   ]
  },
  {
   "cell_type": "code",
   "execution_count": 212,
   "id": "a63bb1e1-5efc-4720-8cca-ef173c3c4c22",
   "metadata": {
    "tags": []
   },
   "outputs": [
    {
     "data": {
      "text/html": [
       "<div>\n",
       "<style scoped>\n",
       "    .dataframe tbody tr th:only-of-type {\n",
       "        vertical-align: middle;\n",
       "    }\n",
       "\n",
       "    .dataframe tbody tr th {\n",
       "        vertical-align: top;\n",
       "    }\n",
       "\n",
       "    .dataframe thead th {\n",
       "        text-align: right;\n",
       "    }\n",
       "</style>\n",
       "<table border=\"1\" class=\"dataframe\">\n",
       "  <thead>\n",
       "    <tr style=\"text-align: right;\">\n",
       "      <th></th>\n",
       "      <th>neighborhood_cluster</th>\n",
       "      <th>offense_group</th>\n",
       "      <th>census_tract</th>\n",
       "      <th>longitude</th>\n",
       "      <th>end_date</th>\n",
       "      <th>offense_text</th>\n",
       "      <th>shift</th>\n",
       "      <th>district</th>\n",
       "      <th>yblock</th>\n",
       "      <th>ward</th>\n",
       "      <th>...</th>\n",
       "      <th>xblock</th>\n",
       "      <th>block</th>\n",
       "      <th>start_date</th>\n",
       "      <th>ccn</th>\n",
       "      <th>offense</th>\n",
       "      <th>anc</th>\n",
       "      <th>report_date</th>\n",
       "      <th>method</th>\n",
       "      <th>location</th>\n",
       "      <th>latitude</th>\n",
       "    </tr>\n",
       "  </thead>\n",
       "  <tbody>\n",
       "    <tr>\n",
       "      <th>5729</th>\n",
       "      <td>Unknown</td>\n",
       "      <td>property</td>\n",
       "      <td>NaN</td>\n",
       "      <td>-76.964453</td>\n",
       "      <td>NaN</td>\n",
       "      <td>MOTOR VEHICLE THEFT</td>\n",
       "      <td>day</td>\n",
       "      <td>5.0</td>\n",
       "      <td>140848.08</td>\n",
       "      <td>NaN</td>\n",
       "      <td>...</td>\n",
       "      <td>403081.98</td>\n",
       "      <td>3700 - 3799 block of 31st place ne</td>\n",
       "      <td>2023-10-03 06:30:00</td>\n",
       "      <td>23163092</td>\n",
       "      <td>MOTOR VEHICLE THEFT</td>\n",
       "      <td>NaN</td>\n",
       "      <td>2023-10-03 11:37:29</td>\n",
       "      <td>others</td>\n",
       "      <td>38.9355124415,-76.9644526428</td>\n",
       "      <td>38.935512</td>\n",
       "    </tr>\n",
       "    <tr>\n",
       "      <th>14628</th>\n",
       "      <td>Unknown</td>\n",
       "      <td>property</td>\n",
       "      <td>NaN</td>\n",
       "      <td>-76.964453</td>\n",
       "      <td>2023-08-22 08:30:00</td>\n",
       "      <td>MOTOR VEHICLE THEFT</td>\n",
       "      <td>day</td>\n",
       "      <td>5.0</td>\n",
       "      <td>140848.08</td>\n",
       "      <td>NaN</td>\n",
       "      <td>...</td>\n",
       "      <td>403081.98</td>\n",
       "      <td>3700 - 3799 block of 31st place ne</td>\n",
       "      <td>2023-08-21 22:30:00</td>\n",
       "      <td>23138047</td>\n",
       "      <td>MOTOR VEHICLE THEFT</td>\n",
       "      <td>NaN</td>\n",
       "      <td>2023-08-22 09:51:19</td>\n",
       "      <td>others</td>\n",
       "      <td>38.9355124415,-76.9644526428</td>\n",
       "      <td>38.935512</td>\n",
       "    </tr>\n",
       "  </tbody>\n",
       "</table>\n",
       "<p>2 rows × 28 columns</p>\n",
       "</div>"
      ],
      "text/plain": [
       "      neighborhood_cluster offense_group  census_tract  longitude  \\\n",
       "5729               Unknown      property           NaN -76.964453   \n",
       "14628              Unknown      property           NaN -76.964453   \n",
       "\n",
       "                  end_date         offense_text shift  district     yblock  \\\n",
       "5729                   NaN  MOTOR VEHICLE THEFT   day       5.0  140848.08   \n",
       "14628  2023-08-22 08:30:00  MOTOR VEHICLE THEFT   day       5.0  140848.08   \n",
       "\n",
       "       ward  ...     xblock                               block  \\\n",
       "5729    NaN  ...  403081.98  3700 - 3799 block of 31st place ne   \n",
       "14628   NaN  ...  403081.98  3700 - 3799 block of 31st place ne   \n",
       "\n",
       "                start_date       ccn              offense  anc  \\\n",
       "5729   2023-10-03 06:30:00  23163092  MOTOR VEHICLE THEFT  NaN   \n",
       "14628  2023-08-21 22:30:00  23138047  MOTOR VEHICLE THEFT  NaN   \n",
       "\n",
       "               report_date  method                      location   latitude  \n",
       "5729   2023-10-03 11:37:29  others  38.9355124415,-76.9644526428  38.935512  \n",
       "14628  2023-08-22 09:51:19  others  38.9355124415,-76.9644526428  38.935512  \n",
       "\n",
       "[2 rows x 28 columns]"
      ]
     },
     "execution_count": 212,
     "metadata": {},
     "output_type": "execute_result"
    }
   ],
   "source": [
    "crime_dc[crime_dc['ward'].isnull()]"
   ]
  },
  {
   "cell_type": "markdown",
   "id": "ba1ca5b4-648f-41bc-991e-37c8985a3292",
   "metadata": {},
   "source": [
    "By using the Washington D.C.'s Office of Planning \"What's my ward\" search, the wards for both of these crime incidients were located to be in Ward 5 based on the block data. This data can be imputed into the these 2 rows.\n",
    "\n",
    "Here is the link to the ward search feature: https://planning.dc.gov/whatsmyward"
   ]
  },
  {
   "cell_type": "code",
   "execution_count": 213,
   "id": "12fcd607-e0c0-4922-91b4-eb5bc83efd65",
   "metadata": {
    "tags": []
   },
   "outputs": [
    {
     "data": {
      "text/plain": [
       "0"
      ]
     },
     "execution_count": 213,
     "metadata": {},
     "output_type": "execute_result"
    }
   ],
   "source": [
    "# Imputing the missing ward data\n",
    "crime_dc['ward'] = crime_dc['ward'].fillna(5)\n",
    "\n",
    "# Demonstrating that there are no longer any null ward values\n",
    "crime_dc['ward'].isnull().sum()"
   ]
  },
  {
   "cell_type": "markdown",
   "id": "cca4c50c-fad6-44b1-8ab1-44019900e821",
   "metadata": {},
   "source": [
    "Now that the missing data has been addressed, we would like to explore the various geographic indicators in our data set. The following code will describe how many of these indicators (wards, districts, neighborhood clusters, voting precincts, blocks, and block groups) are in Washington D.C."
   ]
  },
  {
   "cell_type": "code",
   "execution_count": 214,
   "id": "48dad84f-6f4b-44c8-8e6e-492913f84263",
   "metadata": {
    "tags": []
   },
   "outputs": [
    {
     "name": "stdout",
     "output_type": "stream",
     "text": [
      "Number of wards: 8\n",
      "Number of districts: 7\n",
      "Number of neighborhood clusters: 46\n",
      "Number of voting precincts:144\n",
      "Number of blocks:7334\n",
      "Number of block groups: 568\n"
     ]
    }
   ],
   "source": [
    "# Determining the number of wards, districts, and neighborhood clusters in Washington D.C.\n",
    "print(f'Number of wards: {crime_dc.ward.nunique():.0f}\\nNumber of districts: {crime_dc.district.nunique()}\\nNumber of neighborhood clusters: {crime_dc.neighborhood_cluster.nunique()}\\nNumber of voting precincts:{crime_dc.voting_precinct.nunique()}\\nNumber of blocks:{crime_dc.block.nunique()}\\nNumber of block groups: {crime_dc.block_group.nunique()}')"
   ]
  },
  {
   "cell_type": "markdown",
   "id": "ff9b9ced-4bd2-4158-be06-e8e0173fcb32",
   "metadata": {},
   "source": [
    "There are also multiple (2088) null values within the \"end_date\" column. Because there could possibly be valuable date within this column, the null values in the \"end_date\" column should be imputed rather than removed. In determing what values to impute the data with, the \"start_date\" and \"report_date\" columns could provide a useful timeline that can help indicate when the crime ended. Examining the offenses for each crime with an unknown end date can also offer more context. "
   ]
  },
  {
   "cell_type": "code",
   "execution_count": 215,
   "id": "a258213a-b74a-4cdd-8add-d45719488a5e",
   "metadata": {
    "tags": []
   },
   "outputs": [
    {
     "name": "stdout",
     "output_type": "stream",
     "text": [
      "                        offense           start_date end_date  \\\n",
      "0                      HOMICIDE  2023-02-23 16:24:00      NaN   \n",
      "18                  THEFT/OTHER  2023-07-27 12:10:00      NaN   \n",
      "19          MOTOR VEHICLE THEFT  2023-08-04 12:06:00      NaN   \n",
      "29                      ROBBERY  2023-06-20 11:32:00      NaN   \n",
      "41          MOTOR VEHICLE THEFT  2023-05-20 10:14:00      NaN   \n",
      "45          MOTOR VEHICLE THEFT  2023-07-27 16:59:00      NaN   \n",
      "108         MOTOR VEHICLE THEFT  2023-07-20 01:51:00      NaN   \n",
      "120                     ROBBERY  2023-09-02 03:28:00      NaN   \n",
      "121                 THEFT/OTHER  2023-06-05 16:41:00      NaN   \n",
      "127  ASSAULT W/DANGEROUS WEAPON  2023-03-24 00:57:00      NaN   \n",
      "153                THEFT F/AUTO  2023-07-17 00:00:00      NaN   \n",
      "156                THEFT F/AUTO  2023-07-17 00:00:00      NaN   \n",
      "161         MOTOR VEHICLE THEFT  2023-07-11 02:14:00      NaN   \n",
      "213                     ROBBERY  2023-06-30 22:45:00      NaN   \n",
      "220                     ROBBERY  2023-04-14 21:52:00      NaN   \n",
      "\n",
      "             report_date  \n",
      "0    2023-02-24 00:00:00  \n",
      "18   2023-07-27 12:32:50  \n",
      "19   2023-08-04 13:10:41  \n",
      "29   2023-06-20 13:36:21  \n",
      "41   2023-05-20 11:02:15  \n",
      "45   2023-07-27 17:27:31  \n",
      "108  2023-07-20 02:37:59  \n",
      "120  2023-09-02 04:13:34  \n",
      "121  2023-06-05 17:03:58  \n",
      "127  2023-03-24 03:40:36  \n",
      "153  2023-07-18 08:22:37  \n",
      "156  2023-07-17 06:17:19  \n",
      "161  2023-07-11 02:39:57  \n",
      "213  2023-07-01 00:13:47  \n",
      "220  2023-04-14 23:08:27  \n"
     ]
    }
   ],
   "source": [
    "# Filtering the crime data set to include offense and date data\n",
    "filtered_df = crime_dc[['offense', 'start_date', 'end_date', 'report_date']]\n",
    "\n",
    "# Filtering the filtered data to include only crimes with null end date values\n",
    "filtered_df = filtered_df[filtered_df['end_date'].isnull()].head(15)\n",
    "print(filtered_df)"
   ]
  },
  {
   "cell_type": "markdown",
   "id": "285f640a-b1b4-4ee5-bfc3-696213de6199",
   "metadata": {},
   "source": [
    "While there are some time discrepancies between the start and report dates, for the initial 15 crimes with an undocumented end date, the majority started and were reported on the same day. This suggests that the end date might have also occurred on the same day as the report date. Thus, it is reasonable to impute the missing end date values with the report date data."
   ]
  },
  {
   "cell_type": "code",
   "execution_count": 216,
   "id": "ea3057be-a38c-4afa-8fbf-624479b5ba05",
   "metadata": {
    "tags": []
   },
   "outputs": [
    {
     "data": {
      "text/plain": [
       "0"
      ]
     },
     "execution_count": 216,
     "metadata": {},
     "output_type": "execute_result"
    }
   ],
   "source": [
    "# Imputing missing end_date data with the corresponding report_date data\n",
    "crime_dc['end_date'] = crime_dc['end_date'].fillna(crime_dc['report_date'])\n",
    "\n",
    "# Demonstrating that there are no more missing values in the \"end_date\" column\n",
    "crime_dc['end_date'].isnull().sum()"
   ]
  },
  {
   "cell_type": "markdown",
   "id": "29e64ceb-bd22-46b7-b568-8303e918e7de",
   "metadata": {},
   "source": [
    "We can see that there are a lot of null values in the \"bid\" column, which as stated previously provides business improvement district information. Let us check if the \"bid\" column has crossed our set threshold of 80% to decide if we have to delete or keep the column."
   ]
  },
  {
   "cell_type": "code",
   "execution_count": 217,
   "id": "62d76705-e3d3-450e-bd8f-69c7bb3ddac1",
   "metadata": {
    "tags": []
   },
   "outputs": [
    {
     "name": "stdout",
     "output_type": "stream",
     "text": [
      "The percentage null values in the bid column that are null is 82.11% which is over 80%.\n"
     ]
    }
   ],
   "source": [
    "bid_nulls = crime_dc['bid'].isnull().sum()/(crime_dc.shape[0]) * 100\n",
    "print(f'The percentage null values in the bid column that are null is {bid_nulls:.2f}% which is over 80%.')"
   ]
  },
  {
   "cell_type": "markdown",
   "id": "a85500a3-5d50-4e9e-b186-76b1a23eb4ae",
   "metadata": {},
   "source": [
    "Since more than 80% of the 'bid' column contains null values, the 'bid' column also need to be dropped for this reason. "
   ]
  },
  {
   "cell_type": "code",
   "execution_count": 218,
   "id": "fb824f3d-e497-42a6-9937-28102f6e87e9",
   "metadata": {
    "tags": []
   },
   "outputs": [],
   "source": [
    "crime_dc.drop('bid', axis=1, inplace=True)"
   ]
  },
  {
   "cell_type": "markdown",
   "id": "4efbf840-75fd-46a3-9dd5-6301a493355b",
   "metadata": {},
   "source": [
    "<h4>Identifying duplicates</h4>\n",
    "\n",
    "Firstly, we noticed that there are 3 columns that contain information about the location of a crime: Latitude, Longitude and Location. After further review, we have confirmed that the information in 'location' are the same with the information 'Latitude' and 'Longitude' contains. Therefore, considering that 'Latitude' and 'Longitude' are more useful for the subsequent data visulization, we decided drop this column to avoid redundancy.\n",
    "    \n",
    "Let us remove the location column from the dataset as it is just the text description of latitude and longitude.  \n"
   ]
  },
  {
   "cell_type": "code",
   "execution_count": 219,
   "id": "1fc67465-73e5-4103-a8f8-76aa525c43bd",
   "metadata": {
    "tags": []
   },
   "outputs": [],
   "source": [
    "# Drop location column\n",
    "crime_dc.drop('location', axis=1, inplace=True)\n",
    "\n",
    "#Repositioning longitude near latitude for easier analysis\n",
    "column_to_move = crime_dc.pop(\"longitude\")\n",
    "crime_dc.insert(len(crime_dc.columns), \"longitude\", column_to_move)\n",
    "\n",
    "# Drop 'year' columns\n",
    "crime_dc.drop(columns=['year'],inplace=True)\n",
    "\n",
    "#convert ward to type int\n",
    "crime_dc['ward'] = crime_dc['ward'].astype(int)"
   ]
  },
  {
   "cell_type": "markdown",
   "id": "11a26a12-e11a-4a2c-bcb1-d20f031d83ad",
   "metadata": {},
   "source": [
    "Additionally, we have removed the \"year\" column because we already identified that the year of each crime is all the same (2023). Also, the year of the crime appears in the start and end date columns. Therefore, the \"year\" column has been be removed.\n",
    "\n",
    "The ward data was in float format, so to allow for future merging between datasets, we have chosen to standardize the ward values to all be integers.\n",
    "\n",
    "Now that https://planning.dc.gov/whatsmywardhttps://planning.dc.gov/whatsmywardour data has been prepared and cleaned, we are able to explore the various geographic indicators in our data set. The following code will describe how many of these indicators (wards, districts, neighborhood clusters, voting precincts, blocks, and block groups) are in Washington D.C."
   ]
  },
  {
   "cell_type": "code",
   "execution_count": 220,
   "id": "b932914f-1401-4db7-afde-16b82fecc047",
   "metadata": {
    "tags": []
   },
   "outputs": [
    {
     "name": "stdout",
     "output_type": "stream",
     "text": [
      "Number of wards: 8\n",
      "Number of districts: 7\n",
      "Number of neighborhood clusters: 46\n",
      "Number of voting precincts:144\n",
      "Number of blocks:7334\n",
      "Number of block groups: 568\n"
     ]
    }
   ],
   "source": [
    "# Determining the number of wards, districts, and neighborhood clusters in Washington D.C.\n",
    "print(f'Number of wards: {crime_dc.ward.nunique():.0f}\\nNumber of districts: {crime_dc.district.nunique()}\\nNumber of neighborhood clusters: {crime_dc.neighborhood_cluster.nunique()}\\nNumber of voting precincts:{crime_dc.voting_precinct.nunique()}\\nNumber of blocks:{crime_dc.block.nunique()}\\nNumber of block groups: {crime_dc.block_group.nunique()}')"
   ]
  },
  {
   "cell_type": "markdown",
   "id": "0a53d5e3-d969-4f2c-a88e-ed06af3fb37d",
   "metadata": {},
   "source": [
    "<h3 style=\"color:SlateBlue\">EDA of Variables Related to the Recored Crimes</h3>\n",
    "\n",
    "<h4>Crimes by Offense Type</h4>\n",
    "There are various types of offenses within the data set, and it would be helpful to see how these crime types are distributed within the data. The following visualization will display what sorts of crimes comprised the majority and minority of incidents within D.C. in 2023."
   ]
  },
  {
   "cell_type": "code",
   "execution_count": 221,
   "id": "8880fed5-8242-417d-acc6-3587ef2a426b",
   "metadata": {
    "tags": []
   },
   "outputs": [
    {
     "data": {
      "text/plain": [
       "ARSON                            9\n",
       "SEX ABUSE                      123\n",
       "HOMICIDE                       214\n",
       "BURGLARY                       821\n",
       "ASSAULT W/DANGEROUS WEAPON    1110\n",
       "ROBBERY                       2668\n",
       "MOTOR VEHICLE THEFT           5429\n",
       "THEFT F/AUTO                  5880\n",
       "THEFT/OTHER                   9837\n",
       "Name: offense, dtype: int64"
      ]
     },
     "execution_count": 221,
     "metadata": {},
     "output_type": "execute_result"
    }
   ],
   "source": [
    "# Grouping crimes by their offense type and arranging them from highest frequency to lowest frequency\n",
    "crime_count=crime_dc['offense'].value_counts().sort_values(ascending=True)\n",
    "crime_count"
   ]
  },
  {
   "cell_type": "markdown",
   "id": "410046f6-f8ca-4861-8b05-579a244258d2",
   "metadata": {},
   "source": [
    "We observe that \"theft/other\" comprises the majority of crime reports in D.C., with 9,837 reports of theft/other in 2023. On the contrary, arson was the least reported crime, with only 9 incidents of arson reported.\n",
    "\n",
    "<h4>Crimes by Ward</h4>\n",
    "The amount of crime between each ward can be compared to understand how there may be geographic differences in the incidence of crime."
   ]
  },
  {
   "cell_type": "code",
   "execution_count": 222,
   "id": "25f79558-5136-4612-a4ee-a8fe38a6e109",
   "metadata": {
    "tags": []
   },
   "outputs": [
    {
     "data": {
      "text/plain": [
       "3    1510\n",
       "4    2292\n",
       "8    3021\n",
       "6    3315\n",
       "7    3597\n",
       "1    3890\n",
       "2    4060\n",
       "5    4406\n",
       "Name: ward, dtype: int64"
      ]
     },
     "execution_count": 222,
     "metadata": {},
     "output_type": "execute_result"
    }
   ],
   "source": [
    "# Grouping crimes by ward and arranging them from highest frequency to lowest frequency\n",
    "crime_dc['ward'].value_counts().sort_values(ascending=True)"
   ]
  },
  {
   "cell_type": "markdown",
   "id": "a2688415-5137-456c-95a0-24e7b5ae26f6",
   "metadata": {
    "tags": []
   },
   "source": [
    "For the number of crimes by ward, ward 5 had the most number of crimes reported (4,406), while ward 3 had the least number of crimes reported (1,510)."
   ]
  },
  {
   "cell_type": "markdown",
   "id": "fc19767c-b2f1-437e-aeab-7544407a5250",
   "metadata": {},
   "source": [
    "<h3 style=\"color:SlateBlue\">2. Socio Economic Characterstics Dataset</h3>\n",
    "\n",
    "The dataset under investigation contains economic indicators for various wards in the District of Columbia. It offers a comprehensive view of economic factors such as income, employment rates, poverty levels, and more, enabling a detailed analysis of the region's economic landscape."
   ]
  },
  {
   "cell_type": "code",
   "execution_count": 223,
   "id": "e5ea6ecd-b24f-4840-bf9a-d974cca578b6",
   "metadata": {
    "tags": []
   },
   "outputs": [],
   "source": [
    "socio_economic_df=pd.read_csv(r'ACS_Economic_Characteristics_DC_Ward.csv')"
   ]
  },
  {
   "cell_type": "code",
   "execution_count": 224,
   "id": "9be3bfb3-532a-4980-b465-4fd419ba8851",
   "metadata": {
    "tags": []
   },
   "outputs": [
    {
     "name": "stdout",
     "output_type": "stream",
     "text": [
      "0\n",
      "There are 8 observations  and 145 variables in in the socio economic characterstic dataset\n"
     ]
    }
   ],
   "source": [
    "print(socio_economic_df.isnull().sum().sum())\n",
    "print(f\"There are {socio_economic_df.shape[0]} observations  and {socio_economic_df.shape[1]} variables in in the socio economic characterstic dataset\")"
   ]
  },
  {
   "cell_type": "markdown",
   "id": "34a0d99c-c461-4b23-8541-1d557c85afea",
   "metadata": {},
   "source": [
    "This dataset contains **8 rows** and **145 columns**. Rows represent specific data points, while columns cover various socio-economic factors and characteristics. The dataset offers a wealth of information for in-depth analysis, allowing us to explore patterns, trends, and relationships in the socio-economic context. There are also no null values in our socio economic dataset.\n",
    "\n",
    "#### Unique Ward Names in Washington D.C.\n",
    "\n",
    "Here we will explore the unique ward names found in the 'NAMELSAD' column of the `socio_economic_df` DataFrame. These ward names correspond to the geographic regions or administrative divisions in the dataset. Let's start by obtaining and displaying the unique ward names."
   ]
  },
  {
   "cell_type": "code",
   "execution_count": 225,
   "id": "32cdc688-b707-4d02-b9b9-6e85d7534179",
   "metadata": {
    "tags": []
   },
   "outputs": [
    {
     "data": {
      "text/plain": [
       "array(['Ward 1', 'Ward 2', 'Ward 3', 'Ward 4', 'Ward 5', 'Ward 6',\n",
       "       'Ward 7', 'Ward 8'], dtype=object)"
      ]
     },
     "execution_count": 225,
     "metadata": {},
     "output_type": "execute_result"
    }
   ],
   "source": [
    "socio_economic_df.NAMELSAD.unique()"
   ]
  },
  {
   "cell_type": "markdown",
   "id": "e1741e1a-a56e-431b-9d07-ddf925caf6ca",
   "metadata": {},
   "source": [
    "#### Population statistics\n",
    "This analysis looks at how the total population (DP03_0001E) relates to crime data. We use descriptive statistics like mean, median, and standard deviation to understand how the size of the population affects crime. Knowing this helps us calculate crime rates, distribute resources wisely, and plan effective crime prevention strategies. By combining these insights with crime data, we make informed decisions for community safety. This analysis helps policymakers understand the connection between population size and crime in a straightforward way."
   ]
  },
  {
   "cell_type": "code",
   "execution_count": 226,
   "id": "c1455fee-2d2a-4433-85fe-89c8720a3645",
   "metadata": {
    "tags": []
   },
   "outputs": [
    {
     "name": "stdout",
     "output_type": "stream",
     "text": [
      "Mean: 71051\n",
      "Median: 70786\n",
      "Standard Deviation: 4293\n",
      "Minimum:64107\n",
      "Maximum:79049\n"
     ]
    }
   ],
   "source": [
    "min_value = socio_economic_df[\"DP03_0001E\"].min()\n",
    "max_value = socio_economic_df[\"DP03_0001E\"].max()\n",
    "mean_value = socio_economic_df[\"DP03_0001E\"].mean()\n",
    "median_value = socio_economic_df[\"DP03_0001E\"].median()\n",
    "std_deviation = socio_economic_df[\"DP03_0001E\"].std()\n",
    "print(f\"Mean: {mean_value:.0f}\\nMedian: {median_value:.0f}\\nStandard Deviation: {std_deviation:.0f}\\nMinimum:{min_value:.0f}\\nMaximum:{max_value:.0f}\")"
   ]
  },
  {
   "cell_type": "markdown",
   "id": "daecddba-4806-47e1-9788-6352ac0541d1",
   "metadata": {},
   "source": [
    "##### Observations from descriptive statistics\n",
    "The average population for all wards is about 71,050 residents, with a median of 70,786 residents, showing a balanced population distribution. The standard deviation of approximately 4293 residents, which indicates a reasonable variation in population sizes among the wards. The smallest ward has a population of 64,107 residents (in ward 8), while the largest has 79,049 residents (ward 2).\n",
    "\n",
    "#### Unemployment Statistics\n",
    "Studying unemployment alongside crime data helps us understand how joblessness relates to criminal activity. "
   ]
  },
  {
   "cell_type": "code",
   "execution_count": 227,
   "id": "3e605f62-bd33-4e5d-a9ef-f17ad58110a4",
   "metadata": {
    "tags": []
   },
   "outputs": [
    {
     "name": "stdout",
     "output_type": "stream",
     "text": [
      "Mean: 26159\n",
      "Median: 26049\n",
      "Standard Deviation: 2379\n",
      "Minimum:22938\n",
      "Maximum:29560\n"
     ]
    }
   ],
   "source": [
    "min_value=    socio_economic_df[\"DP03_0011E\"].min()\n",
    "max_value=    socio_economic_df[\"DP03_0011E\"].max()\n",
    "mean_value = socio_economic_df[\"DP03_0011E\"].mean()\n",
    "median_value = socio_economic_df[\"DP03_0011E\"].median()\n",
    "std_deviation = socio_economic_df[\"DP03_0011E\"].std()\n",
    "print(f\"Mean: {mean_value:.0f}\\nMedian: {median_value:.0f}\\nStandard Deviation: {std_deviation:.0f}\\nMinimum:{min_value:.0f}\\nMaximum:{max_value:.0f}\")"
   ]
  },
  {
   "cell_type": "markdown",
   "id": "1bec6f77-cb02-4149-afcf-d0f24e5d3d62",
   "metadata": {},
   "source": [
    "#### Observations from descriptive statistics \n",
    "The average size of the unemployed population across all wards is approximately 26,159 residents, with a median of 26,049 residents. The standard deviation of approximately 2,379 indicates a moderate level of variability in unemployment rates among the wards. As demonstrated by the bar chart, the minimum unemployed population corresponds to ward 8 with 22,938 residents, while the maximum unemployed population corresponds to Ward 1 with 29,560 residents.\n",
    "\n",
    "#### Statistics of Median Family income\n",
    "Analyzing the median family income across all wards in a crime dataset is vital for understanding economic dynamics and their impact on criminal patterns. "
   ]
  },
  {
   "cell_type": "code",
   "execution_count": 228,
   "id": "3f7a751c-c284-4f0d-961c-4190f93b9f15",
   "metadata": {
    "tags": []
   },
   "outputs": [
    {
     "name": "stdout",
     "output_type": "stream",
     "text": [
      "Mean: $64739.38\n",
      "Median: $65583.00\n",
      "Standard Deviation: $26549.79\n",
      "Minimum:$30412.00\n",
      "Maximum:$102050.00\n"
     ]
    }
   ],
   "source": [
    "min_value=    socio_economic_df[\"DP03_0088E\"].min()\n",
    "max_value=    socio_economic_df[\"DP03_0088E\"].max()\n",
    "mean_value = socio_economic_df[\"DP03_0088E\"].mean()\n",
    "median_value = socio_economic_df[\"DP03_0088E\"].median()\n",
    "std_deviation = socio_economic_df[\"DP03_0088E\"].std()\n",
    "print(f\"Mean: ${mean_value:.2f}\\nMedian: ${median_value:.2f}\\nStandard Deviation: ${std_deviation:.2f}\\nMinimum:${min_value:.2f}\\nMaximum:${max_value:.2f}\")"
   ]
  },
  {
   "cell_type": "markdown",
   "id": "4a2e7b2d-54ad-4974-bd96-1c4c760a9efb",
   "metadata": {},
   "source": [
    "#### Observations from Statistical analysis of Median Income\n",
    "<p>The analysis of median income across all wards reveals a diverse economic landscape. With a mean of 64,739 and a median of 65,583, there exists significant variability, ranging from 30,412 to 102,050. This suggests notable income disparities among wards, with potential socio-economic struggles in areas below the mean.</p>\n",
    "\n",
    "### Cleaning the dataset\n",
    "\n",
    "In our crime data analysis, we have chosen specific columns, namely 'NAMELSAD,' 'DP03_0001E,' 'DP03_0011E,' 'DP03_0088E,' and 'DP03_0115E,' for exploration.\n",
    "- 'NAMELSAD' is critical for identifying the legal and statistical area, providing context to crime patterns.\n",
    "- 'DP03_0001E' (total population) serves as a foundational demographic metric\n",
    "- 'DP03_0011E' (unemployment rate) offers insights into economic stability, a potential influencer of crime.\n",
    "- 'DP03_0088E' (median family income) provides socio-economic context, aiding in understanding community prosperity or challenges.\n",
    "- 'DP03_0115E' (health insurance coverage) is crucial for assessing public health aspects, influencing both crime rates and community resilience.\n",
    "\n",
    "These selected columns collectively offer a comprehensive socio-economic overview, enabling a nuanced analysis of crime patterns and aiding in the formulation of targeted interventions and policies."
   ]
  },
  {
   "cell_type": "code",
   "execution_count": 229,
   "id": "646a73dc-4618-4ad4-885a-b4fbd431a77c",
   "metadata": {
    "tags": []
   },
   "outputs": [],
   "source": [
    "li = ['NAMELSAD', 'DP03_0001E', 'DP03_0011E', 'DP03_0088E', 'DP03_0115E']\n",
    "for i in socio_economic_df.columns:\n",
    "    if i not in li:\n",
    "        socio_economic_df.drop(columns = [i], inplace  = True)\n",
    "        \n",
    "# Renaming columns for clarity and consistency\n",
    "socio_economic_df = socio_economic_df.rename(columns={\n",
    "    'NAMELSAD': 'ward',\n",
    "    'DP03_0001E': 'tot_pop',\n",
    "    'DP03_0011E': 'unemp_pop',\n",
    "    'DP03_0088E': 'Median_family_income($)',\n",
    "    'DP03_0115E': 'unemp_pop_no_health_insurance_coverage'\n",
    "})\n",
    "\n",
    "# Splitting the 'WARD' column based on space (' ') and creating two new columns ('New_Col' and 'WARD')\n",
    "# The result is expanded into two separate columns in the DataFrame\n",
    "socio_economic_df[['New_Col', 'ward']] = socio_economic_df['ward'].str.split(' ', n=1, expand=True)\n",
    "\n",
    "#converting ward to float type to maintain consistency with main dataset\n",
    "socio_economic_df['ward'] = socio_economic_df['ward'].astype(int)\n",
    "\n",
    "# Dropping the temporary 'New_Col' column\n",
    "# This column was created during a previous operation and is no longer needed for our analysis.\n",
    "socio_economic_df = socio_economic_df.drop(columns=['New_Col'])"
   ]
  },
  {
   "cell_type": "markdown",
   "id": "764ebaca-cd1e-4b39-9661-cd51716b9360",
   "metadata": {},
   "source": [
    "This cleaning process significantly reduces the dimensionality of the dataset, focusing only on the key socio-economic indicators relevant to our crime data analysis. The cleaned DataFrame is now ready for further exploration and integration with the crime dataset.\n",
    "This streamlined approach enhances the efficiency of our analysis and ensures that we are working with a dataset tailored to the specific needs of our crime data project.\n",
    "\n",
    "<h4 style=\"color:SlateBlue\">Merging with crime dataset</h4>\n",
    "\n",
    "Now that we have cleaned and processed our dataset, we can merge it with the crime dataset. Here, we are merging on 'ward' column."
   ]
  },
  {
   "cell_type": "code",
   "execution_count": 230,
   "id": "37fa74be-2100-4be6-826a-42612bce4381",
   "metadata": {
    "tags": []
   },
   "outputs": [
    {
     "data": {
      "text/plain": [
       "Index(['neighborhood_cluster', 'offense_group', 'census_tract', 'end_date',\n",
       "       'offense_text', 'shift', 'district', 'yblock', 'ward', 'offensekey',\n",
       "       'sector', 'psa', 'ucr_rank', 'block_group', 'voting_precinct', 'xblock',\n",
       "       'block', 'start_date', 'ccn', 'offense', 'anc', 'report_date', 'method',\n",
       "       'latitude', 'longitude', 'tot_pop', 'unemp_pop',\n",
       "       'Median_family_income($)', 'unemp_pop_no_health_insurance_coverage'],\n",
       "      dtype='object')"
      ]
     },
     "execution_count": 230,
     "metadata": {},
     "output_type": "execute_result"
    }
   ],
   "source": [
    "crime_dc = crime_dc.merge(socio_economic_df, on='ward')\n",
    "crime_dc.columns"
   ]
  },
  {
   "cell_type": "markdown",
   "id": "bdba0972-139c-43ee-aa8d-684ef99c50e1",
   "metadata": {},
   "source": [
    "Our dataset is now prepared with socioeconomic factors based on ward."
   ]
  },
  {
   "cell_type": "markdown",
   "id": "52882243-a23c-42e5-a174-81c09c9e64ed",
   "metadata": {
    "tags": []
   },
   "source": [
    "<h3 style=\"color:SlateBlue\">3. Liquor Dataset</h3>"
   ]
  },
  {
   "cell_type": "code",
   "execution_count": 231,
   "id": "4a3f29f8-6f5c-45b1-adf3-0222fbff23f8",
   "metadata": {
    "tags": []
   },
   "outputs": [],
   "source": [
    "#loading data\n",
    "liquor_data = pd.read_csv('Liquor_Licenses.csv')"
   ]
  },
  {
   "cell_type": "code",
   "execution_count": 232,
   "id": "ac90cf35-66d5-408b-b22a-3dfcacdeecc3",
   "metadata": {
    "tags": []
   },
   "outputs": [
    {
     "name": "stdout",
     "output_type": "stream",
     "text": [
      "There are 2300 licenses in this DC liquor dataset.\n",
      "There are 41 variables in the DC liquor dataset.\n"
     ]
    }
   ],
   "source": [
    "print(f'There are {(liquor_data.shape[0])} licenses in this DC liquor dataset.')# Determine the number of liquor licesnes in DC\n",
    "print(f'There are {(liquor_data.shape[1])} variables in the DC liquor dataset.')# Determine the variables from the Liquor Dataset"
   ]
  },
  {
   "cell_type": "code",
   "execution_count": 233,
   "id": "65755996-3f68-4109-a925-4f3f44fb44dc",
   "metadata": {
    "tags": []
   },
   "outputs": [
    {
     "name": "stdout",
     "output_type": "stream",
     "text": [
      "<class 'pandas.core.frame.DataFrame'>\n",
      "RangeIndex: 2300 entries, 0 to 2299\n",
      "Data columns (total 41 columns):\n",
      " #   Column             Non-Null Count  Dtype  \n",
      "---  ------             --------------  -----  \n",
      " 0   X                  2300 non-null   float64\n",
      " 1   Y                  2300 non-null   float64\n",
      " 2   LICENSE            2300 non-null   object \n",
      " 3   APPLICANT          2300 non-null   object \n",
      " 4   TRADE_NAME         2300 non-null   object \n",
      " 5   CLASS              2300 non-null   object \n",
      " 6   ADDRESS            2300 non-null   object \n",
      " 7   ZIPCODE            2300 non-null   int64  \n",
      " 8   WARD               2300 non-null   object \n",
      " 9   ANC                2300 non-null   object \n",
      " 10  SMD                2300 non-null   object \n",
      " 11  STATUS             2300 non-null   object \n",
      " 12  TYPE               2300 non-null   object \n",
      " 13  BREW_PUB           10 non-null     object \n",
      " 14  ENTERTAINMENT      747 non-null    object \n",
      " 15  SALES_CONSUMPTION  16 non-null     object \n",
      " 16  SIDEWALK_CAFE      532 non-null    object \n",
      " 17  SUMMER_GARDEN      470 non-null    object \n",
      " 18  TASTING            280 non-null    object \n",
      " 19  WINE_PUB           6 non-null      object \n",
      " 20  COVERCHARGE        220 non-null    object \n",
      " 21  DANCING            267 non-null    object \n",
      " 22  OFFPREMISESTORAGE  37 non-null     object \n",
      " 23  STORAGEFACILITY    1 non-null      object \n",
      " 24  DISTILLERY_PUB     2 non-null      object \n",
      " 25  TOTAL_CAPACITY     1540 non-null   float64\n",
      " 26  GAMES_OF_SKILL     47 non-null     object \n",
      " 27  SPORTS_WAGGERING   19 non-null     object \n",
      " 28  CARRYOUT_DELIVERY  853 non-null    object \n",
      " 29  MAR_ID             2300 non-null   int64  \n",
      " 30  XCOORD             2300 non-null   float64\n",
      " 31  YCOORD             2300 non-null   float64\n",
      " 32  LONGITUDE          2300 non-null   float64\n",
      " 33  LATITUDE           2300 non-null   float64\n",
      " 34  GIS_ID             2300 non-null   object \n",
      " 35  GLOBALID           2300 non-null   object \n",
      " 36  CREATOR            2300 non-null   object \n",
      " 37  CREATED            2300 non-null   object \n",
      " 38  EDITOR             2300 non-null   object \n",
      " 39  EDITED             2300 non-null   object \n",
      " 40  OBJECTID           2300 non-null   int64  \n",
      "dtypes: float64(7), int64(3), object(31)\n",
      "memory usage: 736.8+ KB\n"
     ]
    }
   ],
   "source": [
    "# Determine the variables from the Liquor Dataset\n",
    "liquor_data.info()"
   ]
  },
  {
   "cell_type": "markdown",
   "id": "6fa580d6-d5e5-4de3-8494-c3b8628b097b",
   "metadata": {},
   "source": [
    "#### Data Overview:\n",
    "- Refering the above analysis, the Washington D.C. liquor license data contains 2300 entries and 41 columns. The data includes information about the liquor license holder, the type of license, the address of the establishment, and the geographic coordinates of the establishment.\n",
    "#### Data Types:\n",
    "- Float: X, Y, Total Capacity, Longitude, and Latitude.\n",
    "- Integer: Zipcode, Mar_id, ObjectID.\n",
    "- Rest all of the entries are of object datatype.\n",
    "#### Geographic Information:\n",
    "The data contains the following geographic information about the liquor license establishments:\n",
    "- Ward\n",
    "- Longitude\n",
    "- Latitude"
   ]
  },
  {
   "cell_type": "code",
   "execution_count": 234,
   "id": "b4de4e21-7c81-440d-91df-af9c384e6877",
   "metadata": {
    "tags": []
   },
   "outputs": [
    {
     "data": {
      "text/plain": [
       "Restaurant                     932\n",
       "Tavern                         431\n",
       "Retail - Liquor Store          217\n",
       "Retail - Grocery               115\n",
       "Caterer                        108\n",
       "Hotel                          107\n",
       "Retail-Full Service Grocery     55\n",
       "Internet                        48\n",
       "Wholesaler                      44\n",
       "Nightclub                       42\n",
       "Multipurpose                    42\n",
       "Retail - Class B                37\n",
       "Retail-Liquor Store             27\n",
       "25 Percent                      25\n",
       "Club                            22\n",
       "Manufacturer                    18\n",
       "Marine Vessel                   11\n",
       "Beer and Wine                   10\n",
       "Retail-Class B                   4\n",
       "Arena                            2\n",
       "Bed and Breakfast                2\n",
       "Railroad                         1\n",
       "Name: TYPE, dtype: int64"
      ]
     },
     "execution_count": 234,
     "metadata": {},
     "output_type": "execute_result"
    }
   ],
   "source": [
    "liquor_data['TYPE'].value_counts().sort_values(ascending = False)# Determine where the licenses are distributed"
   ]
  },
  {
   "cell_type": "markdown",
   "id": "d5c25095-853d-4a92-9450-15044dbf274c",
   "metadata": {},
   "source": [
    "#### Upon looking at the above analysis,\n",
    "#### Observervations:\n",
    "- The most common plcaces where the liquor licences are distributed are Restaurants, followed by Tavern, and Reatail - Liquor Store.\n",
    "- The top 10 places that hold liquor license account for 77% of all liquor licenses.\n",
    "\n",
    "#### Inferences:\n",
    "- There might be a strong demand for alcohol in Washinton DC as evidenced by high number of Restaurants, Reatil Stores, etc.\n",
    "- The alochol market in Washington DC can be concentrated as the top 10 places holding the liquor licenses account for 77%."
   ]
  },
  {
   "cell_type": "code",
   "execution_count": 235,
   "id": "114ee1f2-cfb4-46e5-9fe9-bb5c9f570991",
   "metadata": {
    "tags": []
   },
   "outputs": [
    {
     "data": {
      "text/plain": [
       "Ward 2    827\n",
       "Ward 6    376\n",
       "Ward 1    337\n",
       "Ward 5    266\n",
       "Ward 3    201\n",
       "Ward 4    129\n",
       "Ward 8    104\n",
       "Ward 7     60\n",
       "Name: WARD, dtype: int64"
      ]
     },
     "execution_count": 235,
     "metadata": {},
     "output_type": "execute_result"
    }
   ],
   "source": [
    "liquor_data['WARD'].value_counts(ascending=False)"
   ]
  },
  {
   "cell_type": "markdown",
   "id": "77fea75e-a29b-4781-8cc2-c5e161dbcab1",
   "metadata": {},
   "source": [
    "#### Observations:\n",
    "- The number of liquor licenses in Washinton DC varies significantly from ward to ward. Ward 2 has the most liquor licenses, with over 800, while Ward 7 has the fewest, with only 60.\n",
    "- Number of liquor licenses in most wards is between 200 and 400 as Ward 1, 3, 4, and 5 are all within this range.\n",
    "#### Inferences:\n",
    "- Ward 7 maybe a residential area because there are low number of liquor licenses in this ward which suggests that there are fewer businesses that sell alcohol in this area.\n",
    "- Ward 1, 2 and 6 might have a higher concentration of nightlife. The high number of liquor licenses in these wards convey that there can be a larger number of bars and clubs in these areas.\n",
    "\n",
    "### Data Cleaning\n",
    "This dataset contains information about liquor licenses in Washington DC. The data includes the type of license, the name of the license holder, the address of the establishment, and other details."
   ]
  },
  {
   "cell_type": "code",
   "execution_count": 236,
   "id": "2414e88f-8f92-4db2-b3df-efb890157b06",
   "metadata": {
    "tags": []
   },
   "outputs": [
    {
     "name": "stdout",
     "output_type": "stream",
     "text": [
      "There are no duplicate rows in Liquor dataset.\n"
     ]
    }
   ],
   "source": [
    "# Determine if there are any duplicates in the liquor dataset\n",
    "duplicates = liquor_data.duplicated()\n",
    "if duplicates.any():\n",
    "    print('There are duplicate rows in Liquor dataset')\n",
    "    duplicate_rows = liquor_data[duplicates]\n",
    "    print(duplicate_rows)\n",
    "else:\n",
    "    print('There are no duplicate rows in Liquor dataset.')"
   ]
  },
  {
   "cell_type": "code",
   "execution_count": 237,
   "id": "2b35e51d-f6cb-41c6-b347-81ce9bd8417f",
   "metadata": {
    "tags": []
   },
   "outputs": [
    {
     "data": {
      "text/html": [
       "<div>\n",
       "<style scoped>\n",
       "    .dataframe tbody tr th:only-of-type {\n",
       "        vertical-align: middle;\n",
       "    }\n",
       "\n",
       "    .dataframe tbody tr th {\n",
       "        vertical-align: top;\n",
       "    }\n",
       "\n",
       "    .dataframe thead th {\n",
       "        text-align: right;\n",
       "    }\n",
       "</style>\n",
       "<table border=\"1\" class=\"dataframe\">\n",
       "  <thead>\n",
       "    <tr style=\"text-align: right;\">\n",
       "      <th></th>\n",
       "      <th>liquor_store_name</th>\n",
       "      <th>ward</th>\n",
       "      <th>liquor_store_zip</th>\n",
       "      <th>liquor_store_longitude</th>\n",
       "      <th>liquor_store_latitude</th>\n",
       "      <th>liquor_store_type</th>\n",
       "    </tr>\n",
       "  </thead>\n",
       "  <tbody>\n",
       "    <tr>\n",
       "      <th>0</th>\n",
       "      <td>R Street Restaurant Corporation</td>\n",
       "      <td>2</td>\n",
       "      <td>20009</td>\n",
       "      <td>-77.045097</td>\n",
       "      <td>38.912999</td>\n",
       "      <td>Restaurant</td>\n",
       "    </tr>\n",
       "    <tr>\n",
       "      <th>1</th>\n",
       "      <td>MPE Hotel I (Washington), LLC</td>\n",
       "      <td>2</td>\n",
       "      <td>20037</td>\n",
       "      <td>-77.049070</td>\n",
       "      <td>38.904519</td>\n",
       "      <td>Hotel</td>\n",
       "    </tr>\n",
       "    <tr>\n",
       "      <th>2</th>\n",
       "      <td>Lim Enterprises, Corp</td>\n",
       "      <td>2</td>\n",
       "      <td>20004</td>\n",
       "      <td>-77.031695</td>\n",
       "      <td>38.896525</td>\n",
       "      <td>Retail - Liquor Store</td>\n",
       "    </tr>\n",
       "    <tr>\n",
       "      <th>3</th>\n",
       "      <td>A &amp; M, Inc.</td>\n",
       "      <td>1</td>\n",
       "      <td>20010</td>\n",
       "      <td>-77.021168</td>\n",
       "      <td>38.936854</td>\n",
       "      <td>Retail - Class B</td>\n",
       "    </tr>\n",
       "    <tr>\n",
       "      <th>4</th>\n",
       "      <td>Aaron C. Dutton</td>\n",
       "      <td>2</td>\n",
       "      <td>20009</td>\n",
       "      <td>-77.045207</td>\n",
       "      <td>38.911315</td>\n",
       "      <td>Manufacturer</td>\n",
       "    </tr>\n",
       "    <tr>\n",
       "      <th>...</th>\n",
       "      <td>...</td>\n",
       "      <td>...</td>\n",
       "      <td>...</td>\n",
       "      <td>...</td>\n",
       "      <td>...</td>\n",
       "      <td>...</td>\n",
       "    </tr>\n",
       "    <tr>\n",
       "      <th>2295</th>\n",
       "      <td>YOF Store 1, LLC</td>\n",
       "      <td>2</td>\n",
       "      <td>20001</td>\n",
       "      <td>-77.024192</td>\n",
       "      <td>38.904804</td>\n",
       "      <td>Tavern</td>\n",
       "    </tr>\n",
       "    <tr>\n",
       "      <th>2296</th>\n",
       "      <td>Baja Tap DC, LLC</td>\n",
       "      <td>1</td>\n",
       "      <td>20009</td>\n",
       "      <td>-77.042650</td>\n",
       "      <td>38.921537</td>\n",
       "      <td>Tavern</td>\n",
       "    </tr>\n",
       "    <tr>\n",
       "      <th>2297</th>\n",
       "      <td>Gmichael, LLC</td>\n",
       "      <td>8</td>\n",
       "      <td>20020</td>\n",
       "      <td>-76.971321</td>\n",
       "      <td>38.847586</td>\n",
       "      <td>Retail - Class B</td>\n",
       "    </tr>\n",
       "    <tr>\n",
       "      <th>2298</th>\n",
       "      <td>T&amp;U LLC</td>\n",
       "      <td>2</td>\n",
       "      <td>20007</td>\n",
       "      <td>-77.059678</td>\n",
       "      <td>38.910355</td>\n",
       "      <td>Retail - Class B</td>\n",
       "    </tr>\n",
       "    <tr>\n",
       "      <th>2299</th>\n",
       "      <td>Cocineros, LLC</td>\n",
       "      <td>8</td>\n",
       "      <td>20003</td>\n",
       "      <td>-76.994683</td>\n",
       "      <td>38.877322</td>\n",
       "      <td>Restaurant</td>\n",
       "    </tr>\n",
       "  </tbody>\n",
       "</table>\n",
       "<p>2300 rows × 6 columns</p>\n",
       "</div>"
      ],
      "text/plain": [
       "                    liquor_store_name  ward  liquor_store_zip  \\\n",
       "0     R Street Restaurant Corporation     2             20009   \n",
       "1       MPE Hotel I (Washington), LLC     2             20037   \n",
       "2               Lim Enterprises, Corp     2             20004   \n",
       "3                         A & M, Inc.     1             20010   \n",
       "4                     Aaron C. Dutton     2             20009   \n",
       "...                               ...   ...               ...   \n",
       "2295                 YOF Store 1, LLC     2             20001   \n",
       "2296                 Baja Tap DC, LLC     1             20009   \n",
       "2297                    Gmichael, LLC     8             20020   \n",
       "2298                          T&U LLC     2             20007   \n",
       "2299                   Cocineros, LLC     8             20003   \n",
       "\n",
       "      liquor_store_longitude  liquor_store_latitude      liquor_store_type  \n",
       "0                 -77.045097              38.912999             Restaurant  \n",
       "1                 -77.049070              38.904519                  Hotel  \n",
       "2                 -77.031695              38.896525  Retail - Liquor Store  \n",
       "3                 -77.021168              38.936854       Retail - Class B  \n",
       "4                 -77.045207              38.911315           Manufacturer  \n",
       "...                      ...                    ...                    ...  \n",
       "2295              -77.024192              38.904804                 Tavern  \n",
       "2296              -77.042650              38.921537                 Tavern  \n",
       "2297              -76.971321              38.847586       Retail - Class B  \n",
       "2298              -77.059678              38.910355       Retail - Class B  \n",
       "2299              -76.994683              38.877322             Restaurant  \n",
       "\n",
       "[2300 rows x 6 columns]"
      ]
     },
     "execution_count": 237,
     "metadata": {},
     "output_type": "execute_result"
    }
   ],
   "source": [
    "# Filter the dataframe to make it compatible with other datasets\n",
    "liquor_data = liquor_data[['APPLICANT','WARD', 'ZIPCODE', 'LONGITUDE', 'LATITUDE', 'TYPE']]\n",
    "liquor_data[['New_Col', 'WARD']] = liquor_data['WARD'].str.split(' ', n=1, expand=True)\n",
    "liquor_data.rename(columns={\n",
    "    'WARD' : 'ward',\n",
    "    'ZIPCODE': 'liquor_store_zip',\n",
    "    'LONGITUDE': 'liquor_store_longitude',\n",
    "    'LATITUDE': 'liquor_store_latitude',\n",
    "    'TYPE': 'liquor_store_type',\n",
    "    'APPLICANT':'liquor_store_name'\n",
    "     }, inplace=True)\n",
    "liquor_data = liquor_data.drop(columns=['New_Col'])# Dropping the temporary 'New_Col' column\n",
    "liquor_data['ward'] = liquor_data['ward'].astype(int) #to standardize\n",
    "liquor_data"
   ]
  },
  {
   "cell_type": "markdown",
   "id": "601c2fee-9a6e-4b5b-81df-9336e18cb0b3",
   "metadata": {},
   "source": [
    "The distribution of liquor stores across Washington D.C. is demonstrated in the visualization below. To better understand where these stores are located, we have chosen a dynamic map that provides the ward number of a particular store when the user hovers over the marker."
   ]
  },
  {
   "cell_type": "code",
   "execution_count": 238,
   "id": "c0402334-5d43-433c-a70f-2c9c999bf4cf",
   "metadata": {
    "tags": []
   },
   "outputs": [
    {
     "name": "stdout",
     "output_type": "stream",
     "text": [
      "   ward  liquor_store_longitude  liquor_store_latitude  liquor_store_name\n",
      "0     1              -77.029934              38.922323                164\n",
      "1     2              -77.036612              38.905464                226\n",
      "2     3              -77.074269              38.939601                 37\n",
      "3     4              -77.024400              38.954998                 59\n",
      "4     5              -76.992037              38.917495                 96\n",
      "5     6              -77.002342              38.892318                122\n",
      "6     7              -76.947999              38.889079                 40\n",
      "7     8              -76.997205              38.861630                 46\n"
     ]
    }
   ],
   "source": [
    "liquor_stores = ['Retail - Liquor Store', 'Retail - Class B', 'Beer and Wine', 'Club', 'Tavern', 'Nightclub','Retail-Liquor Store', 'Retail-Class B']\n",
    "filtered_liquor_data = liquor_data[liquor_data['liquor_store_type'].isin(liquor_stores)]\n",
    "liquor_store_df = filtered_liquor_data.groupby('ward').agg({'liquor_store_longitude': 'mean', 'liquor_store_latitude': 'mean', 'liquor_store_name':'count'}).reset_index()\n",
    "print(liquor_store_df)"
   ]
  },
  {
   "cell_type": "code",
   "execution_count": 239,
   "id": "bbdbf9ff-e2d4-40e0-aeb6-004228e9f644",
   "metadata": {
    "tags": []
   },
   "outputs": [
    {
     "data": {
      "text/html": [
       "<div>\n",
       "<style scoped>\n",
       "    .dataframe tbody tr th:only-of-type {\n",
       "        vertical-align: middle;\n",
       "    }\n",
       "\n",
       "    .dataframe tbody tr th {\n",
       "        vertical-align: top;\n",
       "    }\n",
       "\n",
       "    .dataframe thead th {\n",
       "        text-align: right;\n",
       "    }\n",
       "</style>\n",
       "<table border=\"1\" class=\"dataframe\">\n",
       "  <thead>\n",
       "    <tr style=\"text-align: right;\">\n",
       "      <th></th>\n",
       "      <th>ward</th>\n",
       "      <th>liquor_store_longitude</th>\n",
       "      <th>liquor_store_latitude</th>\n",
       "      <th>liquor_store_count</th>\n",
       "    </tr>\n",
       "  </thead>\n",
       "  <tbody>\n",
       "    <tr>\n",
       "      <th>0</th>\n",
       "      <td>1</td>\n",
       "      <td>-77.029934</td>\n",
       "      <td>38.922323</td>\n",
       "      <td>164</td>\n",
       "    </tr>\n",
       "    <tr>\n",
       "      <th>1</th>\n",
       "      <td>2</td>\n",
       "      <td>-77.036612</td>\n",
       "      <td>38.905464</td>\n",
       "      <td>226</td>\n",
       "    </tr>\n",
       "    <tr>\n",
       "      <th>2</th>\n",
       "      <td>3</td>\n",
       "      <td>-77.074269</td>\n",
       "      <td>38.939601</td>\n",
       "      <td>37</td>\n",
       "    </tr>\n",
       "    <tr>\n",
       "      <th>3</th>\n",
       "      <td>4</td>\n",
       "      <td>-77.024400</td>\n",
       "      <td>38.954998</td>\n",
       "      <td>59</td>\n",
       "    </tr>\n",
       "    <tr>\n",
       "      <th>4</th>\n",
       "      <td>5</td>\n",
       "      <td>-76.992037</td>\n",
       "      <td>38.917495</td>\n",
       "      <td>96</td>\n",
       "    </tr>\n",
       "    <tr>\n",
       "      <th>5</th>\n",
       "      <td>6</td>\n",
       "      <td>-77.002342</td>\n",
       "      <td>38.892318</td>\n",
       "      <td>122</td>\n",
       "    </tr>\n",
       "    <tr>\n",
       "      <th>6</th>\n",
       "      <td>7</td>\n",
       "      <td>-76.947999</td>\n",
       "      <td>38.889079</td>\n",
       "      <td>40</td>\n",
       "    </tr>\n",
       "    <tr>\n",
       "      <th>7</th>\n",
       "      <td>8</td>\n",
       "      <td>-76.997205</td>\n",
       "      <td>38.861630</td>\n",
       "      <td>46</td>\n",
       "    </tr>\n",
       "  </tbody>\n",
       "</table>\n",
       "</div>"
      ],
      "text/plain": [
       "   ward  liquor_store_longitude  liquor_store_latitude  liquor_store_count\n",
       "0     1              -77.029934              38.922323                 164\n",
       "1     2              -77.036612              38.905464                 226\n",
       "2     3              -77.074269              38.939601                  37\n",
       "3     4              -77.024400              38.954998                  59\n",
       "4     5              -76.992037              38.917495                  96\n",
       "5     6              -77.002342              38.892318                 122\n",
       "6     7              -76.947999              38.889079                  40\n",
       "7     8              -76.997205              38.861630                  46"
      ]
     },
     "execution_count": 239,
     "metadata": {},
     "output_type": "execute_result"
    }
   ],
   "source": [
    "# Rename the 'stores' column to 'store_count'\n",
    "liquor_store_df = liquor_store_df.rename(columns={'liquor_store_name': 'liquor_store_count'})\n",
    "liquor_store_df"
   ]
  },
  {
   "cell_type": "markdown",
   "id": "f16098cf-28f6-4a22-9c24-660ad7f3f29f",
   "metadata": {},
   "source": [
    "<h4 style=\"color:SlateBlue\">Merging with crime dataset</h4>"
   ]
  },
  {
   "cell_type": "code",
   "execution_count": 240,
   "id": "306a018e-7f2a-42c4-95ab-f305bd228070",
   "metadata": {
    "tags": []
   },
   "outputs": [],
   "source": [
    "crime_dc = crime_dc.merge(liquor_store_df, on='ward')"
   ]
  },
  {
   "cell_type": "markdown",
   "id": "c7da7cf8-4ec1-40bc-b0c6-691793199389",
   "metadata": {},
   "source": [
    "<h3 style=\"color:SlateBlue\">4. Weather Dataset</h3>\n",
    "\n",
    "The dataset under consideration here, is the weather dataset for Washington DC, of the year 2023. Below we would clean and process the data and make it compatible to merge this with our main D.C crime dataset. An integration of these datasets will allow us to explore potential correlations between weather patterns, seasons and crime occurrences.\n",
    "\n",
    "This dataset provides a detailed account of various meteorological parameters, such as maximum and minimum temperatures, average temperature, departure from normal temperature, heating and cooling degree days, precipitation, new snowfall, and snow depth. These variables, when harmonized with crime data, can unveil insightful patterns and trends that contribute to a more comprehensive understanding of the factors influencing criminal activities.\n"
   ]
  },
  {
   "cell_type": "code",
   "execution_count": 241,
   "id": "35e8f061-7a5b-4078-b246-00c06d06bd4b",
   "metadata": {
    "tags": []
   },
   "outputs": [],
   "source": [
    "weather_data = pd.read_excel(r'2023 Weather Data.xlsx', sheet_name= list(range(0,10)))"
   ]
  },
  {
   "cell_type": "code",
   "execution_count": 242,
   "id": "a417560c-53d7-4cc2-85b0-2f472ac009bd",
   "metadata": {
    "tags": []
   },
   "outputs": [],
   "source": [
    "#For loop used for cleaning 1st two header columns\n",
    "for i in range(len(weather_data)):\n",
    "    if len(weather_data[i].columns)==11:\n",
    "        weather_data[i].drop(weather_data[i].columns[6], axis=1,inplace=True)\n",
    "    weather_data[i]=weather_data[i].iloc[:-3]\n",
    "    cols = ['Date_time','Max_Temp','Min_Temp', 'Avg', 'Departure', 'HDD', 'CDD', 'Precipitation', 'New Snow', 'Snow Depth']\n",
    "    weather_data[i].columns = cols\n",
    "    weather_data[i] = weather_data[i][2:].reset_index(drop = True)\n",
    "    \n",
    "#Concatenating individual dictionaries of dataframes monthly to come up with a dataframe having values from 2017 to 2023\n",
    "weather_data_concat = pd.concat(weather_data, ignore_index=True)\n",
    "columns_to_replace_T = ['Precipitation', 'New Snow', 'Snow Depth']\n",
    "for column in columns_to_replace_T:\n",
    "    weather_data_concat[column] = weather_data_concat[column].replace('T', 0)\n",
    "columns_to_replace_dash = ['Avg', 'Departure', 'HDD', 'CDD', 'Precipitation', 'New Snow', 'Snow Depth']  # Add your column names here\n",
    "for column in columns_to_replace_dash:\n",
    "    weather_data_concat[column] = weather_data_concat[column].replace('-', 0)"
   ]
  },
  {
   "cell_type": "markdown",
   "id": "56cbae35-da64-4ad2-8a5d-7ded56f2c835",
   "metadata": {},
   "source": [
    "Our initial steps involve cleaning and standardizing the structure of the weather dataset. Specifically, we addressed discrepancies in the header columns and streamline the data format. A meticulous cleaning process is essential to ensure accurate and meaningful insights when merged with the crime dataset. Over here we replaced 'T' value with 0 since a trace value in our case would be insignificant for our data analysis to explore potential correlations between weather patterns, and crime occurrences.\n",
    "\n",
    "### Descriptive Statistics\n",
    "Some of the important terminologies to consider:\n",
    "\n",
    "HDD: A metric used in meteorology and energy consumption analysis to quantify the demand for heating. The concept of Heating Degree Days is based on the idea that, during colder periods, buildings require heating to maintain a comfortable indoor temperature.\n",
    "\n",
    "CDD: A metric used to quantify the demand for cooling in a specific location during warm periods. It is particularly relevant in regions where air conditioning is a significant factor in energy consumption, especially during hot weather.\n",
    "\n",
    "### Summary of Statistics\n",
    "Here's a brief summary of the key statistics for the dataset:\n",
    "\n",
    "- **Count**: The dataset contains 331 records.\n",
    "- **Average Departure**: The average departure is 2.66, ranging from -13.6 to 21.4.\n",
    "- **Heating Degree Days (HDD)**: The mean HDD is 18.15, with a standard deviation of 81.51.\n",
    "- **Cooling Degree Days (CDD)**: The average CDD is 12.87, with a maximum of 491.\n",
    "- **Precipitation**: On average, there is 0.29 inches of precipitation, with a maximum of 6.84 inches.\n",
    "- **New Snow**: The mean new snowfall is 0.02 inches, ranging up to 4.9 inches.\n",
    "\n",
    "In summary, the data provides insights into temperature variations, heating and cooling degree days, precipitation, and snowfall over the given period. Eventually, this dataset is ready for merging with the D.C crime dataset in order to carry out further inferences on our objectives.\n"
   ]
  },
  {
   "cell_type": "code",
   "execution_count": 243,
   "id": "28322f55-a098-4519-8fb7-62f811a9cc19",
   "metadata": {
    "tags": []
   },
   "outputs": [
    {
     "data": {
      "text/html": [
       "<div>\n",
       "<style scoped>\n",
       "    .dataframe tbody tr th:only-of-type {\n",
       "        vertical-align: middle;\n",
       "    }\n",
       "\n",
       "    .dataframe tbody tr th {\n",
       "        vertical-align: top;\n",
       "    }\n",
       "\n",
       "    .dataframe thead th {\n",
       "        text-align: right;\n",
       "    }\n",
       "</style>\n",
       "<table border=\"1\" class=\"dataframe\">\n",
       "  <thead>\n",
       "    <tr style=\"text-align: right;\">\n",
       "      <th></th>\n",
       "      <th>Precipitation</th>\n",
       "      <th>New Snow</th>\n",
       "    </tr>\n",
       "  </thead>\n",
       "  <tbody>\n",
       "    <tr>\n",
       "      <th>count</th>\n",
       "      <td>301.000000</td>\n",
       "      <td>301.000000</td>\n",
       "    </tr>\n",
       "    <tr>\n",
       "      <th>mean</th>\n",
       "      <td>0.105947</td>\n",
       "      <td>0.001329</td>\n",
       "    </tr>\n",
       "    <tr>\n",
       "      <th>std</th>\n",
       "      <td>0.309041</td>\n",
       "      <td>0.023056</td>\n",
       "    </tr>\n",
       "    <tr>\n",
       "      <th>min</th>\n",
       "      <td>0.000000</td>\n",
       "      <td>0.000000</td>\n",
       "    </tr>\n",
       "    <tr>\n",
       "      <th>25%</th>\n",
       "      <td>0.000000</td>\n",
       "      <td>0.000000</td>\n",
       "    </tr>\n",
       "    <tr>\n",
       "      <th>50%</th>\n",
       "      <td>0.000000</td>\n",
       "      <td>0.000000</td>\n",
       "    </tr>\n",
       "    <tr>\n",
       "      <th>75%</th>\n",
       "      <td>0.020000</td>\n",
       "      <td>0.000000</td>\n",
       "    </tr>\n",
       "    <tr>\n",
       "      <th>max</th>\n",
       "      <td>1.970000</td>\n",
       "      <td>0.400000</td>\n",
       "    </tr>\n",
       "  </tbody>\n",
       "</table>\n",
       "</div>"
      ],
      "text/plain": [
       "       Precipitation    New Snow\n",
       "count     301.000000  301.000000\n",
       "mean        0.105947    0.001329\n",
       "std         0.309041    0.023056\n",
       "min         0.000000    0.000000\n",
       "25%         0.000000    0.000000\n",
       "50%         0.000000    0.000000\n",
       "75%         0.020000    0.000000\n",
       "max         1.970000    0.400000"
      ]
     },
     "execution_count": 243,
     "metadata": {},
     "output_type": "execute_result"
    }
   ],
   "source": [
    "weather_data_concat.describe()"
   ]
  },
  {
   "cell_type": "markdown",
   "id": "95a7a96a-d60f-4c80-b8c0-f2a822f0db7e",
   "metadata": {},
   "source": [
    "The two data sets will be merged based on recorded date. Since both data sets have different column names and data types for date data, we have 3 standardizing methods to allow for merging the tables:\n",
    "- Will only include date data (no time values)\n",
    "- Column will be called \"date\"\n",
    "- Values will be in datetime format\n",
    "\n",
    "The reason to exclude time values is because the weather data set does not have recorded time values, just dates. Therefore, date data is sufficient in merging the tables."
   ]
  },
  {
   "cell_type": "code",
   "execution_count": 244,
   "id": "cd6fb7af-8b60-4cdc-8a86-a1d587f6617a",
   "metadata": {
    "tags": []
   },
   "outputs": [],
   "source": [
    "# Creating the merging column that contains date data \n",
    "weather_data_concat['date'] = pd.to_datetime(weather_data_concat['Date_time'], format='%Y-%m-%d %H:%M:%S').dt.date\n",
    "# Creating the matching column and converting values into date format\n",
    "crime_dc['date'] = pd.to_datetime(crime_dc['start_date']).dt.date\n",
    "# Merging the dataframes\n",
    "crime_dc = crime_dc.merge(weather_data_concat, on='date', how='left')"
   ]
  },
  {
   "cell_type": "markdown",
   "id": "7d319d86-3810-40d5-bdc0-914be856410e",
   "metadata": {},
   "source": [
    "<h2 style=\"color:SlateBlue\"> DATA ANALYSIS</h2>"
   ]
  },
  {
   "cell_type": "markdown",
   "id": "7f761420-f2d1-4648-abd5-def3546ddaaa",
   "metadata": {},
   "source": [
    "### 1. Are there specific geographic hotspots for crime in Washington DC?"
   ]
  },
  {
   "cell_type": "markdown",
   "id": "a6e56900-6d06-4e8b-8f03-1142dafff029",
   "metadata": {},
   "source": [
    "In the interest of our stakeholders, which include civillians, law enforcement, and city government officials, knowing where the majority of crimes are occurring can offer much value. The following visualization will provide a profile for the prevalence of crime in each ward."
   ]
  },
  {
   "cell_type": "code",
   "execution_count": 245,
   "id": "e2d14fcf-4325-4e9b-8872-6903a088dd18",
   "metadata": {
    "tags": []
   },
   "outputs": [
    {
     "data": {
      "image/png": "[encoded data removed]",
      "text/plain": [
       "<Figure size 1200x800 with 2 Axes>"
      ]
     },
     "metadata": {},
     "output_type": "display_data"
    }
   ],
   "source": [
    "# Creating a new DataFrame that contains the number of crimes in each ward \n",
    "grouped_crime_dc = pd.DataFrame(crime_dc.groupby('ward').agg({'ward':'count'})) \n",
    "\n",
    "# Renaming the aggregated data column to represent the number of crimes in a ward\n",
    "grouped_crime_dc.rename(columns={'ward': 'count_of_crimes'}, inplace=True)\n",
    "\n",
    "# Importing a shapefile to highlight borders of each ward\n",
    "shapefile_path = 'Wards_from_2022.shp'\n",
    "\n",
    "# Reading the ward shapefile and creating a GeoDataFrame\n",
    "gdf = gpd.read_file(shapefile_path)\n",
    "\n",
    "# Creating the ward column to allow for merging with the crime data that is grouped by ward\n",
    "gdf['ward']= [6, 8, 4, 3, 5, 1, 2, 7] # Inputting the corresponding ward values based on coordinates\n",
    "\n",
    "# Merging grouped crime data with the shapefile using the 'ward' column\n",
    "merged = gdf.merge(grouped_crime_dc, left_on='ward', right_on='ward', how='left')\n",
    "\n",
    "# Plotting the map\n",
    "fig, ax = plt.subplots(1, 1, figsize=(12, 8))\n",
    "merged.plot(column='count_of_crimes', cmap='OrRd', linewidth=0.8, ax=ax, edgecolor='0.8', legend=True)\n",
    "\n",
    "# Annotating the ward names\n",
    "for x, y, label in zip(merged.geometry.centroid.x, merged.geometry.centroid.y, merged['ward']):\n",
    "    ax.text(x, y, label, fontsize=8, ha='center', va='center', color='black', weight='bold')\n",
    "\n",
    "\n",
    "# Adding axes labels and title\n",
    "ax.set_title('Number of Crimes by Ward in Washington, D.C.')\n",
    "ax.set_xlabel('Longitude')\n",
    "ax.set_ylabel('Latitude')\n",
    "\n",
    "# Displaying the plot\n",
    "plt.show()"
   ]
  },
  {
   "cell_type": "markdown",
   "id": "78b75800-07a9-42a1-8296-aa80538d320a",
   "metadata": {},
   "source": [
    "### Observation:"
   ]
  },
  {
   "cell_type": "markdown",
   "id": "78ff497f-50dc-408a-b554-204fb1ee77e9",
   "metadata": {},
   "source": [
    "The map shows 8 different wards, each represented by a number from 1 to 8. The color intensity varies across wards, indicating different crime levels. Darker shades represent higher crime numbers, while lighter shades represent lower crime numbers.\n",
    "\n",
    "Wards 1, 2, 5, and 7 appear to have darker shades compared to others, suggesting higher crime rates. In general, ward 5 has the highest number of crimes, followed by ward 2, ward 1, ward 7, ward 6, ward 8, ward 4 and ward 3. \n",
    "\n",
    "This indicates that the areas with the highest crime rates are concentrated in the central and eastern parts of the Washington D.C.. And if we compared to the east, the central part evidently has a higher number of crimes.\n"
   ]
  },
  {
   "cell_type": "markdown",
   "id": "983a3d43-2712-4f05-a310-7330ef39b2af",
   "metadata": {},
   "source": [
    "### Inference:"
   ]
  },
  {
   "cell_type": "markdown",
   "id": "04c9a78e-ed61-4684-99ae-2ef7fbc8ff3e",
   "metadata": {},
   "source": [
    "1. The central area, with Ward 5 having the highest crime rate, followed by Ward 2 and Ward 1, exhibits elevated crime levels, which can be attributed to several factors. One prominent factor is the higher population density in these districts, as they serve as hubs for residential and commercial activities. Additionally, the increased commercialization in these central wards often leads to a greater influx of people, providing more opportunities for criminal activities to occur.\n",
    "2. Income levels are often correlated with crime rates, and it's a common finding that higher-income areas tend to have lower crime rates. For instance, Ward 3 and Ward 4 record the lowest crime numbers, which can be plausibly attributed to their proximity to affluent areas near Washington, D.C., such as Bethesda, Chevy Chase, and McLean.  Higher-income areas often have more resources to invest in community infrastructure, including better street lighting, security systems, and neighborhood watch programs, which can deter crime. At the same time, as we can glean from the preceding exploratory data analysis (EDA), theft constitutes the largest proportion within all crime categories. High income areas tend to experience fewer incidents of theft, a factor that significantly contributes to lower crime rates in such regions."
   ]
  },
  {
   "cell_type": "markdown",
   "id": "468e28e8-8e4b-4ca0-bde1-84adac40b1f5",
   "metadata": {},
   "source": [
    "### Recommendations:"
   ]
  },
  {
   "cell_type": "markdown",
   "id": "0be4131e-3741-4f5b-bcc2-d97847fbace0",
   "metadata": {},
   "source": [
    "1. Focused Policing: Direct more policing efforts to Wards 5, 2, and 1, especially in areas identified as crime hotspots. This could involve an increase in patrols, community policing initiatives, and the use of crime prevention through environmental design (CPTED) strategies[1]. \n",
    "2. Community Engagement: Develop community outreach programs in these wards to strengthen relations between law enforcement and residents, and to work on crime prevention from a community standpoint.\n",
    "3. Economic Development: Invest in economic development initiatives in these wards to address potential underlying socio-economic causes of crime. This could include job training programs, support for local businesses, and investment in affordable housing.\n",
    "4. Infrastructure Improvements: Invest in infrastructure such as street lighting and public surveillance systems in these wards to help deter criminal activity."
   ]
  },
  {
   "cell_type": "markdown",
   "id": "dd3aff13-e119-47e4-a837-a1aef237e78e",
   "metadata": {},
   "source": [
    "### References"
   ]
  },
  {
   "cell_type": "markdown",
   "id": "6f20cf03-ed0b-4ce6-9930-ef7dac7b7d0a",
   "metadata": {},
   "source": [
    "[1] 2023, Crime Prevention through Environmental Design (CPTED), https://crime.baltimorecity.gov/crime-prevention-through-environmental-design-cpted#:~:text=Crime%20Prevention%20through%20Environmental%20Design%20(CPTED%2C%20pronounced%20sep%2Dted,the%20neighborhood%20is%20cared%20for"
   ]
  },
  {
   "cell_type": "markdown",
   "id": "edce3103-07e9-4736-959e-691648f17442",
   "metadata": {},
   "source": [
    "### 2. Is there a correlation between the number of alcohol outlets and number of crimes that occur in a ward in DC?"
   ]
  },
  {
   "cell_type": "markdown",
   "id": "9c3dba7b-b9d9-4cca-8cff-edd88417e78e",
   "metadata": {},
   "source": [
    "In Washington D.C., liquor licenses are administered by the Alcoholic Beverage and Cannabis Administration (ABCA), which is a D.C. government agency. City government officials would be concerned with the relationship between the prevalence of liquor stores on the prevalence of crime as this may influence the number of liquor licenses they choose to issue. In this analysis, we will explore the distribution of liquor licenses among Washington D.C., again displaying the data by ward."
   ]
  },
  {
   "cell_type": "code",
   "execution_count": 265,
   "id": "394fd680-6664-4464-bdbd-291eaef61a54",
   "metadata": {
    "tags": []
   },
   "outputs": [
    {
     "data": {
      "image/png": "[encoded data removed]",
      "text/plain": [
       "<Figure size 1200x800 with 2 Axes>"
      ]
     },
     "metadata": {},
     "output_type": "display_data"
    }
   ],
   "source": [
    "# Importing a shapefile to highlight borders of each ward\n",
    "shapefile_path = 'Wards_from_2022.shp'\n",
    "\n",
    "# Reading the ward shapefile and creating a GeoDataFrame\n",
    "gdf = gpd.read_file(shapefile_path)\n",
    "\n",
    "# Creating the ward column to allow for merging with the crime data\n",
    "gdf['ward']= [6, 8, 4, 3, 5, 1, 2, 7] # Inputting the corresponding ward values based on coordinates\n",
    "\n",
    "# Merging crime data with the shapefile using the 'ward' column\n",
    "merged = gdf.merge(crime_dc, left_on='ward', right_on='ward', how='left')\n",
    "\n",
    "# Plotting the map\n",
    "fig, ax = plt.subplots(1, 1, figsize=(12, 8))\n",
    "merged.plot(column='liquor_store_count', cmap='OrRd', linewidth=0.8, ax=ax, edgecolor='0.8', legend=True)\n",
    "\n",
    "# Annotating the ward names\n",
    "for x, y, label in zip(merged.geometry.centroid.x, merged.geometry.centroid.y, merged['ward']):\n",
    "    ax.text(x, y, label, fontsize=8, ha='center', va='center', color='black', weight='bold')\n",
    "\n",
    "\n",
    "# Adding axes labels and title\n",
    "ax.set_title('Liquor Stores by Ward in Washington, D.C.')\n",
    "ax.set_xlabel('Longitude')\n",
    "ax.set_ylabel('Latitude')\n",
    "\n",
    "# Displaying the plot\n",
    "plt.show()"
   ]
  },
  {
   "cell_type": "markdown",
   "id": "53a8bb26-0e9d-4799-9161-7db9c653396a",
   "metadata": {},
   "source": [
    "The map of liquor stores by ward in Washington D.C. indicates that ward 2 has the most liquor stores, while wards 3 and 7 have least liquor stores. When comparing the liquor store map to the previous map of the number of crimes per ward, the relationship seems quite weak. While Ward 2 has both high crime and many liquor stores, Ward 5 has the most amount of crime but signicantly less liquor stores. Additionally, Ward 7 has more crime than Ward 4, but Ward 4 has slightly more liquor stores than Ward 7. Based on these visualizations alone, it cannot be said that there is a correlation between liquor store prevalence and crime occurrence in Washington D.C."
   ]
  },
  {
   "cell_type": "markdown",
   "id": "ee4c534b-f04d-4ac6-a1a5-ecc6a6b253a2",
   "metadata": {},
   "source": [
    "### Additional Findings Pertaining to Liqour Store Prevalence\n",
    "However, when examining variables that may relate crime to liquor store prevalence, it was found that there is a relationship between liquor store prevalence and unemployment in Washington D.C. The following code demonstrates these findings.\n",
    "\n",
    "> **Indented block**\n",
    "\n"
   ]
  },
  {
   "cell_type": "code",
   "execution_count": 247,
   "id": "f56988fd-af74-4d34-9350-086a079e883f",
   "metadata": {
    "tags": []
   },
   "outputs": [
    {
     "name": "stdout",
     "output_type": "stream",
     "text": [
      "                    liquor_store_count  unemp_pop\n",
      "liquor_store_count            1.000000   0.858982\n",
      "unemp_pop                     0.858982   1.000000\n"
     ]
    }
   ],
   "source": [
    "# Determining the correlation between the number of liquor stores and number of unemployed residents in D.C.\n",
    "correlation = crime_dc[['liquor_store_count', 'unemp_pop']].corr()\n",
    "print(correlation)"
   ]
  },
  {
   "cell_type": "markdown",
   "id": "ddb48bf0-31a7-4967-b859-e5b563f9a61d",
   "metadata": {},
   "source": [
    "With a r^2 value of 0.858982, we can conclude that there is a strong, positive correlation between liquor store prevalence and the number of unemployed residents in Washington D.C.. Therefore, the more liquor stores there are in a particular area, the higher the unemployed population. How unemployment can relate to crime will be explored later in this analysis, but the strong correlation between liquor stores and unemployment can provide a starting point for further research into the relationship between liquor store proximity and crime in D.C.'s wards."
   ]
  },
  {
   "cell_type": "markdown",
   "id": "d465298f-8b1d-4017-8174-3a754210efd2",
   "metadata": {},
   "source": [
    "### Inferences and Reccomendations"
   ]
  },
  {
   "cell_type": "markdown",
   "id": "cd5f766f-ffbe-4ff6-9e15-2b881854b5fe",
   "metadata": {
    "tags": []
   },
   "source": [
    "A possible explanation as to why the liquor stores are concentrated towards the center of Washington D.C. is because this is where the majority of entertainment and nightlife resides. Downtown D.C. is home to Dupont Circle, Logan Circle, U St, H St, and many other popular areas for residents and tourists. The outer areas of D.C. (Wards 3, 4, 5, 7, and 8) are more residential, with less nightlife and entertainment.\n",
    "\n",
    "Why would we see high amounts of crime in Ward 5, which has fewer liquor stores than other wards, may be because of other socioeconomic factors, which we aim to identify later in this analysis. However, being able to rule out liquor store prevalence as a main contributer to crime still offers significance in terms of D.C. crime prevention and reduction policies.\n",
    "\n",
    "Due to the weak relationship between liquor store prevalence and crime, there is insufficient evidence to suggest that the D.C. government should change the number of liquor licenses it issues based on the incidence of crime. Rather, the D.C. government should explore other factors that may impact crime more greatly. With this analysis, the D.C. government can focus more of its time and resources to identifying and addressing more significant drivers of crime."
   ]
  },
  {
   "cell_type": "markdown",
   "id": "9f64a984-555e-4878-b6a5-11f644864d2b",
   "metadata": {},
   "source": [
    "### 3. How do socioeconomic factors such as income levels and unemployment rates correlate with crime rates in different areas of Washington DC?\n",
    "\n",
    "**Exploring the Nexus:**\n",
    "\n",
    "Socioeconomic Factors and Crime Rates in Washington, DC Washington, DC, a city steeped in history and culture, presents a complex urban landscape where various socioeconomic factors intertwine with the dynamics of crime. In this analysis, we delve into the intricate relationship between income levels, unemployment rates, education levels, and crime rates across different wards in the nation's capital.\n",
    "\n",
    "Understanding the interplay of these factors is crucial not only for policy-makers and urban planners but also for the residents seeking a safer and more prosperous community. By unraveling the patterns and correlations, we aim to shed light on the multifaceted nature of crime in Washington, DC, and explore how socioeconomic conditions may contribute to, or mitigate, crime across various neighborhoods.\n",
    "\n",
    "As we embark on this analytical journey, we will employ data-driven insights and visualizations to uncover the nuanced connections between socioeconomic indicators and crime rates.\n",
    "\n",
    "**Exploring Socioeconomic Factors and Crime Rates in Washington, DC**\n",
    "\n",
    "In this analysis, we aim to explore the intricate relationship between socioeconomic factors and crime rates across different wards in Washington, DC. By merging crime and socioeconomic datasets and employing visualizations, we seek to uncover patterns and correlations that contribute to a deeper understanding of the dynamics at play.\n",
    "\n",
    "**Data Merging**\n",
    "\n",
    "We begin by merging crime and socioeconomic data using the ward as a common identifier\n",
    "\n",
    "**Correlation Analysis**\n",
    "\n",
    "Next, we perform a correlation analysis using Seaborn to understand the relationship between key socioeconomic indicators and crime rates.\n"
   ]
  },
  {
   "cell_type": "code",
   "execution_count": 248,
   "id": "ba26f7e3-0d6f-4764-843e-96019ebd5736",
   "metadata": {
    "tags": []
   },
   "outputs": [
    {
     "name": "stdout",
     "output_type": "stream",
     "text": [
      "            income_bins  count\n",
      "0  (30340.362, 44739.6]   6618\n",
      "1    (44739.6, 59067.2]   6698\n",
      "2    (59067.2, 73394.8]   3890\n",
      "3    (73394.8, 87722.4]   3315\n",
      "4   (87722.4, 102050.0]   5570\n",
      "-0.5575562624344303\n",
      "0.322774289793836\n",
      "0.37657941908142606\n"
     ]
    },
    {
     "data": {
      "text/plain": [
       "Index(['neighborhood_cluster', 'offense_group', 'census_tract', 'end_date',\n",
       "       'offense_text', 'shift', 'district', 'yblock', 'ward', 'offensekey',\n",
       "       'sector', 'psa', 'ucr_rank', 'block_group', 'voting_precinct', 'xblock',\n",
       "       'block', 'start_date', 'ccn', 'offense', 'anc', 'report_date', 'method',\n",
       "       'latitude', 'longitude', 'tot_pop', 'unemp_pop',\n",
       "       'Median_family_income($)', 'unemp_pop_no_health_insurance_coverage',\n",
       "       'liquor_store_longitude', 'liquor_store_latitude', 'liquor_store_count',\n",
       "       'date', 'Date_time', 'Max_Temp', 'Min_Temp', 'Avg', 'Departure', 'HDD',\n",
       "       'CDD', 'Precipitation', 'New Snow', 'Snow Depth', 'income_bins'],\n",
       "      dtype='object')"
      ]
     },
     "execution_count": 248,
     "metadata": {},
     "output_type": "execute_result"
    }
   ],
   "source": [
    "crimes_by_ward=crime_dc.groupby('ward')['offense'].count().reset_index()\n",
    "num_bins = 5\n",
    "\n",
    "# Create bins using cut with specified number of bins\n",
    "crime_dc['income_bins'] = pd.cut(crime_dc['Median_family_income($)'], bins=num_bins)\n",
    "\n",
    "# Group by bins and offense, then count occurrences\n",
    "result = crime_dc.groupby(['income_bins']).size().reset_index(name='count')\n",
    "\n",
    "# Display the result\n",
    "print(result)\n",
    "result['mid']=result['income_bins'].apply(lambda x : (x.left + x.right)/2)\n",
    "correlation = result['mid'].corr(result['count'])\n",
    "print(correlation)\n",
    "unemp_by_ward = crime_dc.groupby('ward')['unemp_pop'].mean().reset_index()\n",
    "unemp_by_ward=unemp_by_ward.merge(crimes_by_ward,left_on='ward', right_on='ward', how='left')\n",
    "correlation = unemp_by_ward['unemp_pop'].corr(unemp_by_ward['offense'])\n",
    "print(correlation)\n",
    "no_insurance = crime_dc.groupby('ward')['unemp_pop_no_health_insurance_coverage','income_bins'].mean().reset_index()\n",
    "no_insurance=no_insurance.merge(crimes_by_ward,left_on='ward', right_on='ward', how='left')\n",
    "correlation = no_insurance['unemp_pop_no_health_insurance_coverage'].corr(no_insurance['offense'])\n",
    "print(correlation)\n",
    "crime_dc.columns"
   ]
  },
  {
   "cell_type": "markdown",
   "id": "5a50de9d-04ef-4711-8b86-a2dd4870890f",
   "metadata": {
    "tags": []
   },
   "source": [
    "### Geographic Visualization\n",
    "\n",
    "To visualize our findings geographically, we employ Geopandas and Plotly Express. We load ward boundaries or centroids, calculate central coordinates, and merge the data.\n",
    "\n",
    "### Interactive Map\n",
    "\n",
    "Finally, we create an interactive map using Plotly Express, displaying the relationship between median income, crime rates, and ward locations\n"
   ]
  },
  {
   "cell_type": "code",
   "execution_count": 249,
   "id": "fdb25dc7-4428-4ae5-b007-8bef2368cae4",
   "metadata": {
    "tags": []
   },
   "outputs": [
    {
     "name": "stdout",
     "output_type": "stream",
     "text": [
      "   ward  centroid_lat  centroid_lon\n",
      "0     1     38.841672    -77.006314\n",
      "1     2     38.881881    -77.010803\n",
      "2     3     38.887188    -76.949425\n",
      "3     4     38.900042    -77.046357\n",
      "4     5     38.925518    -77.031414\n",
      "5     6     38.925422    -76.985496\n",
      "6     7     38.936375    -77.078987\n",
      "7     8     38.963836    -77.034146\n"
     ]
    },
    {
     "data": {
      "application/vnd.plotly.v1+json": {
       "config": {
        "plotlyServerURL": "https://plot.ly"
       },
       "data": [
        {
         "customdata": [
          [
           1,
           73239,
           3890
          ],
          [
           2,
           90730,
           4060
          ],
          [
           3,
           102050,
           1510
          ],
          [
           4,
           57927,
           2292
          ],
          [
           5,
           48566,
           4406
          ],
          [
           6,
           82022,
           3315
          ],
          [
           7,
           32969,
           3597
          ],
          [
           8,
           30412,
           3021
          ]
         ],
         "hovertemplate": "Crime Rate=%{customdata[2]}<br>centroid_lat=%{lat}<br>centroid_lon=%{lon}<br>ward=%{marker.color}<br>Median Income=%{customdata[1]}<extra></extra>",
         "lat": [
          38.84167176207814,
          38.88188146960083,
          38.88718822144002,
          38.90004167906457,
          38.92551802456086,
          38.925422122752025,
          38.93637462810543,
          38.963836192070026
         ],
         "legendgroup": "",
         "lon": [
          -77.00631423261018,
          -77.01080307914313,
          -76.9494249779232,
          -77.04635722837592,
          -77.03141352447646,
          -76.98549623653872,
          -77.07898658908346,
          -77.03414629592717
         ],
         "marker": {
          "color": [
           1,
           2,
           3,
           4,
           5,
           6,
           7,
           8
          ],
          "coloraxis": "coloraxis",
          "size": [
           3890,
           4060,
           1510,
           2292,
           4406,
           3315,
           3597,
           3021
          ],
          "sizemode": "area",
          "sizeref": 19.58222222222222
         },
         "mode": "markers",
         "name": "",
         "showlegend": false,
         "subplot": "mapbox",
         "type": "scattermapbox"
        }
       ],
       "layout": {
        "autosize": true,
        "coloraxis": {
         "colorbar": {
          "title": {
           "text": "ward"
          }
         },
         "colorscale": [
          [
           0,
           "#0d0887"
          ],
          [
           0.1111111111111111,
           "#46039f"
          ],
          [
           0.2222222222222222,
           "#7201a8"
          ],
          [
           0.3333333333333333,
           "#9c179e"
          ],
          [
           0.4444444444444444,
           "#bd3786"
          ],
          [
           0.5555555555555556,
           "#d8576b"
          ],
          [
           0.6666666666666666,
           "#ed7953"
          ],
          [
           0.7777777777777778,
           "#fb9f3a"
          ],
          [
           0.8888888888888888,
           "#fdca26"
          ],
          [
           1,
           "#f0f921"
          ]
         ]
        },
        "legend": {
         "itemsizing": "constant",
         "tracegroupgap": 0
        },
        "mapbox": {
         "accesstoken": "pk.eyJ1Ijoic3NoaXZhbSIsImEiOiJjbHA0cnJ0cXoxNm5iMmlvYjhxcnFjZm10In0.miOfR0N1V4R8yE7OLBYglw",
         "bearing": 0,
         "center": {
          "lat": 39.31576352174514,
          "lon": -77.17358429365208
         },
         "domain": {
          "x": [
           0,
           1
          ],
          "y": [
           0,
           1
          ]
         },
         "pitch": 0,
         "style": "open-street-map",
         "zoom": 6.637351282979386
        },
        "template": {
         "data": {
          "bar": [
           {
            "error_x": {
             "color": "#2a3f5f"
            },
            "error_y": {
             "color": "#2a3f5f"
            },
            "marker": {
             "line": {
              "color": "#E5ECF6",
              "width": 0.5
             }
            },
            "type": "bar"
           }
          ],
          "barpolar": [
           {
            "marker": {
             "line": {
              "color": "#E5ECF6",
              "width": 0.5
             }
            },
            "type": "barpolar"
           }
          ],
          "carpet": [
           {
            "aaxis": {
             "endlinecolor": "#2a3f5f",
             "gridcolor": "white",
             "linecolor": "white",
             "minorgridcolor": "white",
             "startlinecolor": "#2a3f5f"
            },
            "baxis": {
             "endlinecolor": "#2a3f5f",
             "gridcolor": "white",
             "linecolor": "white",
             "minorgridcolor": "white",
             "startlinecolor": "#2a3f5f"
            },
            "type": "carpet"
           }
          ],
          "choropleth": [
           {
            "colorbar": {
             "outlinewidth": 0,
             "ticks": ""
            },
            "type": "choropleth"
           }
          ],
          "contour": [
           {
            "colorbar": {
             "outlinewidth": 0,
             "ticks": ""
            },
            "colorscale": [
             [
              0,
              "#0d0887"
             ],
             [
              0.1111111111111111,
              "#46039f"
             ],
             [
              0.2222222222222222,
              "#7201a8"
             ],
             [
              0.3333333333333333,
              "#9c179e"
             ],
             [
              0.4444444444444444,
              "#bd3786"
             ],
             [
              0.5555555555555556,
              "#d8576b"
             ],
             [
              0.6666666666666666,
              "#ed7953"
             ],
             [
              0.7777777777777778,
              "#fb9f3a"
             ],
             [
              0.8888888888888888,
              "#fdca26"
             ],
             [
              1,
              "#f0f921"
             ]
            ],
            "type": "contour"
           }
          ],
          "contourcarpet": [
           {
            "colorbar": {
             "outlinewidth": 0,
             "ticks": ""
            },
            "type": "contourcarpet"
           }
          ],
          "heatmap": [
           {
            "colorbar": {
             "outlinewidth": 0,
             "ticks": ""
            },
            "colorscale": [
             [
              0,
              "#0d0887"
             ],
             [
              0.1111111111111111,
              "#46039f"
             ],
             [
              0.2222222222222222,
              "#7201a8"
             ],
             [
              0.3333333333333333,
              "#9c179e"
             ],
             [
              0.4444444444444444,
              "#bd3786"
             ],
             [
              0.5555555555555556,
              "#d8576b"
             ],
             [
              0.6666666666666666,
              "#ed7953"
             ],
             [
              0.7777777777777778,
              "#fb9f3a"
             ],
             [
              0.8888888888888888,
              "#fdca26"
             ],
             [
              1,
              "#f0f921"
             ]
            ],
            "type": "heatmap"
           }
          ],
          "heatmapgl": [
           {
            "colorbar": {
             "outlinewidth": 0,
             "ticks": ""
            },
            "colorscale": [
             [
              0,
              "#0d0887"
             ],
             [
              0.1111111111111111,
              "#46039f"
             ],
             [
              0.2222222222222222,
              "#7201a8"
             ],
             [
              0.3333333333333333,
              "#9c179e"
             ],
             [
              0.4444444444444444,
              "#bd3786"
             ],
             [
              0.5555555555555556,
              "#d8576b"
             ],
             [
              0.6666666666666666,
              "#ed7953"
             ],
             [
              0.7777777777777778,
              "#fb9f3a"
             ],
             [
              0.8888888888888888,
              "#fdca26"
             ],
             [
              1,
              "#f0f921"
             ]
            ],
            "type": "heatmapgl"
           }
          ],
          "histogram": [
           {
            "marker": {
             "colorbar": {
              "outlinewidth": 0,
              "ticks": ""
             }
            },
            "type": "histogram"
           }
          ],
          "histogram2d": [
           {
            "colorbar": {
             "outlinewidth": 0,
             "ticks": ""
            },
            "colorscale": [
             [
              0,
              "#0d0887"
             ],
             [
              0.1111111111111111,
              "#46039f"
             ],
             [
              0.2222222222222222,
              "#7201a8"
             ],
             [
              0.3333333333333333,
              "#9c179e"
             ],
             [
              0.4444444444444444,
              "#bd3786"
             ],
             [
              0.5555555555555556,
              "#d8576b"
             ],
             [
              0.6666666666666666,
              "#ed7953"
             ],
             [
              0.7777777777777778,
              "#fb9f3a"
             ],
             [
              0.8888888888888888,
              "#fdca26"
             ],
             [
              1,
              "#f0f921"
             ]
            ],
            "type": "histogram2d"
           }
          ],
          "histogram2dcontour": [
           {
            "colorbar": {
             "outlinewidth": 0,
             "ticks": ""
            },
            "colorscale": [
             [
              0,
              "#0d0887"
             ],
             [
              0.1111111111111111,
              "#46039f"
             ],
             [
              0.2222222222222222,
              "#7201a8"
             ],
             [
              0.3333333333333333,
              "#9c179e"
             ],
             [
              0.4444444444444444,
              "#bd3786"
             ],
             [
              0.5555555555555556,
              "#d8576b"
             ],
             [
              0.6666666666666666,
              "#ed7953"
             ],
             [
              0.7777777777777778,
              "#fb9f3a"
             ],
             [
              0.8888888888888888,
              "#fdca26"
             ],
             [
              1,
              "#f0f921"
             ]
            ],
            "type": "histogram2dcontour"
           }
          ],
          "mesh3d": [
           {
            "colorbar": {
             "outlinewidth": 0,
             "ticks": ""
            },
            "type": "mesh3d"
           }
          ],
          "parcoords": [
           {
            "line": {
             "colorbar": {
              "outlinewidth": 0,
              "ticks": ""
             }
            },
            "type": "parcoords"
           }
          ],
          "pie": [
           {
            "automargin": true,
            "type": "pie"
           }
          ],
          "scatter": [
           {
            "marker": {
             "colorbar": {
              "outlinewidth": 0,
              "ticks": ""
             }
            },
            "type": "scatter"
           }
          ],
          "scatter3d": [
           {
            "line": {
             "colorbar": {
              "outlinewidth": 0,
              "ticks": ""
             }
            },
            "marker": {
             "colorbar": {
              "outlinewidth": 0,
              "ticks": ""
             }
            },
            "type": "scatter3d"
           }
          ],
          "scattercarpet": [
           {
            "marker": {
             "colorbar": {
              "outlinewidth": 0,
              "ticks": ""
             }
            },
            "type": "scattercarpet"
           }
          ],
          "scattergeo": [
           {
            "marker": {
             "colorbar": {
              "outlinewidth": 0,
              "ticks": ""
             }
            },
            "type": "scattergeo"
           }
          ],
          "scattergl": [
           {
            "marker": {
             "colorbar": {
              "outlinewidth": 0,
              "ticks": ""
             }
            },
            "type": "scattergl"
           }
          ],
          "scattermapbox": [
           {
            "marker": {
             "colorbar": {
              "outlinewidth": 0,
              "ticks": ""
             }
            },
            "type": "scattermapbox"
           }
          ],
          "scatterpolar": [
           {
            "marker": {
             "colorbar": {
              "outlinewidth": 0,
              "ticks": ""
             }
            },
            "type": "scatterpolar"
           }
          ],
          "scatterpolargl": [
           {
            "marker": {
             "colorbar": {
              "outlinewidth": 0,
              "ticks": ""
             }
            },
            "type": "scatterpolargl"
           }
          ],
          "scatterternary": [
           {
            "marker": {
             "colorbar": {
              "outlinewidth": 0,
              "ticks": ""
             }
            },
            "type": "scatterternary"
           }
          ],
          "surface": [
           {
            "colorbar": {
             "outlinewidth": 0,
             "ticks": ""
            },
            "colorscale": [
             [
              0,
              "#0d0887"
             ],
             [
              0.1111111111111111,
              "#46039f"
             ],
             [
              0.2222222222222222,
              "#7201a8"
             ],
             [
              0.3333333333333333,
              "#9c179e"
             ],
             [
              0.4444444444444444,
              "#bd3786"
             ],
             [
              0.5555555555555556,
              "#d8576b"
             ],
             [
              0.6666666666666666,
              "#ed7953"
             ],
             [
              0.7777777777777778,
              "#fb9f3a"
             ],
             [
              0.8888888888888888,
              "#fdca26"
             ],
             [
              1,
              "#f0f921"
             ]
            ],
            "type": "surface"
           }
          ],
          "table": [
           {
            "cells": {
             "fill": {
              "color": "#EBF0F8"
             },
             "line": {
              "color": "white"
             }
            },
            "header": {
             "fill": {
              "color": "#C8D4E3"
             },
             "line": {
              "color": "white"
             }
            },
            "type": "table"
           }
          ]
         },
         "layout": {
          "annotationdefaults": {
           "arrowcolor": "#2a3f5f",
           "arrowhead": 0,
           "arrowwidth": 1
          },
          "coloraxis": {
           "colorbar": {
            "outlinewidth": 0,
            "ticks": ""
           }
          },
          "colorscale": {
           "diverging": [
            [
             0,
             "#8e0152"
            ],
            [
             0.1,
             "#c51b7d"
            ],
            [
             0.2,
             "#de77ae"
            ],
            [
             0.3,
             "#f1b6da"
            ],
            [
             0.4,
             "#fde0ef"
            ],
            [
             0.5,
             "#f7f7f7"
            ],
            [
             0.6,
             "#e6f5d0"
            ],
            [
             0.7,
             "#b8e186"
            ],
            [
             0.8,
             "#7fbc41"
            ],
            [
             0.9,
             "#4d9221"
            ],
            [
             1,
             "#276419"
            ]
           ],
           "sequential": [
            [
             0,
             "#0d0887"
            ],
            [
             0.1111111111111111,
             "#46039f"
            ],
            [
             0.2222222222222222,
             "#7201a8"
            ],
            [
             0.3333333333333333,
             "#9c179e"
            ],
            [
             0.4444444444444444,
             "#bd3786"
            ],
            [
             0.5555555555555556,
             "#d8576b"
            ],
            [
             0.6666666666666666,
             "#ed7953"
            ],
            [
             0.7777777777777778,
             "#fb9f3a"
            ],
            [
             0.8888888888888888,
             "#fdca26"
            ],
            [
             1,
             "#f0f921"
            ]
           ],
           "sequentialminus": [
            [
             0,
             "#0d0887"
            ],
            [
             0.1111111111111111,
             "#46039f"
            ],
            [
             0.2222222222222222,
             "#7201a8"
            ],
            [
             0.3333333333333333,
             "#9c179e"
            ],
            [
             0.4444444444444444,
             "#bd3786"
            ],
            [
             0.5555555555555556,
             "#d8576b"
            ],
            [
             0.6666666666666666,
             "#ed7953"
            ],
            [
             0.7777777777777778,
             "#fb9f3a"
            ],
            [
             0.8888888888888888,
             "#fdca26"
            ],
            [
             1,
             "#f0f921"
            ]
           ]
          },
          "colorway": [
           "#636efa",
           "#EF553B",
           "#00cc96",
           "#ab63fa",
           "#FFA15A",
           "#19d3f3",
           "#FF6692",
           "#B6E880",
           "#FF97FF",
           "#FECB52"
          ],
          "font": {
           "color": "#2a3f5f"
          },
          "geo": {
           "bgcolor": "white",
           "lakecolor": "white",
           "landcolor": "#E5ECF6",
           "showlakes": true,
           "showland": true,
           "subunitcolor": "white"
          },
          "hoverlabel": {
           "align": "left"
          },
          "hovermode": "closest",
          "mapbox": {
           "style": "light"
          },
          "paper_bgcolor": "white",
          "plot_bgcolor": "#E5ECF6",
          "polar": {
           "angularaxis": {
            "gridcolor": "white",
            "linecolor": "white",
            "ticks": ""
           },
           "bgcolor": "#E5ECF6",
           "radialaxis": {
            "gridcolor": "white",
            "linecolor": "white",
            "ticks": ""
           }
          },
          "scene": {
           "xaxis": {
            "backgroundcolor": "#E5ECF6",
            "gridcolor": "white",
            "gridwidth": 2,
            "linecolor": "white",
            "showbackground": true,
            "ticks": "",
            "zerolinecolor": "white"
           },
           "yaxis": {
            "backgroundcolor": "#E5ECF6",
            "gridcolor": "white",
            "gridwidth": 2,
            "linecolor": "white",
            "showbackground": true,
            "ticks": "",
            "zerolinecolor": "white"
           },
           "zaxis": {
            "backgroundcolor": "#E5ECF6",
            "gridcolor": "white",
            "gridwidth": 2,
            "linecolor": "white",
            "showbackground": true,
            "ticks": "",
            "zerolinecolor": "white"
           }
          },
          "shapedefaults": {
           "line": {
            "color": "#2a3f5f"
           }
          },
          "ternary": {
           "aaxis": {
            "gridcolor": "white",
            "linecolor": "white",
            "ticks": ""
           },
           "baxis": {
            "gridcolor": "white",
            "linecolor": "white",
            "ticks": ""
           },
           "bgcolor": "#E5ECF6",
           "caxis": {
            "gridcolor": "white",
            "linecolor": "white",
            "ticks": ""
           }
          },
          "title": {
           "x": 0.05
          },
          "xaxis": {
           "automargin": true,
           "gridcolor": "white",
           "linecolor": "white",
           "ticks": "",
           "title": {
            "standoff": 15
           },
           "zerolinecolor": "white",
           "zerolinewidth": 2
          },
          "yaxis": {
           "automargin": true,
           "gridcolor": "white",
           "linecolor": "white",
           "ticks": "",
           "title": {
            "standoff": 15
           },
           "zerolinecolor": "white",
           "zerolinewidth": 2
          }
         }
        },
        "title": {
         "text": "Median Income per Ward vs Crime Rate"
        }
       }
      },
      "image/png": "[encoded data removed]",
      "text/html": [
       "<div>                            <div id=\"fa2cafed-70aa-4475-8921-58eabacbaa73\" class=\"plotly-graph-div\" style=\"height:525px; width:100%;\"></div>            <script type=\"text/javascript\">                require([\"plotly\"], function(Plotly) {                    window.PLOTLYENV=window.PLOTLYENV || {};                                    if (document.getElementById(\"fa2cafed-70aa-4475-8921-58eabacbaa73\")) {                    Plotly.newPlot(                        \"fa2cafed-70aa-4475-8921-58eabacbaa73\",                        [{\"customdata\": [[1.0, 73239.0, 3890.0], [2.0, 90730.0, 4060.0], [3.0, 102050.0, 1510.0], [4.0, 57927.0, 2292.0], [5.0, 48566.0, 4406.0], [6.0, 82022.0, 3315.0], [7.0, 32969.0, 3597.0], [8.0, 30412.0, 3021.0]], \"hovertemplate\": \"Crime Rate=%{customdata[2]}<br>centroid_lat=%{lat}<br>centroid_lon=%{lon}<br>ward=%{marker.color}<br>Median Income=%{customdata[1]}<extra></extra>\", \"lat\": [38.84167176207814, 38.88188146960083, 38.88718822144002, 38.90004167906457, 38.92551802456086, 38.925422122752025, 38.93637462810543, 38.963836192070026], \"legendgroup\": \"\", \"lon\": [-77.00631423261018, -77.01080307914313, -76.9494249779232, -77.04635722837592, -77.03141352447646, -76.98549623653872, -77.07898658908346, -77.03414629592717], \"marker\": {\"color\": [1, 2, 3, 4, 5, 6, 7, 8], \"coloraxis\": \"coloraxis\", \"size\": [3890, 4060, 1510, 2292, 4406, 3315, 3597, 3021], \"sizemode\": \"area\", \"sizeref\": 19.58222222222222}, \"mode\": \"markers\", \"name\": \"\", \"showlegend\": false, \"subplot\": \"mapbox\", \"type\": \"scattermapbox\"}],                        {\"coloraxis\": {\"colorbar\": {\"title\": {\"text\": \"ward\"}}, \"colorscale\": [[0.0, \"#0d0887\"], [0.1111111111111111, \"#46039f\"], [0.2222222222222222, \"#7201a8\"], [0.3333333333333333, \"#9c179e\"], [0.4444444444444444, \"#bd3786\"], [0.5555555555555556, \"#d8576b\"], [0.6666666666666666, \"#ed7953\"], [0.7777777777777778, \"#fb9f3a\"], [0.8888888888888888, \"#fdca26\"], [1.0, \"#f0f921\"]]}, \"legend\": {\"itemsizing\": \"constant\", \"tracegroupgap\": 0}, \"mapbox\": {\"accesstoken\": \"pk.eyJ1Ijoic3NoaXZhbSIsImEiOiJjbHA0cnJ0cXoxNm5iMmlvYjhxcnFjZm10In0.miOfR0N1V4R8yE7OLBYglw\", \"center\": {\"lat\": 38.9174, \"lon\": -77.031}, \"domain\": {\"x\": [0.0, 1.0], \"y\": [0.0, 1.0]}, \"style\": \"open-street-map\", \"zoom\": 11}, \"template\": {\"data\": {\"bar\": [{\"error_x\": {\"color\": \"#2a3f5f\"}, \"error_y\": {\"color\": \"#2a3f5f\"}, \"marker\": {\"line\": {\"color\": \"#E5ECF6\", \"width\": 0.5}}, \"type\": \"bar\"}], \"barpolar\": [{\"marker\": {\"line\": {\"color\": \"#E5ECF6\", \"width\": 0.5}}, \"type\": \"barpolar\"}], \"carpet\": [{\"aaxis\": {\"endlinecolor\": \"#2a3f5f\", \"gridcolor\": \"white\", \"linecolor\": \"white\", \"minorgridcolor\": \"white\", \"startlinecolor\": \"#2a3f5f\"}, \"baxis\": {\"endlinecolor\": \"#2a3f5f\", \"gridcolor\": \"white\", \"linecolor\": \"white\", \"minorgridcolor\": \"white\", \"startlinecolor\": \"#2a3f5f\"}, \"type\": \"carpet\"}], \"choropleth\": [{\"colorbar\": {\"outlinewidth\": 0, \"ticks\": \"\"}, \"type\": \"choropleth\"}], \"contour\": [{\"colorbar\": {\"outlinewidth\": 0, \"ticks\": \"\"}, \"colorscale\": [[0.0, \"#0d0887\"], [0.1111111111111111, \"#46039f\"], [0.2222222222222222, \"#7201a8\"], [0.3333333333333333, \"#9c179e\"], [0.4444444444444444, \"#bd3786\"], [0.5555555555555556, \"#d8576b\"], [0.6666666666666666, \"#ed7953\"], [0.7777777777777778, \"#fb9f3a\"], [0.8888888888888888, \"#fdca26\"], [1.0, \"#f0f921\"]], \"type\": \"contour\"}], \"contourcarpet\": [{\"colorbar\": {\"outlinewidth\": 0, \"ticks\": \"\"}, \"type\": \"contourcarpet\"}], \"heatmap\": [{\"colorbar\": {\"outlinewidth\": 0, \"ticks\": \"\"}, \"colorscale\": [[0.0, \"#0d0887\"], [0.1111111111111111, \"#46039f\"], [0.2222222222222222, \"#7201a8\"], [0.3333333333333333, \"#9c179e\"], [0.4444444444444444, \"#bd3786\"], [0.5555555555555556, \"#d8576b\"], [0.6666666666666666, \"#ed7953\"], [0.7777777777777778, \"#fb9f3a\"], [0.8888888888888888, \"#fdca26\"], [1.0, \"#f0f921\"]], \"type\": \"heatmap\"}], \"heatmapgl\": [{\"colorbar\": {\"outlinewidth\": 0, \"ticks\": \"\"}, \"colorscale\": [[0.0, \"#0d0887\"], [0.1111111111111111, \"#46039f\"], [0.2222222222222222, \"#7201a8\"], [0.3333333333333333, \"#9c179e\"], [0.4444444444444444, \"#bd3786\"], [0.5555555555555556, \"#d8576b\"], [0.6666666666666666, \"#ed7953\"], [0.7777777777777778, \"#fb9f3a\"], [0.8888888888888888, \"#fdca26\"], [1.0, \"#f0f921\"]], \"type\": \"heatmapgl\"}], \"histogram\": [{\"marker\": {\"colorbar\": {\"outlinewidth\": 0, \"ticks\": \"\"}}, \"type\": \"histogram\"}], \"histogram2d\": [{\"colorbar\": {\"outlinewidth\": 0, \"ticks\": \"\"}, \"colorscale\": [[0.0, \"#0d0887\"], [0.1111111111111111, \"#46039f\"], [0.2222222222222222, \"#7201a8\"], [0.3333333333333333, \"#9c179e\"], [0.4444444444444444, \"#bd3786\"], [0.5555555555555556, \"#d8576b\"], [0.6666666666666666, \"#ed7953\"], [0.7777777777777778, \"#fb9f3a\"], [0.8888888888888888, \"#fdca26\"], [1.0, \"#f0f921\"]], \"type\": \"histogram2d\"}], \"histogram2dcontour\": [{\"colorbar\": {\"outlinewidth\": 0, \"ticks\": \"\"}, \"colorscale\": [[0.0, \"#0d0887\"], [0.1111111111111111, \"#46039f\"], [0.2222222222222222, \"#7201a8\"], [0.3333333333333333, \"#9c179e\"], [0.4444444444444444, \"#bd3786\"], [0.5555555555555556, \"#d8576b\"], [0.6666666666666666, \"#ed7953\"], [0.7777777777777778, \"#fb9f3a\"], [0.8888888888888888, \"#fdca26\"], [1.0, \"#f0f921\"]], \"type\": \"histogram2dcontour\"}], \"mesh3d\": [{\"colorbar\": {\"outlinewidth\": 0, \"ticks\": \"\"}, \"type\": \"mesh3d\"}], \"parcoords\": [{\"line\": {\"colorbar\": {\"outlinewidth\": 0, \"ticks\": \"\"}}, \"type\": \"parcoords\"}], \"pie\": [{\"automargin\": true, \"type\": \"pie\"}], \"scatter\": [{\"marker\": {\"colorbar\": {\"outlinewidth\": 0, \"ticks\": \"\"}}, \"type\": \"scatter\"}], \"scatter3d\": [{\"line\": {\"colorbar\": {\"outlinewidth\": 0, \"ticks\": \"\"}}, \"marker\": {\"colorbar\": {\"outlinewidth\": 0, \"ticks\": \"\"}}, \"type\": \"scatter3d\"}], \"scattercarpet\": [{\"marker\": {\"colorbar\": {\"outlinewidth\": 0, \"ticks\": \"\"}}, \"type\": \"scattercarpet\"}], \"scattergeo\": [{\"marker\": {\"colorbar\": {\"outlinewidth\": 0, \"ticks\": \"\"}}, \"type\": \"scattergeo\"}], \"scattergl\": [{\"marker\": {\"colorbar\": {\"outlinewidth\": 0, \"ticks\": \"\"}}, \"type\": \"scattergl\"}], \"scattermapbox\": [{\"marker\": {\"colorbar\": {\"outlinewidth\": 0, \"ticks\": \"\"}}, \"type\": \"scattermapbox\"}], \"scatterpolar\": [{\"marker\": {\"colorbar\": {\"outlinewidth\": 0, \"ticks\": \"\"}}, \"type\": \"scatterpolar\"}], \"scatterpolargl\": [{\"marker\": {\"colorbar\": {\"outlinewidth\": 0, \"ticks\": \"\"}}, \"type\": \"scatterpolargl\"}], \"scatterternary\": [{\"marker\": {\"colorbar\": {\"outlinewidth\": 0, \"ticks\": \"\"}}, \"type\": \"scatterternary\"}], \"surface\": [{\"colorbar\": {\"outlinewidth\": 0, \"ticks\": \"\"}, \"colorscale\": [[0.0, \"#0d0887\"], [0.1111111111111111, \"#46039f\"], [0.2222222222222222, \"#7201a8\"], [0.3333333333333333, \"#9c179e\"], [0.4444444444444444, \"#bd3786\"], [0.5555555555555556, \"#d8576b\"], [0.6666666666666666, \"#ed7953\"], [0.7777777777777778, \"#fb9f3a\"], [0.8888888888888888, \"#fdca26\"], [1.0, \"#f0f921\"]], \"type\": \"surface\"}], \"table\": [{\"cells\": {\"fill\": {\"color\": \"#EBF0F8\"}, \"line\": {\"color\": \"white\"}}, \"header\": {\"fill\": {\"color\": \"#C8D4E3\"}, \"line\": {\"color\": \"white\"}}, \"type\": \"table\"}]}, \"layout\": {\"annotationdefaults\": {\"arrowcolor\": \"#2a3f5f\", \"arrowhead\": 0, \"arrowwidth\": 1}, \"coloraxis\": {\"colorbar\": {\"outlinewidth\": 0, \"ticks\": \"\"}}, \"colorscale\": {\"diverging\": [[0, \"#8e0152\"], [0.1, \"#c51b7d\"], [0.2, \"#de77ae\"], [0.3, \"#f1b6da\"], [0.4, \"#fde0ef\"], [0.5, \"#f7f7f7\"], [0.6, \"#e6f5d0\"], [0.7, \"#b8e186\"], [0.8, \"#7fbc41\"], [0.9, \"#4d9221\"], [1, \"#276419\"]], \"sequential\": [[0.0, \"#0d0887\"], [0.1111111111111111, \"#46039f\"], [0.2222222222222222, \"#7201a8\"], [0.3333333333333333, \"#9c179e\"], [0.4444444444444444, \"#bd3786\"], [0.5555555555555556, \"#d8576b\"], [0.6666666666666666, \"#ed7953\"], [0.7777777777777778, \"#fb9f3a\"], [0.8888888888888888, \"#fdca26\"], [1.0, \"#f0f921\"]], \"sequentialminus\": [[0.0, \"#0d0887\"], [0.1111111111111111, \"#46039f\"], [0.2222222222222222, \"#7201a8\"], [0.3333333333333333, \"#9c179e\"], [0.4444444444444444, \"#bd3786\"], [0.5555555555555556, \"#d8576b\"], [0.6666666666666666, \"#ed7953\"], [0.7777777777777778, \"#fb9f3a\"], [0.8888888888888888, \"#fdca26\"], [1.0, \"#f0f921\"]]}, \"colorway\": [\"#636efa\", \"#EF553B\", \"#00cc96\", \"#ab63fa\", \"#FFA15A\", \"#19d3f3\", \"#FF6692\", \"#B6E880\", \"#FF97FF\", \"#FECB52\"], \"font\": {\"color\": \"#2a3f5f\"}, \"geo\": {\"bgcolor\": \"white\", \"lakecolor\": \"white\", \"landcolor\": \"#E5ECF6\", \"showlakes\": true, \"showland\": true, \"subunitcolor\": \"white\"}, \"hoverlabel\": {\"align\": \"left\"}, \"hovermode\": \"closest\", \"mapbox\": {\"style\": \"light\"}, \"paper_bgcolor\": \"white\", \"plot_bgcolor\": \"#E5ECF6\", \"polar\": {\"angularaxis\": {\"gridcolor\": \"white\", \"linecolor\": \"white\", \"ticks\": \"\"}, \"bgcolor\": \"#E5ECF6\", \"radialaxis\": {\"gridcolor\": \"white\", \"linecolor\": \"white\", \"ticks\": \"\"}}, \"scene\": {\"xaxis\": {\"backgroundcolor\": \"#E5ECF6\", \"gridcolor\": \"white\", \"gridwidth\": 2, \"linecolor\": \"white\", \"showbackground\": true, \"ticks\": \"\", \"zerolinecolor\": \"white\"}, \"yaxis\": {\"backgroundcolor\": \"#E5ECF6\", \"gridcolor\": \"white\", \"gridwidth\": 2, \"linecolor\": \"white\", \"showbackground\": true, \"ticks\": \"\", \"zerolinecolor\": \"white\"}, \"zaxis\": {\"backgroundcolor\": \"#E5ECF6\", \"gridcolor\": \"white\", \"gridwidth\": 2, \"linecolor\": \"white\", \"showbackground\": true, \"ticks\": \"\", \"zerolinecolor\": \"white\"}}, \"shapedefaults\": {\"line\": {\"color\": \"#2a3f5f\"}}, \"ternary\": {\"aaxis\": {\"gridcolor\": \"white\", \"linecolor\": \"white\", \"ticks\": \"\"}, \"baxis\": {\"gridcolor\": \"white\", \"linecolor\": \"white\", \"ticks\": \"\"}, \"bgcolor\": \"#E5ECF6\", \"caxis\": {\"gridcolor\": \"white\", \"linecolor\": \"white\", \"ticks\": \"\"}}, \"title\": {\"x\": 0.05}, \"xaxis\": {\"automargin\": true, \"gridcolor\": \"white\", \"linecolor\": \"white\", \"ticks\": \"\", \"title\": {\"standoff\": 15}, \"zerolinecolor\": \"white\", \"zerolinewidth\": 2}, \"yaxis\": {\"automargin\": true, \"gridcolor\": \"white\", \"linecolor\": \"white\", \"ticks\": \"\", \"title\": {\"standoff\": 15}, \"zerolinecolor\": \"white\", \"zerolinewidth\": 2}}}, \"title\": {\"text\": \"Median Income per Ward vs Crime Rate\"}},                        {\"responsive\": true}                    ).then(function(){\n",
       "                            \n",
       "var gd = document.getElementById('fa2cafed-70aa-4475-8921-58eabacbaa73');\n",
       "var x = new MutationObserver(function (mutations, observer) {{\n",
       "        var display = window.getComputedStyle(gd).display;\n",
       "        if (!display || display === 'none') {{\n",
       "            console.log([gd, 'removed!']);\n",
       "            Plotly.purge(gd);\n",
       "            observer.disconnect();\n",
       "        }}\n",
       "}});\n",
       "\n",
       "// Listen for the removal of the full notebook cells\n",
       "var notebookContainer = gd.closest('#notebook-container');\n",
       "if (notebookContainer) {{\n",
       "    x.observe(notebookContainer, {childList: true});\n",
       "}}\n",
       "\n",
       "// Listen for the clearing of the current output cell\n",
       "var outputEl = gd.closest('.output');\n",
       "if (outputEl) {{\n",
       "    x.observe(outputEl, {childList: true});\n",
       "}}\n",
       "\n",
       "                        })                };                });            </script>        </div>"
      ]
     },
     "metadata": {},
     "output_type": "display_data"
    }
   ],
   "source": [
    "# Load crime data\n",
    "visual = crime_dc.groupby('ward')['unemp_pop_no_health_insurance_coverage', 'Median_family_income($)', 'unemp_pop'].mean().reset_index()\n",
    "visual = visual.merge(crimes_by_ward, left_on='ward', right_on='ward', how='left')\n",
    "\n",
    "# Load geographic data\n",
    "file_path = 'Wards_from_2022.shp'\n",
    "gdf = gpd.read_file(file_path)\n",
    "\n",
    "# Calculate centroid coordinates\n",
    "gdf['centroid'] = gdf['geometry'].centroid\n",
    "gdf['centroid_lat'] = gdf['centroid'].y\n",
    "gdf['centroid_lon'] = gdf['centroid'].x\n",
    "\n",
    "# Assign ward numbers\n",
    "gdf['ward'] = gdf.index + 1\n",
    "print(gdf[['ward', 'centroid_lat', 'centroid_lon']])\n",
    "\n",
    "# Merge geographic data with crime data\n",
    "visual = visual.merge(gdf, left_on='ward', right_on='ward', how='left')\n",
    "\n",
    "# Mapbox token for Mapbox API access\n",
    "mapbox_token = 'pk.eyJ1Ijoic3NoaXZhbSIsImEiOiJjbHA0cnJ0cXoxNm5iMmlvYjhxcnFjZm10In0.miOfR0N1V4R8yE7OLBYglw'\n",
    "\n",
    "# Create scatter map using Plotly Express\n",
    "fig = px.scatter_mapbox(\n",
    "    visual,\n",
    "    lat='centroid_lat',\n",
    "    lon='centroid_lon',\n",
    "    color='ward',\n",
    "    size='offense',\n",
    "    hover_data=['ward', 'Median_family_income($)', 'offense'],\n",
    "    title='Median Income per Ward vs Crime Rate',\n",
    "    labels={'Median_family_income($)': 'Median Income', 'offense': 'Crime Rate'},\n",
    "    size_max=15,  # Adjust the maximum size of the bubbles\n",
    "    mapbox_style='open-street-map',  # You can choose a different map style\n",
    "    zoom=11,  # Adjust the initial zoom level\n",
    "    center=dict(lat=38.9174, lon=-77.0310)  # Set the initial center of the map (average values for Washington D.C.)\n",
    ")\n",
    "\n",
    "# Update layout with Mapbox access token\n",
    "fig.update_layout(mapbox=dict(accesstoken=mapbox_token))\n",
    "\n",
    "# Display the interactive map\n",
    "fig.show()\n"
   ]
  },
  {
   "cell_type": "markdown",
   "id": "8a8db1bf-9f90-4214-a977-d9a05f0822e3",
   "metadata": {},
   "source": [
    "### 4. Does the temperature of the day have an impact on the number of crimes?"
   ]
  },
  {
   "cell_type": "markdown",
   "id": "e86c4fe8-dc9d-4e97-98f5-d41d0b92c0d3",
   "metadata": {},
   "source": [
    "### Exploring the Relationship Between Temperature and Crime in DC\n",
    "\n",
    "### Introduction:\n",
    "Crime is a complex societal issue impacted by many factors. Prior research has suggested weather and temperature may influence criminal activity, but the exact relationship is unclear. In this analysis, we explore crime data for Washington DC to examine if outdoor temperature has an observable effect on the number of crimes.\n",
    "\n",
    "The Data\n",
    "The dataset contains details on over 26,000 crimes committed in DC over the past year, recording information like crime type, location, date, and temperature on the day. We focus specifically on analyzing daily temperature data (in fahrenheit) compared to the total number of crimes per day."
   ]
  },
  {
   "cell_type": "markdown",
   "id": "341f715c-e17a-4cf9-b13e-ebc92bda4cad",
   "metadata": {},
   "source": [
    "Analytical Approach\n",
    "\n",
    "To study the temperature-crime relationship, we:\n",
    "\n",
    "- Aggregated the crime data by date to calculate total daily crimes\n",
    "- Merged in the average temperature for each day\n",
    "- Visualized the correlation using an interactive scatter plot with a linear regression trendline"
   ]
  },
  {
   "cell_type": "code",
   "execution_count": 250,
   "id": "425cf201-ee16-4b77-839c-f905fb7d59e6",
   "metadata": {
    "tags": []
   },
   "outputs": [
    {
     "data": {
      "application/vnd.plotly.v1+json": {
       "config": {
        "plotlyServerURL": "https://plot.ly"
       },
       "data": [
        {
         "hovertemplate": "Average Temperature (F)=%{x}<br>Total Number of Crimes=%{y}<extra></extra>",
         "legendgroup": "",
         "marker": {
          "color": "#636efa",
          "symbol": "circle"
         },
         "mode": "markers",
         "name": "",
         "orientation": "v",
         "showlegend": false,
         "type": "scatter",
         "x": [
          52,
          51.5,
          59,
          58.5,
          57,
          49,
          44.5,
          38,
          43.5,
          40.5,
          39.5,
          48,
          47.5,
          35.5,
          38,
          42.5,
          42,
          49.5,
          44.5,
          46.5,
          39,
          38,
          43,
          42.5,
          42,
          45,
          39.5,
          46,
          45,
          51,
          42,
          36.5,
          36.5,
          30,
          24.5,
          46,
          45,
          40,
          55,
          54.5,
          57,
          46,
          40.5,
          48,
          48.5,
          58.5,
          54,
          48.5,
          38,
          49.5,
          53,
          54,
          48.5,
          63,
          53.5,
          37,
          43,
          54,
          45,
          46.5,
          46,
          45,
          46.5,
          44,
          45.5,
          39,
          43,
          37.5,
          43.5,
          38.5,
          42,
          48.5,
          52.5,
          46.5,
          34.5,
          40,
          46.5,
          54,
          66,
          54,
          48.5,
          56.5,
          52,
          50.5,
          47.5,
          44.5,
          49.5,
          63,
          47.5,
          52,
          64.5,
          70,
          73,
          53.5,
          48,
          47,
          50.5,
          61,
          70.5,
          72.5,
          72,
          70,
          69.5,
          62.5,
          59,
          56,
          64.5,
          69.5,
          67,
          55,
          50.5,
          49,
          52.5,
          59.5,
          55,
          61,
          57.5,
          54,
          51,
          50,
          52.5,
          55,
          59,
          61.5,
          70.5,
          59,
          60,
          64.5,
          70,
          66,
          68,
          64,
          69,
          63.5,
          59,
          62.5,
          68.5,
          66,
          66.5,
          64.5,
          66.5,
          64,
          62,
          63,
          64.5,
          71,
          67.5,
          63,
          70.5,
          78,
          73.5,
          69.5,
          69,
          69.5,
          68,
          68,
          65,
          69,
          73.5,
          70.5,
          70,
          72,
          68.5,
          71,
          72,
          73,
          74,
          75,
          65,
          63.5,
          70.5,
          78.5,
          79.5,
          81.5,
          78,
          74.5,
          73.5,
          74.5,
          77.5,
          82.5,
          83.5,
          82,
          83,
          82,
          81.5,
          83,
          77.5,
          78,
          79,
          80.5,
          84,
          82.5,
          80.5,
          81,
          81.5,
          81,
          80.5,
          79,
          78,
          76.5,
          76.5,
          77,
          80.5,
          78.5,
          86.5,
          86,
          85,
          77.5,
          76,
          72.5,
          71.5,
          72.5,
          74.5,
          77.5,
          79,
          79.5,
          76.5,
          77,
          77.5,
          78.5,
          81.5,
          80.5,
          80.5,
          84,
          78.5,
          78,
          74,
          70.5,
          74.5,
          80.5,
          73.5,
          71,
          76.5,
          83.5,
          83,
          79.5,
          76.5,
          77.5,
          79.5,
          73.5,
          69.5,
          71.5,
          81,
          85.5,
          87,
          86.5,
          86,
          82,
          78,
          75.5,
          78,
          77,
          77,
          72.5,
          68,
          68,
          64.5,
          69.5,
          66.5,
          66,
          66.5,
          66,
          61,
          67,
          65.5,
          61,
          63,
          62,
          65.5,
          69,
          71,
          72.5,
          73,
          70,
          67.5
         ],
         "xaxis": "x",
         "y": [
          73,
          69,
          99,
          91,
          97,
          88,
          99,
          70,
          79,
          73,
          90,
          73,
          86,
          96,
          85,
          80,
          75,
          77,
          84,
          86,
          97,
          91,
          97,
          90,
          77,
          92,
          84,
          103,
          89,
          89,
          98,
          81,
          84,
          81,
          82,
          83,
          90,
          92,
          78,
          80,
          99,
          96,
          78,
          73,
          92,
          102,
          99,
          103,
          85,
          69,
          97,
          85,
          76,
          88,
          111,
          104,
          73,
          62,
          64,
          84,
          69,
          76,
          84,
          87,
          62,
          95,
          87,
          78,
          77,
          64,
          69,
          94,
          82,
          82,
          57,
          91,
          84,
          85,
          81,
          78,
          94,
          82,
          90,
          73,
          84,
          83,
          85,
          101,
          76,
          86,
          107,
          88,
          79,
          72,
          92,
          69,
          89,
          78,
          92,
          78,
          100,
          95,
          83,
          114,
          73,
          79,
          78,
          86,
          79,
          118,
          86,
          81,
          86,
          97,
          92,
          86,
          100,
          104,
          96,
          83,
          77,
          106,
          99,
          107,
          94,
          80,
          81,
          93,
          106,
          77,
          97,
          108,
          129,
          83,
          84,
          95,
          112,
          106,
          102,
          116,
          93,
          90,
          104,
          72,
          88,
          89,
          111,
          86,
          100,
          85,
          113,
          85,
          96,
          101,
          114,
          102,
          107,
          110,
          112,
          104,
          95,
          87,
          96,
          102,
          118,
          121,
          121,
          87,
          103,
          91,
          109,
          99,
          132,
          123,
          112,
          98,
          98,
          85,
          94,
          102,
          109,
          83,
          93,
          77,
          128,
          119,
          115,
          96,
          99,
          107,
          119,
          139,
          144,
          123,
          104,
          91,
          98,
          91,
          111,
          105,
          115,
          125,
          125,
          136,
          113,
          107,
          100,
          110,
          95,
          91,
          112,
          89,
          112,
          120,
          112,
          111,
          130,
          115,
          110,
          108,
          128,
          113,
          117,
          102,
          116,
          102,
          96,
          85,
          82,
          99,
          105,
          104,
          85,
          83,
          115,
          109,
          99,
          89,
          67,
          90,
          106,
          90,
          73,
          85,
          67,
          70,
          69,
          75,
          84,
          70,
          101,
          86,
          90,
          75,
          95,
          100,
          93,
          81,
          84,
          89,
          85,
          91,
          81,
          82,
          98,
          97,
          82,
          105,
          103,
          104,
          96,
          82,
          85,
          65,
          44
         ],
         "yaxis": "y"
        },
        {
         "hovertemplate": "<b>OLS trendline</b><br>total_crimes = 0.497385 * Avg + 61.782<br>R<sup>2</sup>=0.204752<br><br>Average Temperature (F)=%{x}<br>Total Number of Crimes=%{y} <b>(trend)</b><extra></extra>",
         "legendgroup": "",
         "marker": {
          "color": "#636efa",
          "symbol": "circle"
         },
         "mode": "lines",
         "name": "",
         "showlegend": false,
         "type": "scatter",
         "x": [
          24.5,
          30,
          34.5,
          35.5,
          36.5,
          36.5,
          37,
          37.5,
          38,
          38,
          38,
          38,
          38.5,
          39,
          39,
          39.5,
          39.5,
          40,
          40,
          40.5,
          40.5,
          42,
          42,
          42,
          42,
          42.5,
          42.5,
          43,
          43,
          43,
          43.5,
          43.5,
          44,
          44.5,
          44.5,
          44.5,
          45,
          45,
          45,
          45,
          45,
          45.5,
          46,
          46,
          46,
          46,
          46.5,
          46.5,
          46.5,
          46.5,
          46.5,
          47,
          47.5,
          47.5,
          47.5,
          48,
          48,
          48,
          48.5,
          48.5,
          48.5,
          48.5,
          48.5,
          49,
          49,
          49.5,
          49.5,
          49.5,
          50,
          50.5,
          50.5,
          50.5,
          51,
          51,
          51.5,
          52,
          52,
          52,
          52.5,
          52.5,
          52.5,
          53,
          53.5,
          53.5,
          54,
          54,
          54,
          54,
          54,
          54,
          54.5,
          55,
          55,
          55,
          55,
          56,
          56.5,
          57,
          57,
          57.5,
          58.5,
          58.5,
          59,
          59,
          59,
          59,
          59,
          59.5,
          60,
          61,
          61,
          61,
          61,
          61.5,
          62,
          62,
          62.5,
          62.5,
          63,
          63,
          63,
          63,
          63,
          63.5,
          63.5,
          64,
          64,
          64.5,
          64.5,
          64.5,
          64.5,
          64.5,
          64.5,
          65,
          65,
          65.5,
          65.5,
          66,
          66,
          66,
          66,
          66,
          66.5,
          66.5,
          66.5,
          66.5,
          67,
          67,
          67.5,
          67.5,
          68,
          68,
          68,
          68,
          68,
          68.5,
          68.5,
          69,
          69,
          69,
          69,
          69.5,
          69.5,
          69.5,
          69.5,
          69.5,
          69.5,
          70,
          70,
          70,
          70,
          70,
          70.5,
          70.5,
          70.5,
          70.5,
          70.5,
          70.5,
          71,
          71,
          71,
          71,
          71.5,
          71.5,
          72,
          72,
          72,
          72.5,
          72.5,
          72.5,
          72.5,
          72.5,
          73,
          73,
          73,
          73.5,
          73.5,
          73.5,
          73.5,
          73.5,
          74,
          74,
          74.5,
          74.5,
          74.5,
          74.5,
          75,
          75.5,
          76,
          76.5,
          76.5,
          76.5,
          76.5,
          76.5,
          77,
          77,
          77,
          77,
          77.5,
          77.5,
          77.5,
          77.5,
          77.5,
          77.5,
          78,
          78,
          78,
          78,
          78,
          78,
          78,
          78.5,
          78.5,
          78.5,
          78.5,
          79,
          79,
          79,
          79.5,
          79.5,
          79.5,
          79.5,
          80.5,
          80.5,
          80.5,
          80.5,
          80.5,
          80.5,
          80.5,
          81,
          81,
          81,
          81.5,
          81.5,
          81.5,
          81.5,
          82,
          82,
          82,
          82.5,
          82.5,
          83,
          83,
          83,
          83.5,
          83.5,
          84,
          84,
          85,
          85.5,
          86,
          86,
          86.5,
          86.5,
          87
         ],
         "xaxis": "x",
         "y": [
          73.96796060818941,
          76.70357594587841,
          78.94180667671486,
          79.43919128356741,
          79.93657589041996,
          79.93657589041996,
          80.18526819384623,
          80.4339604972725,
          80.68265280069878,
          80.68265280069878,
          80.68265280069878,
          80.68265280069878,
          80.93134510412504,
          81.18003740755131,
          81.18003740755131,
          81.42872971097759,
          81.42872971097759,
          81.67742201440386,
          81.67742201440386,
          81.92611431783014,
          81.92611431783014,
          82.67219122810896,
          82.67219122810896,
          82.67219122810896,
          82.67219122810896,
          82.92088353153522,
          82.92088353153522,
          83.16957583496149,
          83.16957583496149,
          83.16957583496149,
          83.41826813838777,
          83.41826813838777,
          83.66696044181404,
          83.91565274524032,
          83.91565274524032,
          83.91565274524032,
          84.16434504866659,
          84.16434504866659,
          84.16434504866659,
          84.16434504866659,
          84.16434504866659,
          84.41303735209286,
          84.66172965551914,
          84.66172965551914,
          84.66172965551914,
          84.66172965551914,
          84.9104219589454,
          84.9104219589454,
          84.9104219589454,
          84.9104219589454,
          84.9104219589454,
          85.15911426237167,
          85.40780656579796,
          85.40780656579796,
          85.40780656579796,
          85.65649886922422,
          85.65649886922422,
          85.65649886922422,
          85.90519117265049,
          85.90519117265049,
          85.90519117265049,
          85.90519117265049,
          85.90519117265049,
          86.15388347607677,
          86.15388347607677,
          86.40257577950304,
          86.40257577950304,
          86.40257577950304,
          86.65126808292932,
          86.89996038635559,
          86.89996038635559,
          86.89996038635559,
          87.14865268978185,
          87.14865268978185,
          87.39734499320814,
          87.6460372966344,
          87.6460372966344,
          87.6460372966344,
          87.89472960006067,
          87.89472960006067,
          87.89472960006067,
          88.14342190348695,
          88.39211420691322,
          88.39211420691322,
          88.6408065103395,
          88.6408065103395,
          88.6408065103395,
          88.6408065103395,
          88.6408065103395,
          88.6408065103395,
          88.88949881376577,
          89.13819111719204,
          89.13819111719204,
          89.13819111719204,
          89.13819111719204,
          89.63557572404459,
          89.88426802747085,
          90.13296033089713,
          90.13296033089713,
          90.3816526343234,
          90.87903724117595,
          90.87903724117595,
          91.12772954460222,
          91.12772954460222,
          91.12772954460222,
          91.12772954460222,
          91.12772954460222,
          91.3764218480285,
          91.62511415145477,
          92.12249875830732,
          92.12249875830732,
          92.12249875830732,
          92.12249875830732,
          92.37119106173358,
          92.61988336515986,
          92.61988336515986,
          92.86857566858613,
          92.86857566858613,
          93.1172679720124,
          93.1172679720124,
          93.1172679720124,
          93.1172679720124,
          93.1172679720124,
          93.36596027543868,
          93.36596027543868,
          93.61465257886495,
          93.61465257886495,
          93.86334488229122,
          93.86334488229122,
          93.86334488229122,
          93.86334488229122,
          93.86334488229122,
          93.86334488229122,
          94.1120371857175,
          94.1120371857175,
          94.36072948914376,
          94.36072948914376,
          94.60942179257003,
          94.60942179257003,
          94.60942179257003,
          94.60942179257003,
          94.60942179257003,
          94.85811409599631,
          94.85811409599631,
          94.85811409599631,
          94.85811409599631,
          95.10680639942258,
          95.10680639942258,
          95.35549870284886,
          95.35549870284886,
          95.60419100627513,
          95.60419100627513,
          95.60419100627513,
          95.60419100627513,
          95.60419100627513,
          95.8528833097014,
          95.8528833097014,
          96.10157561312768,
          96.10157561312768,
          96.10157561312768,
          96.10157561312768,
          96.35026791655395,
          96.35026791655395,
          96.35026791655395,
          96.35026791655395,
          96.35026791655395,
          96.35026791655395,
          96.59896021998021,
          96.59896021998021,
          96.59896021998021,
          96.59896021998021,
          96.59896021998021,
          96.8476525234065,
          96.8476525234065,
          96.8476525234065,
          96.8476525234065,
          96.8476525234065,
          96.8476525234065,
          97.09634482683276,
          97.09634482683276,
          97.09634482683276,
          97.09634482683276,
          97.34503713025904,
          97.34503713025904,
          97.59372943368531,
          97.59372943368531,
          97.59372943368531,
          97.84242173711158,
          97.84242173711158,
          97.84242173711158,
          97.84242173711158,
          97.84242173711158,
          98.09111404053786,
          98.09111404053786,
          98.09111404053786,
          98.33980634396413,
          98.33980634396413,
          98.33980634396413,
          98.33980634396413,
          98.33980634396413,
          98.5884986473904,
          98.5884986473904,
          98.83719095081668,
          98.83719095081668,
          98.83719095081668,
          98.83719095081668,
          99.08588325424294,
          99.33457555766923,
          99.58326786109549,
          99.83196016452176,
          99.83196016452176,
          99.83196016452176,
          99.83196016452176,
          99.83196016452176,
          100.08065246794804,
          100.08065246794804,
          100.08065246794804,
          100.08065246794804,
          100.32934477137431,
          100.32934477137431,
          100.32934477137431,
          100.32934477137431,
          100.32934477137431,
          100.32934477137431,
          100.57803707480058,
          100.57803707480058,
          100.57803707480058,
          100.57803707480058,
          100.57803707480058,
          100.57803707480058,
          100.57803707480058,
          100.82672937822686,
          100.82672937822686,
          100.82672937822686,
          100.82672937822686,
          101.07542168165313,
          101.07542168165313,
          101.07542168165313,
          101.3241139850794,
          101.3241139850794,
          101.3241139850794,
          101.3241139850794,
          101.82149859193194,
          101.82149859193194,
          101.82149859193194,
          101.82149859193194,
          101.82149859193194,
          101.82149859193194,
          101.82149859193194,
          102.07019089535822,
          102.07019089535822,
          102.07019089535822,
          102.31888319878449,
          102.31888319878449,
          102.31888319878449,
          102.31888319878449,
          102.56757550221076,
          102.56757550221076,
          102.56757550221076,
          102.81626780563704,
          102.81626780563704,
          103.0649601090633,
          103.0649601090633,
          103.0649601090633,
          103.31365241248957,
          103.31365241248957,
          103.56234471591586,
          103.56234471591586,
          104.0597293227684,
          104.30842162619467,
          104.55711392962094,
          104.55711392962094,
          104.80580623304722,
          104.80580623304722,
          105.05449853647349
         ],
         "yaxis": "y"
        }
       ],
       "layout": {
        "annotations": [
         {
          "align": "center",
          "font": {
           "size": 11.1
          },
          "showarrow": false,
          "text": "R-squared: 0.205<br>Total Crimes = 0.497 * Average Temperature + 61.782",
          "x": 1.07,
          "xref": "paper",
          "y": -0.35,
          "yref": "paper"
         }
        ],
        "autosize": true,
        "legend": {
         "tracegroupgap": 0
        },
        "template": {
         "data": {
          "bar": [
           {
            "error_x": {
             "color": "#2a3f5f"
            },
            "error_y": {
             "color": "#2a3f5f"
            },
            "marker": {
             "line": {
              "color": "#E5ECF6",
              "width": 0.5
             }
            },
            "type": "bar"
           }
          ],
          "barpolar": [
           {
            "marker": {
             "line": {
              "color": "#E5ECF6",
              "width": 0.5
             }
            },
            "type": "barpolar"
           }
          ],
          "carpet": [
           {
            "aaxis": {
             "endlinecolor": "#2a3f5f",
             "gridcolor": "white",
             "linecolor": "white",
             "minorgridcolor": "white",
             "startlinecolor": "#2a3f5f"
            },
            "baxis": {
             "endlinecolor": "#2a3f5f",
             "gridcolor": "white",
             "linecolor": "white",
             "minorgridcolor": "white",
             "startlinecolor": "#2a3f5f"
            },
            "type": "carpet"
           }
          ],
          "choropleth": [
           {
            "colorbar": {
             "outlinewidth": 0,
             "ticks": ""
            },
            "type": "choropleth"
           }
          ],
          "contour": [
           {
            "colorbar": {
             "outlinewidth": 0,
             "ticks": ""
            },
            "colorscale": [
             [
              0,
              "#0d0887"
             ],
             [
              0.1111111111111111,
              "#46039f"
             ],
             [
              0.2222222222222222,
              "#7201a8"
             ],
             [
              0.3333333333333333,
              "#9c179e"
             ],
             [
              0.4444444444444444,
              "#bd3786"
             ],
             [
              0.5555555555555556,
              "#d8576b"
             ],
             [
              0.6666666666666666,
              "#ed7953"
             ],
             [
              0.7777777777777778,
              "#fb9f3a"
             ],
             [
              0.8888888888888888,
              "#fdca26"
             ],
             [
              1,
              "#f0f921"
             ]
            ],
            "type": "contour"
           }
          ],
          "contourcarpet": [
           {
            "colorbar": {
             "outlinewidth": 0,
             "ticks": ""
            },
            "type": "contourcarpet"
           }
          ],
          "heatmap": [
           {
            "colorbar": {
             "outlinewidth": 0,
             "ticks": ""
            },
            "colorscale": [
             [
              0,
              "#0d0887"
             ],
             [
              0.1111111111111111,
              "#46039f"
             ],
             [
              0.2222222222222222,
              "#7201a8"
             ],
             [
              0.3333333333333333,
              "#9c179e"
             ],
             [
              0.4444444444444444,
              "#bd3786"
             ],
             [
              0.5555555555555556,
              "#d8576b"
             ],
             [
              0.6666666666666666,
              "#ed7953"
             ],
             [
              0.7777777777777778,
              "#fb9f3a"
             ],
             [
              0.8888888888888888,
              "#fdca26"
             ],
             [
              1,
              "#f0f921"
             ]
            ],
            "type": "heatmap"
           }
          ],
          "heatmapgl": [
           {
            "colorbar": {
             "outlinewidth": 0,
             "ticks": ""
            },
            "colorscale": [
             [
              0,
              "#0d0887"
             ],
             [
              0.1111111111111111,
              "#46039f"
             ],
             [
              0.2222222222222222,
              "#7201a8"
             ],
             [
              0.3333333333333333,
              "#9c179e"
             ],
             [
              0.4444444444444444,
              "#bd3786"
             ],
             [
              0.5555555555555556,
              "#d8576b"
             ],
             [
              0.6666666666666666,
              "#ed7953"
             ],
             [
              0.7777777777777778,
              "#fb9f3a"
             ],
             [
              0.8888888888888888,
              "#fdca26"
             ],
             [
              1,
              "#f0f921"
             ]
            ],
            "type": "heatmapgl"
           }
          ],
          "histogram": [
           {
            "marker": {
             "colorbar": {
              "outlinewidth": 0,
              "ticks": ""
             }
            },
            "type": "histogram"
           }
          ],
          "histogram2d": [
           {
            "colorbar": {
             "outlinewidth": 0,
             "ticks": ""
            },
            "colorscale": [
             [
              0,
              "#0d0887"
             ],
             [
              0.1111111111111111,
              "#46039f"
             ],
             [
              0.2222222222222222,
              "#7201a8"
             ],
             [
              0.3333333333333333,
              "#9c179e"
             ],
             [
              0.4444444444444444,
              "#bd3786"
             ],
             [
              0.5555555555555556,
              "#d8576b"
             ],
             [
              0.6666666666666666,
              "#ed7953"
             ],
             [
              0.7777777777777778,
              "#fb9f3a"
             ],
             [
              0.8888888888888888,
              "#fdca26"
             ],
             [
              1,
              "#f0f921"
             ]
            ],
            "type": "histogram2d"
           }
          ],
          "histogram2dcontour": [
           {
            "colorbar": {
             "outlinewidth": 0,
             "ticks": ""
            },
            "colorscale": [
             [
              0,
              "#0d0887"
             ],
             [
              0.1111111111111111,
              "#46039f"
             ],
             [
              0.2222222222222222,
              "#7201a8"
             ],
             [
              0.3333333333333333,
              "#9c179e"
             ],
             [
              0.4444444444444444,
              "#bd3786"
             ],
             [
              0.5555555555555556,
              "#d8576b"
             ],
             [
              0.6666666666666666,
              "#ed7953"
             ],
             [
              0.7777777777777778,
              "#fb9f3a"
             ],
             [
              0.8888888888888888,
              "#fdca26"
             ],
             [
              1,
              "#f0f921"
             ]
            ],
            "type": "histogram2dcontour"
           }
          ],
          "mesh3d": [
           {
            "colorbar": {
             "outlinewidth": 0,
             "ticks": ""
            },
            "type": "mesh3d"
           }
          ],
          "parcoords": [
           {
            "line": {
             "colorbar": {
              "outlinewidth": 0,
              "ticks": ""
             }
            },
            "type": "parcoords"
           }
          ],
          "pie": [
           {
            "automargin": true,
            "type": "pie"
           }
          ],
          "scatter": [
           {
            "marker": {
             "colorbar": {
              "outlinewidth": 0,
              "ticks": ""
             }
            },
            "type": "scatter"
           }
          ],
          "scatter3d": [
           {
            "line": {
             "colorbar": {
              "outlinewidth": 0,
              "ticks": ""
             }
            },
            "marker": {
             "colorbar": {
              "outlinewidth": 0,
              "ticks": ""
             }
            },
            "type": "scatter3d"
           }
          ],
          "scattercarpet": [
           {
            "marker": {
             "colorbar": {
              "outlinewidth": 0,
              "ticks": ""
             }
            },
            "type": "scattercarpet"
           }
          ],
          "scattergeo": [
           {
            "marker": {
             "colorbar": {
              "outlinewidth": 0,
              "ticks": ""
             }
            },
            "type": "scattergeo"
           }
          ],
          "scattergl": [
           {
            "marker": {
             "colorbar": {
              "outlinewidth": 0,
              "ticks": ""
             }
            },
            "type": "scattergl"
           }
          ],
          "scattermapbox": [
           {
            "marker": {
             "colorbar": {
              "outlinewidth": 0,
              "ticks": ""
             }
            },
            "type": "scattermapbox"
           }
          ],
          "scatterpolar": [
           {
            "marker": {
             "colorbar": {
              "outlinewidth": 0,
              "ticks": ""
             }
            },
            "type": "scatterpolar"
           }
          ],
          "scatterpolargl": [
           {
            "marker": {
             "colorbar": {
              "outlinewidth": 0,
              "ticks": ""
             }
            },
            "type": "scatterpolargl"
           }
          ],
          "scatterternary": [
           {
            "marker": {
             "colorbar": {
              "outlinewidth": 0,
              "ticks": ""
             }
            },
            "type": "scatterternary"
           }
          ],
          "surface": [
           {
            "colorbar": {
             "outlinewidth": 0,
             "ticks": ""
            },
            "colorscale": [
             [
              0,
              "#0d0887"
             ],
             [
              0.1111111111111111,
              "#46039f"
             ],
             [
              0.2222222222222222,
              "#7201a8"
             ],
             [
              0.3333333333333333,
              "#9c179e"
             ],
             [
              0.4444444444444444,
              "#bd3786"
             ],
             [
              0.5555555555555556,
              "#d8576b"
             ],
             [
              0.6666666666666666,
              "#ed7953"
             ],
             [
              0.7777777777777778,
              "#fb9f3a"
             ],
             [
              0.8888888888888888,
              "#fdca26"
             ],
             [
              1,
              "#f0f921"
             ]
            ],
            "type": "surface"
           }
          ],
          "table": [
           {
            "cells": {
             "fill": {
              "color": "#EBF0F8"
             },
             "line": {
              "color": "white"
             }
            },
            "header": {
             "fill": {
              "color": "#C8D4E3"
             },
             "line": {
              "color": "white"
             }
            },
            "type": "table"
           }
          ]
         },
         "layout": {
          "annotationdefaults": {
           "arrowcolor": "#2a3f5f",
           "arrowhead": 0,
           "arrowwidth": 1
          },
          "coloraxis": {
           "colorbar": {
            "outlinewidth": 0,
            "ticks": ""
           }
          },
          "colorscale": {
           "diverging": [
            [
             0,
             "#8e0152"
            ],
            [
             0.1,
             "#c51b7d"
            ],
            [
             0.2,
             "#de77ae"
            ],
            [
             0.3,
             "#f1b6da"
            ],
            [
             0.4,
             "#fde0ef"
            ],
            [
             0.5,
             "#f7f7f7"
            ],
            [
             0.6,
             "#e6f5d0"
            ],
            [
             0.7,
             "#b8e186"
            ],
            [
             0.8,
             "#7fbc41"
            ],
            [
             0.9,
             "#4d9221"
            ],
            [
             1,
             "#276419"
            ]
           ],
           "sequential": [
            [
             0,
             "#0d0887"
            ],
            [
             0.1111111111111111,
             "#46039f"
            ],
            [
             0.2222222222222222,
             "#7201a8"
            ],
            [
             0.3333333333333333,
             "#9c179e"
            ],
            [
             0.4444444444444444,
             "#bd3786"
            ],
            [
             0.5555555555555556,
             "#d8576b"
            ],
            [
             0.6666666666666666,
             "#ed7953"
            ],
            [
             0.7777777777777778,
             "#fb9f3a"
            ],
            [
             0.8888888888888888,
             "#fdca26"
            ],
            [
             1,
             "#f0f921"
            ]
           ],
           "sequentialminus": [
            [
             0,
             "#0d0887"
            ],
            [
             0.1111111111111111,
             "#46039f"
            ],
            [
             0.2222222222222222,
             "#7201a8"
            ],
            [
             0.3333333333333333,
             "#9c179e"
            ],
            [
             0.4444444444444444,
             "#bd3786"
            ],
            [
             0.5555555555555556,
             "#d8576b"
            ],
            [
             0.6666666666666666,
             "#ed7953"
            ],
            [
             0.7777777777777778,
             "#fb9f3a"
            ],
            [
             0.8888888888888888,
             "#fdca26"
            ],
            [
             1,
             "#f0f921"
            ]
           ]
          },
          "colorway": [
           "#636efa",
           "#EF553B",
           "#00cc96",
           "#ab63fa",
           "#FFA15A",
           "#19d3f3",
           "#FF6692",
           "#B6E880",
           "#FF97FF",
           "#FECB52"
          ],
          "font": {
           "color": "#2a3f5f"
          },
          "geo": {
           "bgcolor": "white",
           "lakecolor": "white",
           "landcolor": "#E5ECF6",
           "showlakes": true,
           "showland": true,
           "subunitcolor": "white"
          },
          "hoverlabel": {
           "align": "left"
          },
          "hovermode": "closest",
          "mapbox": {
           "style": "light"
          },
          "paper_bgcolor": "white",
          "plot_bgcolor": "#E5ECF6",
          "polar": {
           "angularaxis": {
            "gridcolor": "white",
            "linecolor": "white",
            "ticks": ""
           },
           "bgcolor": "#E5ECF6",
           "radialaxis": {
            "gridcolor": "white",
            "linecolor": "white",
            "ticks": ""
           }
          },
          "scene": {
           "xaxis": {
            "backgroundcolor": "#E5ECF6",
            "gridcolor": "white",
            "gridwidth": 2,
            "linecolor": "white",
            "showbackground": true,
            "ticks": "",
            "zerolinecolor": "white"
           },
           "yaxis": {
            "backgroundcolor": "#E5ECF6",
            "gridcolor": "white",
            "gridwidth": 2,
            "linecolor": "white",
            "showbackground": true,
            "ticks": "",
            "zerolinecolor": "white"
           },
           "zaxis": {
            "backgroundcolor": "#E5ECF6",
            "gridcolor": "white",
            "gridwidth": 2,
            "linecolor": "white",
            "showbackground": true,
            "ticks": "",
            "zerolinecolor": "white"
           }
          },
          "shapedefaults": {
           "line": {
            "color": "#2a3f5f"
           }
          },
          "ternary": {
           "aaxis": {
            "gridcolor": "white",
            "linecolor": "white",
            "ticks": ""
           },
           "baxis": {
            "gridcolor": "white",
            "linecolor": "white",
            "ticks": ""
           },
           "bgcolor": "#E5ECF6",
           "caxis": {
            "gridcolor": "white",
            "linecolor": "white",
            "ticks": ""
           }
          },
          "title": {
           "x": 0.05
          },
          "xaxis": {
           "automargin": true,
           "gridcolor": "white",
           "linecolor": "white",
           "ticks": "",
           "title": {
            "standoff": 15
           },
           "zerolinecolor": "white",
           "zerolinewidth": 2
          },
          "yaxis": {
           "automargin": true,
           "gridcolor": "white",
           "linecolor": "white",
           "ticks": "",
           "title": {
            "standoff": 15
           },
           "zerolinecolor": "white",
           "zerolinewidth": 2
          }
         }
        },
        "title": {
         "text": "Crime vs Temperature"
        },
        "xaxis": {
         "anchor": "y",
         "autorange": true,
         "domain": [
          0,
          1
         ],
         "range": [
          20.695061964992973,
          90.80493803500703
         ],
         "title": {
          "text": "Average Temperature (F)"
         },
         "type": "linear"
        },
        "yaxis": {
         "anchor": "x",
         "autorange": true,
         "domain": [
          0,
          1
         ],
         "range": [
          35.747572815533985,
          152.25242718446603
         ],
         "title": {
          "text": "Total Number of Crimes"
         },
         "type": "linear"
        }
       }
      },
      "image/png": "[encoded data removed]",
      "text/html": [
       "<div>                            <div id=\"219f300a-c1fc-465b-ae3c-5aef94f461d9\" class=\"plotly-graph-div\" style=\"height:525px; width:100%;\"></div>            <script type=\"text/javascript\">                require([\"plotly\"], function(Plotly) {                    window.PLOTLYENV=window.PLOTLYENV || {};                                    if (document.getElementById(\"219f300a-c1fc-465b-ae3c-5aef94f461d9\")) {                    Plotly.newPlot(                        \"219f300a-c1fc-465b-ae3c-5aef94f461d9\",                        [{\"hovertemplate\": \"Average Temperature (F)=%{x}<br>Total Number of Crimes=%{y}<extra></extra>\", \"legendgroup\": \"\", \"marker\": {\"color\": \"#636efa\", \"symbol\": \"circle\"}, \"mode\": \"markers\", \"name\": \"\", \"orientation\": \"v\", \"showlegend\": false, \"type\": \"scatter\", \"x\": [52.0, 51.5, 59.0, 58.5, 57.0, 49.0, 44.5, 38.0, 43.5, 40.5, 39.5, 48.0, 47.5, 35.5, 38.0, 42.5, 42.0, 49.5, 44.5, 46.5, 39.0, 38.0, 43.0, 42.5, 42.0, 45.0, 39.5, 46.0, 45.0, 51.0, 42.0, 36.5, 36.5, 30.0, 24.5, 46.0, 45.0, 40.0, 55.0, 54.5, 57.0, 46.0, 40.5, 48.0, 48.5, 58.5, 54.0, 48.5, 38.0, 49.5, 53.0, 54.0, 48.5, 63.0, 53.5, 37.0, 43.0, 54.0, 45.0, 46.5, 46.0, 45.0, 46.5, 44.0, 45.5, 39.0, 43.0, 37.5, 43.5, 38.5, 42.0, 48.5, 52.5, 46.5, 34.5, 40.0, 46.5, 54.0, 66.0, 54.0, 48.5, 56.5, 52.0, 50.5, 47.5, 44.5, 49.5, 63.0, 47.5, 52.0, 64.5, 70.0, 73.0, 53.5, 48.0, 47.0, 50.5, 61.0, 70.5, 72.5, 72.0, 70.0, 69.5, 62.5, 59.0, 56.0, 64.5, 69.5, 67.0, 55.0, 50.5, 49.0, 52.5, 59.5, 55.0, 61.0, 57.5, 54.0, 51.0, 50.0, 52.5, 55.0, 59.0, 61.5, 70.5, 59.0, 60.0, 64.5, 70.0, 66.0, 68.0, 64.0, 69.0, 63.5, 59.0, 62.5, 68.5, 66.0, 66.5, 64.5, 66.5, 64.0, 62.0, 63.0, 64.5, 71.0, 67.5, 63.0, 70.5, 78.0, 73.5, 69.5, 69.0, 69.5, 68.0, 68.0, 65.0, 69.0, 73.5, 70.5, 70.0, 72.0, 68.5, 71.0, 72.0, 73.0, 74.0, 75.0, 65.0, 63.5, 70.5, 78.5, 79.5, 81.5, 78.0, 74.5, 73.5, 74.5, 77.5, 82.5, 83.5, 82.0, 83.0, 82.0, 81.5, 83.0, 77.5, 78.0, 79.0, 80.5, 84.0, 82.5, 80.5, 81.0, 81.5, 81.0, 80.5, 79.0, 78.0, 76.5, 76.5, 77.0, 80.5, 78.5, 86.5, 86.0, 85.0, 77.5, 76.0, 72.5, 71.5, 72.5, 74.5, 77.5, 79.0, 79.5, 76.5, 77.0, 77.5, 78.5, 81.5, 80.5, 80.5, 84.0, 78.5, 78.0, 74.0, 70.5, 74.5, 80.5, 73.5, 71.0, 76.5, 83.5, 83.0, 79.5, 76.5, 77.5, 79.5, 73.5, 69.5, 71.5, 81.0, 85.5, 87.0, 86.5, 86.0, 82.0, 78.0, 75.5, 78.0, 77.0, 77.0, 72.5, 68.0, 68.0, 64.5, 69.5, 66.5, 66.0, 66.5, 66.0, 61.0, 67.0, 65.5, 61.0, 63.0, 62.0, 65.5, 69.0, 71.0, 72.5, 73.0, 70.0, 67.5], \"xaxis\": \"x\", \"y\": [73, 69, 99, 91, 97, 88, 99, 70, 79, 73, 90, 73, 86, 96, 85, 80, 75, 77, 84, 86, 97, 91, 97, 90, 77, 92, 84, 103, 89, 89, 98, 81, 84, 81, 82, 83, 90, 92, 78, 80, 99, 96, 78, 73, 92, 102, 99, 103, 85, 69, 97, 85, 76, 88, 111, 104, 73, 62, 64, 84, 69, 76, 84, 87, 62, 95, 87, 78, 77, 64, 69, 94, 82, 82, 57, 91, 84, 85, 81, 78, 94, 82, 90, 73, 84, 83, 85, 101, 76, 86, 107, 88, 79, 72, 92, 69, 89, 78, 92, 78, 100, 95, 83, 114, 73, 79, 78, 86, 79, 118, 86, 81, 86, 97, 92, 86, 100, 104, 96, 83, 77, 106, 99, 107, 94, 80, 81, 93, 106, 77, 97, 108, 129, 83, 84, 95, 112, 106, 102, 116, 93, 90, 104, 72, 88, 89, 111, 86, 100, 85, 113, 85, 96, 101, 114, 102, 107, 110, 112, 104, 95, 87, 96, 102, 118, 121, 121, 87, 103, 91, 109, 99, 132, 123, 112, 98, 98, 85, 94, 102, 109, 83, 93, 77, 128, 119, 115, 96, 99, 107, 119, 139, 144, 123, 104, 91, 98, 91, 111, 105, 115, 125, 125, 136, 113, 107, 100, 110, 95, 91, 112, 89, 112, 120, 112, 111, 130, 115, 110, 108, 128, 113, 117, 102, 116, 102, 96, 85, 82, 99, 105, 104, 85, 83, 115, 109, 99, 89, 67, 90, 106, 90, 73, 85, 67, 70, 69, 75, 84, 70, 101, 86, 90, 75, 95, 100, 93, 81, 84, 89, 85, 91, 81, 82, 98, 97, 82, 105, 103, 104, 96, 82, 85, 65, 44], \"yaxis\": \"y\"}, {\"hovertemplate\": \"<b>OLS trendline</b><br>total_crimes = 0.497385 * Avg + 61.782<br>R<sup>2</sup>=0.204752<br><br>Average Temperature (F)=%{x}<br>Total Number of Crimes=%{y} <b>(trend)</b><extra></extra>\", \"legendgroup\": \"\", \"marker\": {\"color\": \"#636efa\", \"symbol\": \"circle\"}, \"mode\": \"lines\", \"name\": \"\", \"showlegend\": false, \"type\": \"scatter\", \"x\": [24.5, 30.0, 34.5, 35.5, 36.5, 36.5, 37.0, 37.5, 38.0, 38.0, 38.0, 38.0, 38.5, 39.0, 39.0, 39.5, 39.5, 40.0, 40.0, 40.5, 40.5, 42.0, 42.0, 42.0, 42.0, 42.5, 42.5, 43.0, 43.0, 43.0, 43.5, 43.5, 44.0, 44.5, 44.5, 44.5, 45.0, 45.0, 45.0, 45.0, 45.0, 45.5, 46.0, 46.0, 46.0, 46.0, 46.5, 46.5, 46.5, 46.5, 46.5, 47.0, 47.5, 47.5, 47.5, 48.0, 48.0, 48.0, 48.5, 48.5, 48.5, 48.5, 48.5, 49.0, 49.0, 49.5, 49.5, 49.5, 50.0, 50.5, 50.5, 50.5, 51.0, 51.0, 51.5, 52.0, 52.0, 52.0, 52.5, 52.5, 52.5, 53.0, 53.5, 53.5, 54.0, 54.0, 54.0, 54.0, 54.0, 54.0, 54.5, 55.0, 55.0, 55.0, 55.0, 56.0, 56.5, 57.0, 57.0, 57.5, 58.5, 58.5, 59.0, 59.0, 59.0, 59.0, 59.0, 59.5, 60.0, 61.0, 61.0, 61.0, 61.0, 61.5, 62.0, 62.0, 62.5, 62.5, 63.0, 63.0, 63.0, 63.0, 63.0, 63.5, 63.5, 64.0, 64.0, 64.5, 64.5, 64.5, 64.5, 64.5, 64.5, 65.0, 65.0, 65.5, 65.5, 66.0, 66.0, 66.0, 66.0, 66.0, 66.5, 66.5, 66.5, 66.5, 67.0, 67.0, 67.5, 67.5, 68.0, 68.0, 68.0, 68.0, 68.0, 68.5, 68.5, 69.0, 69.0, 69.0, 69.0, 69.5, 69.5, 69.5, 69.5, 69.5, 69.5, 70.0, 70.0, 70.0, 70.0, 70.0, 70.5, 70.5, 70.5, 70.5, 70.5, 70.5, 71.0, 71.0, 71.0, 71.0, 71.5, 71.5, 72.0, 72.0, 72.0, 72.5, 72.5, 72.5, 72.5, 72.5, 73.0, 73.0, 73.0, 73.5, 73.5, 73.5, 73.5, 73.5, 74.0, 74.0, 74.5, 74.5, 74.5, 74.5, 75.0, 75.5, 76.0, 76.5, 76.5, 76.5, 76.5, 76.5, 77.0, 77.0, 77.0, 77.0, 77.5, 77.5, 77.5, 77.5, 77.5, 77.5, 78.0, 78.0, 78.0, 78.0, 78.0, 78.0, 78.0, 78.5, 78.5, 78.5, 78.5, 79.0, 79.0, 79.0, 79.5, 79.5, 79.5, 79.5, 80.5, 80.5, 80.5, 80.5, 80.5, 80.5, 80.5, 81.0, 81.0, 81.0, 81.5, 81.5, 81.5, 81.5, 82.0, 82.0, 82.0, 82.5, 82.5, 83.0, 83.0, 83.0, 83.5, 83.5, 84.0, 84.0, 85.0, 85.5, 86.0, 86.0, 86.5, 86.5, 87.0], \"xaxis\": \"x\", \"y\": [73.96796060818941, 76.70357594587841, 78.94180667671486, 79.43919128356741, 79.93657589041996, 79.93657589041996, 80.18526819384623, 80.4339604972725, 80.68265280069878, 80.68265280069878, 80.68265280069878, 80.68265280069878, 80.93134510412504, 81.18003740755131, 81.18003740755131, 81.42872971097759, 81.42872971097759, 81.67742201440386, 81.67742201440386, 81.92611431783014, 81.92611431783014, 82.67219122810896, 82.67219122810896, 82.67219122810896, 82.67219122810896, 82.92088353153522, 82.92088353153522, 83.16957583496149, 83.16957583496149, 83.16957583496149, 83.41826813838777, 83.41826813838777, 83.66696044181404, 83.91565274524032, 83.91565274524032, 83.91565274524032, 84.16434504866659, 84.16434504866659, 84.16434504866659, 84.16434504866659, 84.16434504866659, 84.41303735209286, 84.66172965551914, 84.66172965551914, 84.66172965551914, 84.66172965551914, 84.9104219589454, 84.9104219589454, 84.9104219589454, 84.9104219589454, 84.9104219589454, 85.15911426237167, 85.40780656579796, 85.40780656579796, 85.40780656579796, 85.65649886922422, 85.65649886922422, 85.65649886922422, 85.90519117265049, 85.90519117265049, 85.90519117265049, 85.90519117265049, 85.90519117265049, 86.15388347607677, 86.15388347607677, 86.40257577950304, 86.40257577950304, 86.40257577950304, 86.65126808292932, 86.89996038635559, 86.89996038635559, 86.89996038635559, 87.14865268978185, 87.14865268978185, 87.39734499320814, 87.6460372966344, 87.6460372966344, 87.6460372966344, 87.89472960006067, 87.89472960006067, 87.89472960006067, 88.14342190348695, 88.39211420691322, 88.39211420691322, 88.6408065103395, 88.6408065103395, 88.6408065103395, 88.6408065103395, 88.6408065103395, 88.6408065103395, 88.88949881376577, 89.13819111719204, 89.13819111719204, 89.13819111719204, 89.13819111719204, 89.63557572404459, 89.88426802747085, 90.13296033089713, 90.13296033089713, 90.3816526343234, 90.87903724117595, 90.87903724117595, 91.12772954460222, 91.12772954460222, 91.12772954460222, 91.12772954460222, 91.12772954460222, 91.3764218480285, 91.62511415145477, 92.12249875830732, 92.12249875830732, 92.12249875830732, 92.12249875830732, 92.37119106173358, 92.61988336515986, 92.61988336515986, 92.86857566858613, 92.86857566858613, 93.1172679720124, 93.1172679720124, 93.1172679720124, 93.1172679720124, 93.1172679720124, 93.36596027543868, 93.36596027543868, 93.61465257886495, 93.61465257886495, 93.86334488229122, 93.86334488229122, 93.86334488229122, 93.86334488229122, 93.86334488229122, 93.86334488229122, 94.1120371857175, 94.1120371857175, 94.36072948914376, 94.36072948914376, 94.60942179257003, 94.60942179257003, 94.60942179257003, 94.60942179257003, 94.60942179257003, 94.85811409599631, 94.85811409599631, 94.85811409599631, 94.85811409599631, 95.10680639942258, 95.10680639942258, 95.35549870284886, 95.35549870284886, 95.60419100627513, 95.60419100627513, 95.60419100627513, 95.60419100627513, 95.60419100627513, 95.8528833097014, 95.8528833097014, 96.10157561312768, 96.10157561312768, 96.10157561312768, 96.10157561312768, 96.35026791655395, 96.35026791655395, 96.35026791655395, 96.35026791655395, 96.35026791655395, 96.35026791655395, 96.59896021998021, 96.59896021998021, 96.59896021998021, 96.59896021998021, 96.59896021998021, 96.8476525234065, 96.8476525234065, 96.8476525234065, 96.8476525234065, 96.8476525234065, 96.8476525234065, 97.09634482683276, 97.09634482683276, 97.09634482683276, 97.09634482683276, 97.34503713025904, 97.34503713025904, 97.59372943368531, 97.59372943368531, 97.59372943368531, 97.84242173711158, 97.84242173711158, 97.84242173711158, 97.84242173711158, 97.84242173711158, 98.09111404053786, 98.09111404053786, 98.09111404053786, 98.33980634396413, 98.33980634396413, 98.33980634396413, 98.33980634396413, 98.33980634396413, 98.5884986473904, 98.5884986473904, 98.83719095081668, 98.83719095081668, 98.83719095081668, 98.83719095081668, 99.08588325424294, 99.33457555766923, 99.58326786109549, 99.83196016452176, 99.83196016452176, 99.83196016452176, 99.83196016452176, 99.83196016452176, 100.08065246794804, 100.08065246794804, 100.08065246794804, 100.08065246794804, 100.32934477137431, 100.32934477137431, 100.32934477137431, 100.32934477137431, 100.32934477137431, 100.32934477137431, 100.57803707480058, 100.57803707480058, 100.57803707480058, 100.57803707480058, 100.57803707480058, 100.57803707480058, 100.57803707480058, 100.82672937822686, 100.82672937822686, 100.82672937822686, 100.82672937822686, 101.07542168165313, 101.07542168165313, 101.07542168165313, 101.3241139850794, 101.3241139850794, 101.3241139850794, 101.3241139850794, 101.82149859193194, 101.82149859193194, 101.82149859193194, 101.82149859193194, 101.82149859193194, 101.82149859193194, 101.82149859193194, 102.07019089535822, 102.07019089535822, 102.07019089535822, 102.31888319878449, 102.31888319878449, 102.31888319878449, 102.31888319878449, 102.56757550221076, 102.56757550221076, 102.56757550221076, 102.81626780563704, 102.81626780563704, 103.0649601090633, 103.0649601090633, 103.0649601090633, 103.31365241248957, 103.31365241248957, 103.56234471591586, 103.56234471591586, 104.0597293227684, 104.30842162619467, 104.55711392962094, 104.55711392962094, 104.80580623304722, 104.80580623304722, 105.05449853647349], \"yaxis\": \"y\"}],                        {\"annotations\": [{\"align\": \"center\", \"font\": {\"size\": 11.1}, \"showarrow\": false, \"text\": \"R-squared: 0.205<br>Total Crimes = 0.497 * Average Temperature + 61.782\", \"x\": 1.07, \"xref\": \"paper\", \"y\": -0.35, \"yref\": \"paper\"}], \"legend\": {\"tracegroupgap\": 0}, \"template\": {\"data\": {\"bar\": [{\"error_x\": {\"color\": \"#2a3f5f\"}, \"error_y\": {\"color\": \"#2a3f5f\"}, \"marker\": {\"line\": {\"color\": \"#E5ECF6\", \"width\": 0.5}}, \"type\": \"bar\"}], \"barpolar\": [{\"marker\": {\"line\": {\"color\": \"#E5ECF6\", \"width\": 0.5}}, \"type\": \"barpolar\"}], \"carpet\": [{\"aaxis\": {\"endlinecolor\": \"#2a3f5f\", \"gridcolor\": \"white\", \"linecolor\": \"white\", \"minorgridcolor\": \"white\", \"startlinecolor\": \"#2a3f5f\"}, \"baxis\": {\"endlinecolor\": \"#2a3f5f\", \"gridcolor\": \"white\", \"linecolor\": \"white\", \"minorgridcolor\": \"white\", \"startlinecolor\": \"#2a3f5f\"}, \"type\": \"carpet\"}], \"choropleth\": [{\"colorbar\": {\"outlinewidth\": 0, \"ticks\": \"\"}, \"type\": \"choropleth\"}], \"contour\": [{\"colorbar\": {\"outlinewidth\": 0, \"ticks\": \"\"}, \"colorscale\": [[0.0, \"#0d0887\"], [0.1111111111111111, \"#46039f\"], [0.2222222222222222, \"#7201a8\"], [0.3333333333333333, \"#9c179e\"], [0.4444444444444444, \"#bd3786\"], [0.5555555555555556, \"#d8576b\"], [0.6666666666666666, \"#ed7953\"], [0.7777777777777778, \"#fb9f3a\"], [0.8888888888888888, \"#fdca26\"], [1.0, \"#f0f921\"]], \"type\": \"contour\"}], \"contourcarpet\": [{\"colorbar\": {\"outlinewidth\": 0, \"ticks\": \"\"}, \"type\": \"contourcarpet\"}], \"heatmap\": [{\"colorbar\": {\"outlinewidth\": 0, \"ticks\": \"\"}, \"colorscale\": [[0.0, \"#0d0887\"], [0.1111111111111111, \"#46039f\"], [0.2222222222222222, \"#7201a8\"], [0.3333333333333333, \"#9c179e\"], [0.4444444444444444, \"#bd3786\"], [0.5555555555555556, \"#d8576b\"], [0.6666666666666666, \"#ed7953\"], [0.7777777777777778, \"#fb9f3a\"], [0.8888888888888888, \"#fdca26\"], [1.0, \"#f0f921\"]], \"type\": \"heatmap\"}], \"heatmapgl\": [{\"colorbar\": {\"outlinewidth\": 0, \"ticks\": \"\"}, \"colorscale\": [[0.0, \"#0d0887\"], [0.1111111111111111, \"#46039f\"], [0.2222222222222222, \"#7201a8\"], [0.3333333333333333, \"#9c179e\"], [0.4444444444444444, \"#bd3786\"], [0.5555555555555556, \"#d8576b\"], [0.6666666666666666, \"#ed7953\"], [0.7777777777777778, \"#fb9f3a\"], [0.8888888888888888, \"#fdca26\"], [1.0, \"#f0f921\"]], \"type\": \"heatmapgl\"}], \"histogram\": [{\"marker\": {\"colorbar\": {\"outlinewidth\": 0, \"ticks\": \"\"}}, \"type\": \"histogram\"}], \"histogram2d\": [{\"colorbar\": {\"outlinewidth\": 0, \"ticks\": \"\"}, \"colorscale\": [[0.0, \"#0d0887\"], [0.1111111111111111, \"#46039f\"], [0.2222222222222222, \"#7201a8\"], [0.3333333333333333, \"#9c179e\"], [0.4444444444444444, \"#bd3786\"], [0.5555555555555556, \"#d8576b\"], [0.6666666666666666, \"#ed7953\"], [0.7777777777777778, \"#fb9f3a\"], [0.8888888888888888, \"#fdca26\"], [1.0, \"#f0f921\"]], \"type\": \"histogram2d\"}], \"histogram2dcontour\": [{\"colorbar\": {\"outlinewidth\": 0, \"ticks\": \"\"}, \"colorscale\": [[0.0, \"#0d0887\"], [0.1111111111111111, \"#46039f\"], [0.2222222222222222, \"#7201a8\"], [0.3333333333333333, \"#9c179e\"], [0.4444444444444444, \"#bd3786\"], [0.5555555555555556, \"#d8576b\"], [0.6666666666666666, \"#ed7953\"], [0.7777777777777778, \"#fb9f3a\"], [0.8888888888888888, \"#fdca26\"], [1.0, \"#f0f921\"]], \"type\": \"histogram2dcontour\"}], \"mesh3d\": [{\"colorbar\": {\"outlinewidth\": 0, \"ticks\": \"\"}, \"type\": \"mesh3d\"}], \"parcoords\": [{\"line\": {\"colorbar\": {\"outlinewidth\": 0, \"ticks\": \"\"}}, \"type\": \"parcoords\"}], \"pie\": [{\"automargin\": true, \"type\": \"pie\"}], \"scatter\": [{\"marker\": {\"colorbar\": {\"outlinewidth\": 0, \"ticks\": \"\"}}, \"type\": \"scatter\"}], \"scatter3d\": [{\"line\": {\"colorbar\": {\"outlinewidth\": 0, \"ticks\": \"\"}}, \"marker\": {\"colorbar\": {\"outlinewidth\": 0, \"ticks\": \"\"}}, \"type\": \"scatter3d\"}], \"scattercarpet\": [{\"marker\": {\"colorbar\": {\"outlinewidth\": 0, \"ticks\": \"\"}}, \"type\": \"scattercarpet\"}], \"scattergeo\": [{\"marker\": {\"colorbar\": {\"outlinewidth\": 0, \"ticks\": \"\"}}, \"type\": \"scattergeo\"}], \"scattergl\": [{\"marker\": {\"colorbar\": {\"outlinewidth\": 0, \"ticks\": \"\"}}, \"type\": \"scattergl\"}], \"scattermapbox\": [{\"marker\": {\"colorbar\": {\"outlinewidth\": 0, \"ticks\": \"\"}}, \"type\": \"scattermapbox\"}], \"scatterpolar\": [{\"marker\": {\"colorbar\": {\"outlinewidth\": 0, \"ticks\": \"\"}}, \"type\": \"scatterpolar\"}], \"scatterpolargl\": [{\"marker\": {\"colorbar\": {\"outlinewidth\": 0, \"ticks\": \"\"}}, \"type\": \"scatterpolargl\"}], \"scatterternary\": [{\"marker\": {\"colorbar\": {\"outlinewidth\": 0, \"ticks\": \"\"}}, \"type\": \"scatterternary\"}], \"surface\": [{\"colorbar\": {\"outlinewidth\": 0, \"ticks\": \"\"}, \"colorscale\": [[0.0, \"#0d0887\"], [0.1111111111111111, \"#46039f\"], [0.2222222222222222, \"#7201a8\"], [0.3333333333333333, \"#9c179e\"], [0.4444444444444444, \"#bd3786\"], [0.5555555555555556, \"#d8576b\"], [0.6666666666666666, \"#ed7953\"], [0.7777777777777778, \"#fb9f3a\"], [0.8888888888888888, \"#fdca26\"], [1.0, \"#f0f921\"]], \"type\": \"surface\"}], \"table\": [{\"cells\": {\"fill\": {\"color\": \"#EBF0F8\"}, \"line\": {\"color\": \"white\"}}, \"header\": {\"fill\": {\"color\": \"#C8D4E3\"}, \"line\": {\"color\": \"white\"}}, \"type\": \"table\"}]}, \"layout\": {\"annotationdefaults\": {\"arrowcolor\": \"#2a3f5f\", \"arrowhead\": 0, \"arrowwidth\": 1}, \"coloraxis\": {\"colorbar\": {\"outlinewidth\": 0, \"ticks\": \"\"}}, \"colorscale\": {\"diverging\": [[0, \"#8e0152\"], [0.1, \"#c51b7d\"], [0.2, \"#de77ae\"], [0.3, \"#f1b6da\"], [0.4, \"#fde0ef\"], [0.5, \"#f7f7f7\"], [0.6, \"#e6f5d0\"], [0.7, \"#b8e186\"], [0.8, \"#7fbc41\"], [0.9, \"#4d9221\"], [1, \"#276419\"]], \"sequential\": [[0.0, \"#0d0887\"], [0.1111111111111111, \"#46039f\"], [0.2222222222222222, \"#7201a8\"], [0.3333333333333333, \"#9c179e\"], [0.4444444444444444, \"#bd3786\"], [0.5555555555555556, \"#d8576b\"], [0.6666666666666666, \"#ed7953\"], [0.7777777777777778, \"#fb9f3a\"], [0.8888888888888888, \"#fdca26\"], [1.0, \"#f0f921\"]], \"sequentialminus\": [[0.0, \"#0d0887\"], [0.1111111111111111, \"#46039f\"], [0.2222222222222222, \"#7201a8\"], [0.3333333333333333, \"#9c179e\"], [0.4444444444444444, \"#bd3786\"], [0.5555555555555556, \"#d8576b\"], [0.6666666666666666, \"#ed7953\"], [0.7777777777777778, \"#fb9f3a\"], [0.8888888888888888, \"#fdca26\"], [1.0, \"#f0f921\"]]}, \"colorway\": [\"#636efa\", \"#EF553B\", \"#00cc96\", \"#ab63fa\", \"#FFA15A\", \"#19d3f3\", \"#FF6692\", \"#B6E880\", \"#FF97FF\", \"#FECB52\"], \"font\": {\"color\": \"#2a3f5f\"}, \"geo\": {\"bgcolor\": \"white\", \"lakecolor\": \"white\", \"landcolor\": \"#E5ECF6\", \"showlakes\": true, \"showland\": true, \"subunitcolor\": \"white\"}, \"hoverlabel\": {\"align\": \"left\"}, \"hovermode\": \"closest\", \"mapbox\": {\"style\": \"light\"}, \"paper_bgcolor\": \"white\", \"plot_bgcolor\": \"#E5ECF6\", \"polar\": {\"angularaxis\": {\"gridcolor\": \"white\", \"linecolor\": \"white\", \"ticks\": \"\"}, \"bgcolor\": \"#E5ECF6\", \"radialaxis\": {\"gridcolor\": \"white\", \"linecolor\": \"white\", \"ticks\": \"\"}}, \"scene\": {\"xaxis\": {\"backgroundcolor\": \"#E5ECF6\", \"gridcolor\": \"white\", \"gridwidth\": 2, \"linecolor\": \"white\", \"showbackground\": true, \"ticks\": \"\", \"zerolinecolor\": \"white\"}, \"yaxis\": {\"backgroundcolor\": \"#E5ECF6\", \"gridcolor\": \"white\", \"gridwidth\": 2, \"linecolor\": \"white\", \"showbackground\": true, \"ticks\": \"\", \"zerolinecolor\": \"white\"}, \"zaxis\": {\"backgroundcolor\": \"#E5ECF6\", \"gridcolor\": \"white\", \"gridwidth\": 2, \"linecolor\": \"white\", \"showbackground\": true, \"ticks\": \"\", \"zerolinecolor\": \"white\"}}, \"shapedefaults\": {\"line\": {\"color\": \"#2a3f5f\"}}, \"ternary\": {\"aaxis\": {\"gridcolor\": \"white\", \"linecolor\": \"white\", \"ticks\": \"\"}, \"baxis\": {\"gridcolor\": \"white\", \"linecolor\": \"white\", \"ticks\": \"\"}, \"bgcolor\": \"#E5ECF6\", \"caxis\": {\"gridcolor\": \"white\", \"linecolor\": \"white\", \"ticks\": \"\"}}, \"title\": {\"x\": 0.05}, \"xaxis\": {\"automargin\": true, \"gridcolor\": \"white\", \"linecolor\": \"white\", \"ticks\": \"\", \"title\": {\"standoff\": 15}, \"zerolinecolor\": \"white\", \"zerolinewidth\": 2}, \"yaxis\": {\"automargin\": true, \"gridcolor\": \"white\", \"linecolor\": \"white\", \"ticks\": \"\", \"title\": {\"standoff\": 15}, \"zerolinecolor\": \"white\", \"zerolinewidth\": 2}}}, \"title\": {\"text\": \"Crime vs Temperature\"}, \"xaxis\": {\"anchor\": \"y\", \"domain\": [0.0, 1.0], \"title\": {\"text\": \"Average Temperature (F)\"}}, \"yaxis\": {\"anchor\": \"x\", \"domain\": [0.0, 1.0], \"title\": {\"text\": \"Total Number of Crimes\"}}},                        {\"responsive\": true}                    ).then(function(){\n",
       "                            \n",
       "var gd = document.getElementById('219f300a-c1fc-465b-ae3c-5aef94f461d9');\n",
       "var x = new MutationObserver(function (mutations, observer) {{\n",
       "        var display = window.getComputedStyle(gd).display;\n",
       "        if (!display || display === 'none') {{\n",
       "            console.log([gd, 'removed!']);\n",
       "            Plotly.purge(gd);\n",
       "            observer.disconnect();\n",
       "        }}\n",
       "}});\n",
       "\n",
       "// Listen for the removal of the full notebook cells\n",
       "var notebookContainer = gd.closest('#notebook-container');\n",
       "if (notebookContainer) {{\n",
       "    x.observe(notebookContainer, {childList: true});\n",
       "}}\n",
       "\n",
       "// Listen for the clearing of the current output cell\n",
       "var outputEl = gd.closest('.output');\n",
       "if (outputEl) {{\n",
       "    x.observe(outputEl, {childList: true});\n",
       "}}\n",
       "\n",
       "                        })                };                });            </script>        </div>"
      ]
     },
     "metadata": {},
     "output_type": "display_data"
    }
   ],
   "source": [
    "# Extract relevant columns\n",
    "crime_temp_data = crime_dc[['date', 'Max_Temp', 'Min_Temp', 'Avg']]\n",
    "\n",
    "# Group data by date and calculate the total number of crimes and average temperature for each day\n",
    "daily_crime_temp = crime_temp_data.groupby(['date', 'Max_Temp', 'Min_Temp', 'Avg']).size().reset_index(name='total_crimes')\n",
    "\n",
    "# Create an interactive scatter plot with plotly express\n",
    "fig = px.scatter(daily_crime_temp, x='Avg', y='total_crimes',\n",
    "                 labels={'total_crimes': 'Total Number of Crimes', 'Avg': 'Average Temperature (F)'},\n",
    "                 title='Crime vs Temperature',\n",
    "                 trendline='ols',  # Ordinary Least Squares regression line\n",
    "                 )\n",
    "\n",
    "# Get the regression results using statsmodels\n",
    "X = sm.add_constant(daily_crime_temp['Avg'])\n",
    "y = daily_crime_temp['total_crimes']\n",
    "model = sm.OLS(y, X).fit()\n",
    "\n",
    "# Extract the R-squared value and coefficients\n",
    "rsquared = model.rsquared\n",
    "slope, intercept = model.params\n",
    "\n",
    "# Create equation of the line\n",
    "equation = f'Total Crimes = {intercept:.3f} * Average Temperature + {slope:.3f}'\n",
    "\n",
    "# Add R-squared and equation to legend using annotations with reduced font size\n",
    "fig.update_layout(\n",
    "    annotations=[\n",
    "        dict(\n",
    "            x=1.07,\n",
    "            y=-0.35,\n",
    "            xref='paper',\n",
    "            yref='paper',\n",
    "            text=f'R-squared: {rsquared:.3f}<br>{equation}',\n",
    "            showarrow=False,\n",
    "            align='center',\n",
    "            font=dict(size=11.1)  # Adjust the font size as needed\n",
    "        )\n",
    "    ]\n",
    ")\n",
    "\n",
    "# Show the interactive plot\n",
    "fig.show()"
   ]
  },
  {
   "cell_type": "markdown",
   "id": "8fb7f68a-f0bd-4b81-8ebb-5a1c14b80919",
   "metadata": {},
   "source": [
    "### Observable Relationship Between Temperature and Total Crimes\n",
    "\n",
    "- Crime vs Temperature Plot\n",
    "\n",
    "The interactive scatter plot shows the correlation between average temperature and total crimes.\n",
    "We make a few key observations:\n",
    "\n",
    "There is a slight positive correlation between temperature and number of crimes, with an R-squared value of 0.20. Warmer days see more crimes on average.\n",
    "The trendline shows roughly 0.5 more crimes per degree increase in average temperature.\n",
    "Total crimes range from aroud 75/day in the winter to over 100/day in the summer. A difference of 25-30 crimes comparing cold and hot days.\n",
    "\n",
    "- Interpretation of Results\n",
    "\n",
    "The analysis indicates a measurable increase in criminal activity on warmer days. Some inferences that can be made from this relationship:\n",
    "\n",
    "1. Warmer weather leads more people to be outside, increasing opportunities for crime.\n",
    "2. Heat and discomfort may agitate violent behavior or motivate crimes of desperation.\n",
    "3. Many hospitality and tourism jobs are seasonal. Losing employment or pay cuts when seasonal work ends in the fall could motivate financially desperate crimes.\n",
    "\n",
    "However, temperature is clearly not the only factor - the variability along the trendline highlights the complexity of predicting crime based on weather alone. Exploring additional socioeconomic factors could shed more light on causes of crime patterns.\n",
    "\n",
    "\n",
    "After some prior research on this topic, I found that\n",
    "\n",
    ">Seasonal patterns in violent crimes: A 2014 report by the _Bureau of Justice Statistics_ revealed that violent crimes, including murder, rape, and aggravated assault, are more likely to occur during the summer compared to other seasons.\n",
    "\n",
    ">Effect of high heat on inmates: A 2021 report from the _National Bureau of Economic Research_ observed an 18% increase in violence among inmates on days with high heat in 36 correctional facilities. This is attributed to elevated body temperature, heart rate, and blood pressure, causing discomfort that may contribute to increased anger and violence.\n",
    "\n",
    "> More free time during summer: _Gifford’s Law Center_ suggests that increased free time during the summer provides more opportunities for criminal activities, especially among youth who are out of school.\n",
    "\n",
    "So our analysis is aligned with expectations from prior criminology research!\n",
    "And provides supporting evidence that warmer temperatures in DC contribute to slightly higher rates of crime."
   ]
  },
  {
   "cell_type": "markdown",
   "id": "41a3f05c-352d-4895-bc9f-6d61f6553b1c",
   "metadata": {},
   "source": [
    "### 5. Is there an association between the time of day a crime that a crime occurred and the type of crime?\n",
    "\n",
    "According to the dataset, there are various police shifts in which each crime was reported. The following code will provide the different police shifts."
   ]
  },
  {
   "cell_type": "code",
   "execution_count": 251,
   "id": "37e63d05-45ab-45d9-a908-227bd12a107d",
   "metadata": {
    "tags": []
   },
   "outputs": [
    {
     "data": {
      "text/plain": [
       "array(['midnight', 'day', 'evening'], dtype=object)"
      ]
     },
     "execution_count": 251,
     "metadata": {},
     "output_type": "execute_result"
    }
   ],
   "source": [
    "crime_dc['shift'].unique()"
   ]
  },
  {
   "cell_type": "markdown",
   "id": "3048df02-a39b-4fca-bdbb-d154723f5bcf",
   "metadata": {},
   "source": [
    "Based on the above output, there are 3 different police shifts: <b> midnight, day, and evening.   \n",
    "- midnight: midnight - 8:00AM\n",
    "- day: 8:00AM - 4:00PM\n",
    "- evening: 4:00PM - midnight\n",
    "\n",
    "The following visualizaiton will be created to display the frequency of reported crime during each police shift."
   ]
  },
  {
   "cell_type": "code",
   "execution_count": 252,
   "id": "09470b39-4bc4-4be0-a5e1-791c83331ed9",
   "metadata": {
    "tags": []
   },
   "outputs": [
    {
     "data": {
      "text/plain": [
       "ARSON                            9\n",
       "SEX ABUSE                      123\n",
       "HOMICIDE                       214\n",
       "BURGLARY                       821\n",
       "ASSAULT W/DANGEROUS WEAPON    1110\n",
       "ROBBERY                       2668\n",
       "MOTOR VEHICLE THEFT           5429\n",
       "THEFT F/AUTO                  5880\n",
       "THEFT/OTHER                   9837\n",
       "Name: offense, dtype: int64"
      ]
     },
     "execution_count": 252,
     "metadata": {},
     "output_type": "execute_result"
    }
   ],
   "source": [
    "crime_dc['offense'].value_counts().sort_values(ascending=True)"
   ]
  },
  {
   "cell_type": "code",
   "execution_count": 253,
   "id": "6a07efa0-f53a-4117-9253-b7d5706611b6",
   "metadata": {
    "tags": []
   },
   "outputs": [
    {
     "data": {
      "text/plain": [
       "midnight     6165\n",
       "day          9838\n",
       "evening     10088\n",
       "Name: shift, dtype: int64"
      ]
     },
     "execution_count": 253,
     "metadata": {},
     "output_type": "execute_result"
    }
   ],
   "source": [
    "# Grouping crimes by shift and arranging them from highest frequency to lowest frequency\n",
    "crime_dc['shift'].value_counts().sort_values(ascending=True)"
   ]
  },
  {
   "cell_type": "code",
   "execution_count": 254,
   "id": "266a88a5-e5d3-481b-8f5a-0a655253f89e",
   "metadata": {
    "tags": []
   },
   "outputs": [
    {
     "name": "stdout",
     "output_type": "stream",
     "text": [
      "shift                     offense   day  evening  midnight  count\n",
      "0                           ARSON  55.6     33.3      11.1      9\n",
      "1      ASSAULT W/DANGEROUS WEAPON  18.3     34.1      47.7   1110\n",
      "2                        BURGLARY  44.7     27.2      28.1    821\n",
      "3                        HOMICIDE   0.0      0.0     100.0    214\n",
      "4             MOTOR VEHICLE THEFT  40.7     37.2      22.1   5429\n",
      "5                         ROBBERY  18.1     33.1      48.9   2668\n",
      "6                       SEX ABUSE  18.7     47.2      34.1    123\n",
      "7                    THEFT F/AUTO  42.6     39.1      18.3   5880\n",
      "8                     THEFT/OTHER  41.2     42.9      15.9   9837\n"
     ]
    }
   ],
   "source": [
    "# Create a pivot table with 'Category' as index, 'TimeOfDay' as columns, and 'Value' as values\n",
    "pivot_table = pd.pivot_table(crime_dc, values='ccn', index='offense', columns='shift', aggfunc='count', fill_value=0)\n",
    "pivot_table_percent = (pivot_table.div(pivot_table.sum(axis=1), axis=0) * 100).round(1)\n",
    "pivot_table_percent['count'] = crime_count\n",
    "pivot_table_percent.reset_index(inplace=True)\n",
    "print(pivot_table_percent)"
   ]
  },
  {
   "cell_type": "code",
   "execution_count": 259,
   "id": "02fe8f5c-b1e5-45df-b17c-0e53dda68c78",
   "metadata": {
    "tags": []
   },
   "outputs": [
    {
     "ename": "TypeError",
     "evalue": "bar() got an unexpected keyword argument 'text_auto'",
     "output_type": "error",
     "traceback": [
      "\u001b[0;31m---------------------------------------------------------------------------\u001b[0m",
      "\u001b[0;31mTypeError\u001b[0m                                 Traceback (most recent call last)",
      "Cell \u001b[0;32mIn[259], line 1\u001b[0m\n\u001b[0;32m----> 1\u001b[0m fig \u001b[38;5;241m=\u001b[39m px\u001b[38;5;241m.\u001b[39mbar(\n\u001b[1;32m      2\u001b[0m     pivot_table_percent,\n\u001b[1;32m      3\u001b[0m     x\u001b[38;5;241m=\u001b[39m\u001b[38;5;124m\"\u001b[39m\u001b[38;5;124moffense\u001b[39m\u001b[38;5;124m\"\u001b[39m,\n\u001b[1;32m      4\u001b[0m     y\u001b[38;5;241m=\u001b[39m[\u001b[38;5;124m\"\u001b[39m\u001b[38;5;124mday\u001b[39m\u001b[38;5;124m\"\u001b[39m, \u001b[38;5;124m\"\u001b[39m\u001b[38;5;124mevening\u001b[39m\u001b[38;5;124m\"\u001b[39m, \u001b[38;5;124m\"\u001b[39m\u001b[38;5;124mmidnight\u001b[39m\u001b[38;5;124m\"\u001b[39m],\n\u001b[1;32m      5\u001b[0m     title\u001b[38;5;241m=\u001b[39m\u001b[38;5;124m\"\u001b[39m\u001b[38;5;124mPercent of crime by offense during each shift\u001b[39m\u001b[38;5;124m\"\u001b[39m,\n\u001b[1;32m      6\u001b[0m     text_auto\u001b[38;5;241m=\u001b[39m\u001b[38;5;28;01mTrue\u001b[39;00m,\n\u001b[1;32m      7\u001b[0m     height\u001b[38;5;241m=\u001b[39m\u001b[38;5;241m650\u001b[39m,\n\u001b[1;32m      8\u001b[0m     labels\u001b[38;5;241m=\u001b[39m{\u001b[38;5;124m'\u001b[39m\u001b[38;5;124mvalue\u001b[39m\u001b[38;5;124m'\u001b[39m: \u001b[38;5;124m'\u001b[39m\u001b[38;5;124mPercentage\u001b[39m\u001b[38;5;124m'\u001b[39m},\n\u001b[1;32m      9\u001b[0m )\n\u001b[1;32m     10\u001b[0m fig\u001b[38;5;241m.\u001b[39mupdate_layout(\n\u001b[1;32m     11\u001b[0m     yaxis\u001b[38;5;241m=\u001b[39m\u001b[38;5;28mdict\u001b[39m(\n\u001b[1;32m     12\u001b[0m         \u001b[38;5;28mrange\u001b[39m\u001b[38;5;241m=\u001b[39m[\u001b[38;5;241m0\u001b[39m, \u001b[38;5;241m110\u001b[39m]  \u001b[38;5;66;03m# Setting the y-axis range from 0 to the calculated max\u001b[39;00m\n\u001b[1;32m     13\u001b[0m     )\n\u001b[1;32m     14\u001b[0m )\n\u001b[1;32m     15\u001b[0m \u001b[38;5;66;03m# Adding annotations for each bar\u001b[39;00m\n",
      "\u001b[0;31mTypeError\u001b[0m: bar() got an unexpected keyword argument 'text_auto'"
     ]
    }
   ],
   "source": [
    "fig = px.bar(\n",
    "    pivot_table_percent,\n",
    "    x=\"offense\",\n",
    "    y=[\"day\", \"evening\", \"midnight\"],\n",
    "    title=\"Percent of crime by offense during each shift\",\n",
    "    text_auto=True,\n",
    "    height=650,\n",
    "    labels={'value': 'Percentage'},\n",
    ")\n",
    "fig.update_layout(\n",
    "    yaxis=dict(\n",
    "        range=[0, 110]  # Setting the y-axis range from 0 to the calculated max\n",
    "    )\n",
    ")\n",
    "# Adding annotations for each bar\n",
    "for index, row in pivot_table_percent.iterrows():\n",
    "    fig.add_annotation(\n",
    "        x=row['offense'],\n",
    "        y=105,  # Adjust this offset as needed\n",
    "        text=str(row['count']),\n",
    "        showarrow=False,\n",
    "        font=dict(size=12)\n",
    "    )\n",
    "fig.show()"
   ]
  },
  {
   "cell_type": "code",
   "execution_count": 266,
   "id": "9f3cf84b-d2d1-4f15-84f3-2aeec91e4d0f",
   "metadata": {
    "tags": []
   },
   "outputs": [
    {
     "ename": "TypeError",
     "evalue": "bar() got an unexpected keyword argument 'textposition'",
     "output_type": "error",
     "traceback": [
      "\u001b[0;31m---------------------------------------------------------------------------\u001b[0m",
      "\u001b[0;31mTypeError\u001b[0m                                 Traceback (most recent call last)",
      "Cell \u001b[0;32mIn[266], line 5\u001b[0m\n\u001b[1;32m      1\u001b[0m \u001b[38;5;28;01mimport\u001b[39;00m \u001b[38;5;21;01mplotly\u001b[39;00m\u001b[38;5;21;01m.\u001b[39;00m\u001b[38;5;21;01mexpress\u001b[39;00m \u001b[38;5;28;01mas\u001b[39;00m \u001b[38;5;21;01mpx\u001b[39;00m\n\u001b[1;32m      3\u001b[0m \u001b[38;5;66;03m# Your data and pivot_table_percent here...\u001b[39;00m\n\u001b[0;32m----> 5\u001b[0m fig \u001b[38;5;241m=\u001b[39m px\u001b[38;5;241m.\u001b[39mbar(\n\u001b[1;32m      6\u001b[0m     pivot_table_percent,\n\u001b[1;32m      7\u001b[0m     x\u001b[38;5;241m=\u001b[39m\u001b[38;5;124m\"\u001b[39m\u001b[38;5;124moffense\u001b[39m\u001b[38;5;124m\"\u001b[39m,\n\u001b[1;32m      8\u001b[0m     y\u001b[38;5;241m=\u001b[39m[\u001b[38;5;124m\"\u001b[39m\u001b[38;5;124mday\u001b[39m\u001b[38;5;124m\"\u001b[39m, \u001b[38;5;124m\"\u001b[39m\u001b[38;5;124mevening\u001b[39m\u001b[38;5;124m\"\u001b[39m, \u001b[38;5;124m\"\u001b[39m\u001b[38;5;124mmidnight\u001b[39m\u001b[38;5;124m\"\u001b[39m],\n\u001b[1;32m      9\u001b[0m     title\u001b[38;5;241m=\u001b[39m\u001b[38;5;124m\"\u001b[39m\u001b[38;5;124mPercent of crime by offense during each shift\u001b[39m\u001b[38;5;124m\"\u001b[39m,\n\u001b[1;32m     10\u001b[0m     height\u001b[38;5;241m=\u001b[39m\u001b[38;5;241m650\u001b[39m,\n\u001b[1;32m     11\u001b[0m     labels\u001b[38;5;241m=\u001b[39m{\u001b[38;5;124m'\u001b[39m\u001b[38;5;124mvalue\u001b[39m\u001b[38;5;124m'\u001b[39m: \u001b[38;5;124m'\u001b[39m\u001b[38;5;124mPercentage\u001b[39m\u001b[38;5;124m'\u001b[39m},\n\u001b[1;32m     12\u001b[0m     textposition\u001b[38;5;241m=\u001b[39m\u001b[38;5;124m'\u001b[39m\u001b[38;5;124mauto\u001b[39m\u001b[38;5;124m'\u001b[39m  \u001b[38;5;66;03m# Automatically position text on the bars\u001b[39;00m\n\u001b[1;32m     13\u001b[0m )\n\u001b[1;32m     15\u001b[0m fig\u001b[38;5;241m.\u001b[39mupdate_layout(\n\u001b[1;32m     16\u001b[0m     yaxis\u001b[38;5;241m=\u001b[39m\u001b[38;5;28mdict\u001b[39m(\n\u001b[1;32m     17\u001b[0m         \u001b[38;5;28mrange\u001b[39m\u001b[38;5;241m=\u001b[39m[\u001b[38;5;241m0\u001b[39m, \u001b[38;5;241m110\u001b[39m]  \u001b[38;5;66;03m# Setting the y-axis range from 0 to the calculated max\u001b[39;00m\n\u001b[1;32m     18\u001b[0m     ),\n\u001b[1;32m     19\u001b[0m )\n\u001b[1;32m     21\u001b[0m fig\u001b[38;5;241m.\u001b[39mshow()\n",
      "\u001b[0;31mTypeError\u001b[0m: bar() got an unexpected keyword argument 'textposition'"
     ]
    }
   ],
   "source": [
    "import plotly.express as px\n",
    "\n",
    "# Your data and pivot_table_percent here...\n",
    "\n",
    "fig = px.bar(\n",
    "    pivot_table_percent,\n",
    "    x=\"offense\",\n",
    "    y=[\"day\", \"evening\", \"midnight\"],\n",
    "    title=\"Percent of crime by offense during each shift\",\n",
    "    height=650,\n",
    "    labels={'value': 'Percentage'},\n",
    "    textposition='auto'  # Automatically position text on the bars\n",
    ")\n",
    "\n",
    "fig.update_layout(\n",
    "    yaxis=dict(\n",
    "        range=[0, 110]  # Setting the y-axis range from 0 to the calculated max\n",
    "    ),\n",
    ")\n",
    "\n",
    "fig.show()"
   ]
  },
  {
   "cell_type": "markdown",
   "id": "b8ebf809-bc21-4eaa-9f15-c46eb4a235c2",
   "metadata": {},
   "source": [
    "### Observations\n",
    "The bar graph represents the distribution of various crime types across three shifts: day, evening, and midnight. Assaults with a dangerous weapon predominantly occur during the evening shift (47.7%), while thefts/auto are most frequent during the day (42.6%). Homicides are exclusively reported during the midnight shift (100%). The least variation across shifts is seen in robberies, with a more even distribution. The total count of crimes for each type is indicated above the respective bars, with theft/other having the highest frequency (9837). The data suggests a correlation between the time of day and the prevalence of certain crime types.\n",
    "\n",
    "### Inferences\n",
    "The above visualization demonstrates that crimes related to theft (theft f/auto, theft/other, burglary, motor vehicle theft) primarily occur during the day shift. This may be many people may be at work or school shift, allowing for breakins to occur when people are away from their residences or vehicles. People may also be out shopping, working, or running errands during the day, which can leave their cars unattended or vulnerable to theft. It might also be because they are less likely to encounter police patrols or security guards during the day, which reduces the chance of being caught. By stealing automobiles theives might also commit serious crimes without getting caught.\n",
    "\n",
    "More serious crimes such as homicide, assault with a dangerous weapon, and robbery occur when during the midnight shift. These crimes are highly confrontational and threatening; they may be done in the midnight as there less people out and people may also be out drinking, partying, or socializing at night, which can impair their judgment, lower their inhibitions, and increase their vulnerability to violence.  According to a report by the Australian Institute of Criminology, the night-time economy, which involves the provision of entertainment, leisure, and hospitality services at night, can generate various forms of stress and conflict, such as noise, crowding, competition, and intoxication. These factors can increase the likelihood of aggression, violence, and crime among patrons, staff, and residents.\n",
    "\n",
    "### Recommendations\n",
    "These insights can be valuable for law enforcement and public safety officials to understand the distribution of crime across different times of the day and to allocate resources accordingly. To understand the distribution of the types of crimes across different police shifts, law enforcement can staff and prepare their teams appropriately for these shifts. Since more than half of the overall crime occurs during the day shift, perhaps increased patrolling may be needed to lower the incidence of thefts. The police can do this by increasing lighting, surveillance, signage, and patrols, and by enforcing policies and laws that prohibit and punish these crimes. \n",
    "\n",
    "Furthermore, increased response preparedness for violent crimes, which primarily occur in the midnight shift, can help improve officer safety and efficiency of a police response. Ultimately, D.C. law enforcement can utilize the insights from this analysis to cultivate plans that help them in their efforts to reduce and quickly respond to crime.\n",
    "\n",
    "Civilians can stay safe by avoiding walking alone at night in isolated areas, carrying pepper spray, whistle or any self defense device \n"
   ]
  },
  {
   "cell_type": "markdown",
   "id": "091ea824-102d-45b6-bda9-d6607bbb3ee4",
   "metadata": {},
   "source": [
    "### 6. Can we predict future crime rates or hotspots based on historical data and identified patterns?"
   ]
  },
  {
   "cell_type": "markdown",
   "id": "e973c92b-394a-40ec-9494-7799548d36ca",
   "metadata": {
    "tags": []
   },
   "source": [
    "### Enhancing Community Safety with Predictive Crime Analysis\n",
    "\n",
    "In Washington, DC, we're using data analysis to make neighborhoods safer. Our project predicts crime in different areas, helping the police and city leaders make better decisions.\n",
    "\n",
    "**Making Policing Smarter**\n",
    "\n",
    "Our system finds areas with more crime, so police can focus there. This helps them be proactive, responding faster to keep everyone safe.\n",
    "\n",
    "**Stopping Crime Before It Happens**\n",
    "We use the data to stop crime before it even starts. By knowing where crime might happen, we can take steps to prevent it. This means a safer city for all of us.\n",
    "\n",
    "**Giving Power to the People**\n",
    "\n",
    "People living and working in DC can now make informed choices. They know where it's safer and can work with the police to keep their communities secure.\n",
    "\n",
    "**Better Rules for Each Neighborhood**\n",
    "\n",
    "Our insights help city leaders create rules that fit each neighborhood. This way, policies are more effective because they're made with each community in mind.\n",
    "\n",
    "**Faster Help in Emergencies**\n",
    "\n",
    "Our system helps emergency services know where they might be needed most. This means they can respond quickly and help people faster in areas where crime is more likely.\n",
    "\n",
    "**Smart Decision-Making with Data**\n",
    "\n",
    "We find hidden patterns in the data, helping leaders make better choices. This way, decisions are based on facts, making our strategies more effective.\n",
    "\n",
    "**Everyone Plays a Role**\n",
    "\n",
    "Talking openly about crime and how to prevent it gets everyone involved. When the community and the police work together, we make our neighborhoods safer for everyone.\n",
    "\n",
    "In nutshell, our project levarages data to make smart choices and build a safer future for Washington, DC.\n"
   ]
  },
  {
   "cell_type": "code",
   "execution_count": 256,
   "id": "a322e4bb-1956-461e-9de4-fb5d345a723b",
   "metadata": {
    "tags": []
   },
   "outputs": [
    {
     "data": {
      "text/html": [
       "<div>\n",
       "<style scoped>\n",
       "    .dataframe tbody tr th:only-of-type {\n",
       "        vertical-align: middle;\n",
       "    }\n",
       "\n",
       "    .dataframe tbody tr th {\n",
       "        vertical-align: top;\n",
       "    }\n",
       "\n",
       "    .dataframe thead th {\n",
       "        text-align: right;\n",
       "    }\n",
       "</style>\n",
       "<table border=\"1\" class=\"dataframe\">\n",
       "  <thead>\n",
       "    <tr style=\"text-align: right;\">\n",
       "      <th></th>\n",
       "      <th>ward</th>\n",
       "      <th>year</th>\n",
       "      <th>month</th>\n",
       "      <th>offense</th>\n",
       "      <th>latitude</th>\n",
       "      <th>longitude</th>\n",
       "    </tr>\n",
       "  </thead>\n",
       "  <tbody>\n",
       "    <tr>\n",
       "      <th>0</th>\n",
       "      <td>1</td>\n",
       "      <td>2023</td>\n",
       "      <td>1</td>\n",
       "      <td>372</td>\n",
       "      <td>38.922759</td>\n",
       "      <td>-77.030622</td>\n",
       "    </tr>\n",
       "    <tr>\n",
       "      <th>1</th>\n",
       "      <td>1</td>\n",
       "      <td>2023</td>\n",
       "      <td>2</td>\n",
       "      <td>399</td>\n",
       "      <td>38.923241</td>\n",
       "      <td>-77.031128</td>\n",
       "    </tr>\n",
       "    <tr>\n",
       "      <th>2</th>\n",
       "      <td>1</td>\n",
       "      <td>2023</td>\n",
       "      <td>3</td>\n",
       "      <td>340</td>\n",
       "      <td>38.923740</td>\n",
       "      <td>-77.030967</td>\n",
       "    </tr>\n",
       "    <tr>\n",
       "      <th>3</th>\n",
       "      <td>1</td>\n",
       "      <td>2023</td>\n",
       "      <td>4</td>\n",
       "      <td>385</td>\n",
       "      <td>38.923246</td>\n",
       "      <td>-77.030556</td>\n",
       "    </tr>\n",
       "    <tr>\n",
       "      <th>4</th>\n",
       "      <td>1</td>\n",
       "      <td>2023</td>\n",
       "      <td>5</td>\n",
       "      <td>442</td>\n",
       "      <td>38.923766</td>\n",
       "      <td>-77.031474</td>\n",
       "    </tr>\n",
       "    <tr>\n",
       "      <th>...</th>\n",
       "      <td>...</td>\n",
       "      <td>...</td>\n",
       "      <td>...</td>\n",
       "      <td>...</td>\n",
       "      <td>...</td>\n",
       "      <td>...</td>\n",
       "    </tr>\n",
       "    <tr>\n",
       "      <th>75</th>\n",
       "      <td>8</td>\n",
       "      <td>2023</td>\n",
       "      <td>6</td>\n",
       "      <td>356</td>\n",
       "      <td>38.851020</td>\n",
       "      <td>-76.990111</td>\n",
       "    </tr>\n",
       "    <tr>\n",
       "      <th>76</th>\n",
       "      <td>8</td>\n",
       "      <td>2023</td>\n",
       "      <td>7</td>\n",
       "      <td>353</td>\n",
       "      <td>38.852799</td>\n",
       "      <td>-76.990776</td>\n",
       "    </tr>\n",
       "    <tr>\n",
       "      <th>77</th>\n",
       "      <td>8</td>\n",
       "      <td>2023</td>\n",
       "      <td>8</td>\n",
       "      <td>391</td>\n",
       "      <td>38.851005</td>\n",
       "      <td>-76.991276</td>\n",
       "    </tr>\n",
       "    <tr>\n",
       "      <th>78</th>\n",
       "      <td>8</td>\n",
       "      <td>2023</td>\n",
       "      <td>9</td>\n",
       "      <td>317</td>\n",
       "      <td>38.851589</td>\n",
       "      <td>-76.992197</td>\n",
       "    </tr>\n",
       "    <tr>\n",
       "      <th>79</th>\n",
       "      <td>8</td>\n",
       "      <td>2023</td>\n",
       "      <td>10</td>\n",
       "      <td>44</td>\n",
       "      <td>38.854952</td>\n",
       "      <td>-76.992217</td>\n",
       "    </tr>\n",
       "  </tbody>\n",
       "</table>\n",
       "<p>80 rows × 6 columns</p>\n",
       "</div>"
      ],
      "text/plain": [
       "    ward  year  month  offense   latitude  longitude\n",
       "0      1  2023      1      372  38.922759 -77.030622\n",
       "1      1  2023      2      399  38.923241 -77.031128\n",
       "2      1  2023      3      340  38.923740 -77.030967\n",
       "3      1  2023      4      385  38.923246 -77.030556\n",
       "4      1  2023      5      442  38.923766 -77.031474\n",
       "..   ...   ...    ...      ...        ...        ...\n",
       "75     8  2023      6      356  38.851020 -76.990111\n",
       "76     8  2023      7      353  38.852799 -76.990776\n",
       "77     8  2023      8      391  38.851005 -76.991276\n",
       "78     8  2023      9      317  38.851589 -76.992197\n",
       "79     8  2023     10       44  38.854952 -76.992217\n",
       "\n",
       "[80 rows x 6 columns]"
      ]
     },
     "execution_count": 256,
     "metadata": {},
     "output_type": "execute_result"
    }
   ],
   "source": [
    "# Convert 'report_date' to datetime format\n",
    "crime_dc['report_date'] = pd.to_datetime(crime_dc['report_date'])\n",
    "\n",
    "# Extract month and year from 'report_date'\n",
    "crime_dc['month'] = crime_dc['report_date'].dt.month\n",
    "crime_dc['year'] = crime_dc['report_date'].dt.year\n",
    "crime_dc['week'] = crime_dc['report_date'].dt.isocalendar().week\n",
    "# Group data by 'ward', 'year', and 'month', and aggregate relevant statistics\n",
    "grouped_data = crime_dc.groupby(['ward', 'year', 'month']).agg({\n",
    "    'offense': 'count',      # Count the number of offenses\n",
    "    'latitude': 'mean',      # Mean latitude\n",
    "    'longitude': 'mean'      # Mean longitude\n",
    "}).reset_index()\n",
    "grouped_data\n",
    "# grouped_data[grouped_data['ward']==5]"
   ]
  },
  {
   "cell_type": "code",
   "execution_count": 257,
   "id": "4e837b06-7b8a-4c80-810c-f0f45be7fc04",
   "metadata": {
    "tags": []
   },
   "outputs": [
    {
     "name": "stdout",
     "output_type": "stream",
     "text": [
      "     latitude  longitude  year  month\n",
      "0   38.922759 -77.030622  2023      1\n",
      "1   38.923241 -77.031128  2023      2\n",
      "2   38.923740 -77.030967  2023      3\n",
      "3   38.923246 -77.030556  2023      4\n",
      "4   38.923766 -77.031474  2023      5\n",
      "..        ...        ...   ...    ...\n",
      "75  38.851020 -76.990111  2023      6\n",
      "76  38.852799 -76.990776  2023      7\n",
      "77  38.851005 -76.991276  2023      8\n",
      "78  38.851589 -76.992197  2023      9\n",
      "79  38.854952 -76.992217  2023     10\n",
      "\n",
      "[80 rows x 4 columns]\n",
      "Mean Squared Error: 549.5760874999999\n",
      "    latitude  longitude  year  month  predicted_num_offenses\n",
      "0  38.841672 -77.006314  2024      1                   315.0\n",
      "1  38.881881 -77.010803  2024      1                   324.0\n",
      "2  38.887188 -76.949425  2024      1                   364.0\n",
      "3  38.900042 -77.046357  2024      1                   375.0\n",
      "4  38.925518 -77.031414  2024      1                   350.0\n",
      "5  38.925422 -76.985496  2024      1                   380.0\n",
      "6  38.936375 -77.078987  2024      1                   146.0\n",
      "7  38.963836 -77.034146  2024      1                   250.0\n"
     ]
    }
   ],
   "source": [
    "# Define the feature columns for the model\n",
    "feature_columns = ['latitude', 'longitude', 'year', 'month']\n",
    "\n",
    "# Extract features (X) and target variable (y) from the grouped_data DataFrame\n",
    "X = grouped_data[feature_columns]\n",
    "y = grouped_data['offense']\n",
    "\n",
    "# Display the selected feature columns\n",
    "print(grouped_data[feature_columns])\n",
    "\n",
    "# Split the data into training and testing sets\n",
    "X_train, X_test, y_train, y_test = train_test_split(X, y, test_size=0.1, random_state=42)\n",
    "\n",
    "# Standardize the features using StandardScaler\n",
    "scaler = StandardScaler()\n",
    "X_train_scaled = scaler.fit_transform(X_train)\n",
    "X_test_scaled = scaler.transform(X_test)\n",
    "\n",
    "# Initialize and train the RandomForestRegressor model\n",
    "model = RandomForestRegressor(random_state=42)\n",
    "model.fit(X_train_scaled, y_train)\n",
    "\n",
    "# Make predictions on the test set\n",
    "y_pred = model.predict(X_test_scaled)\n",
    "\n",
    "# Evaluate the model performance using Mean Squared Error\n",
    "mse = mean_squared_error(y_test, y_pred)\n",
    "print(f\"Mean Squared Error: {mse}\")\n",
    "\n",
    "# Create a DataFrame for prediction with new data\n",
    "file_path = 'Wards_from_2022.shp'\n",
    "gdf = gpd.read_file(file_path)\n",
    "\n",
    "# Calculate centroid coordinates\n",
    "gdf['centroid'] = gdf['geometry'].centroid\n",
    "gdf['centroid_lat'] = gdf['centroid'].y\n",
    "gdf['centroid_lon'] = gdf['centroid'].x\n",
    "\n",
    "# Assign ward numbers\n",
    "gdf['ward'] = gdf.index + 1\n",
    "\n",
    "data_for_prediction = pd.DataFrame()\n",
    "data_for_prediction[['latitude', 'longitude']] = gdf[['centroid_lat', 'centroid_lon']]\n",
    "data_for_prediction['year'] = 2024\n",
    "data_for_prediction['month'] = 1\n",
    "# data_for_prediction['week'] = 1\n",
    "# Standardize the new data\n",
    "new_data_scaled = scaler.transform(data_for_prediction[feature_columns])\n",
    "\n",
    "# Make predictions on the new data\n",
    "predictions = model.predict(new_data_scaled)\n",
    "\n",
    "# Round up the predicted number of offenses and update the DataFrame\n",
    "data_for_prediction['predicted_num_offenses'] = predictions\n",
    "data_for_prediction['predicted_num_offenses'] = data_for_prediction['predicted_num_offenses'].apply(np.ceil)\n",
    "\n",
    "# Display the DataFrame with predictions\n",
    "print(data_for_prediction)"
   ]
  },
  {
   "cell_type": "markdown",
   "id": "02555394-11f1-4e48-a88b-b061df9b671c",
   "metadata": {},
   "source": [
    "### Results\n",
    "\n",
    "The predictions are for a specific month (January 2024), which allows for temporal analysis. Understanding monthly variations in crime rates can help authorities anticipate and respond to seasonal trends or events that may influence criminal activity.\n",
    "\n",
    "In concluding our data analysis  on predicting crimes in January 2024, we find assurance in the moderately low Mean Squared Error (MSE) of 549.58. While our model currently provides reasonably accurate predictions based on features such as latitude, longitude, year, and month, we acknowledge the inherent uncertainties in forecasting complex phenomena like crime. The moderate MSE signals room for improvement, and we recognize the potential for refining our model with more extensive training data.\n",
    "\n",
    "As we move forward, our commitment lies in continuous enhancement. Obtaining additional data will be pivotal in strengthening the model's predictive capabilities, fostering a more nuanced understanding of the factors influencing crime rates.\n",
    "\n",
    "This underscores the iterative nature of our project, where ongoing refinement is key to delivering more accurate and insightful predictions for effective decision-making in the realm of public safety."
   ]
  },
  {
   "cell_type": "markdown",
   "id": "d5b6c7e3-67da-4a5c-b8f5-163b340ae67e",
   "metadata": {},
   "source": [
    "### Project Conclusion: Unveiling Patterns, Impacting Lives\n",
    "\n",
    "In the realm of data exploration and analysis, our systematic inquiry into weather, socioeconomic factors, liquor store prevalence, and crime patterns in Washington, DC, has revealed meaningful insights that resonate across three essential stakeholder groups: Community members, Law Enforcement, and Government.\n",
    "\n",
    "### 1. High Temperatures,  higher the crime\n",
    "\n",
    "**Why Stakeholders Should note:**\n",
    "   - **Community Members:** Warmer temperatures correlate with increased crime, impacting daily routines and safety perceptions.\n",
    "   - **Law Enforcement:** Understanding seasonal patterns aids in resource allocation and strategic planning.\n",
    "   - **Government:** Seasonal crime trends inform policy decisions, emphasizing the need for targeted interventions during warmer months.\n",
    "\n",
    "**Impact on Stakeholders' Lives:**\n",
    "   - **Community Members:** Greater awareness during warmer seasons empowers residents to take proactive safety measures.\n",
    "   - **Law Enforcement:** Enhanced resource deployment during peak crime periods improves law enforcement effectiveness.\n",
    "   - **Government:** Informed policies contribute to a safer and more secure urban environment.\n",
    "\n",
    "### 2. Lowered Household Income & Lower Unemployment, higher the crime\n",
    "\n",
    "**Why Stakeholders Should note:**\n",
    "   - **Community Members:** Socioeconomic challenges exacerbate crime rates, influencing neighborhood dynamics.\n",
    "   - **Law Enforcement:** Recognizing the correlation aids in crime prevention strategies tailored to economic conditions.\n",
    "   - **Government:** Addressing economic disparities becomes crucial for overall crime reduction and community well-being.\n",
    "\n",
    "**Impact on Stakeholders' Lives:**\n",
    "   - **Community Members:** Economic empowerment initiatives foster safer communities and a higher quality of life.\n",
    "   - **Law Enforcement:** Targeted interventions address root causes, fostering community trust and cooperation.\n",
    "   - **Government:** Socioeconomic policies become integral to crime reduction, shaping a more equitable cityscape.\n",
    "\n",
    "### 3. Liquor Store Prevalence and Crime\n",
    "Despite a thorough investigation, our analysis revealed that there isn’t a significant correlation between liquor store prevalence and crime rates in Washington, DC. The examination of the datasets did not demonstrate a clear pattern suggesting that areas with higher liquor store density experience a corresponding increase in crime prevalence.\n",
    "\n",
    "**Why Stakeholders should note:**\n",
    "   - **Community Members:** Understanding the absence of a direct link helps dispel potential misconceptions and fosters a more nuanced understanding of neighborhood dynamics.\n",
    "   - **Law Enforcement:** The absence of a clear correlation allows for a focus on other factors contributing to crime, guiding law enforcement efforts more effectively.\n",
    "   - **Government:** Regulatory decisions related to liquor store licensing should be informed by evidence, and this analysis provides insights into the lack of a straightforward relationship between liquor store prevalence and crime.\n",
    "\n",
    "**Impact on Stakeholders' Lives:**\n",
    "   - **Community Members:** Knowledge of the nuanced relationship between liquor store prevalence and crime fosters informed community discussions and initiatives.\n",
    "   - **Law Enforcement:** Focusing on multifaceted approaches to crime prevention becomes essential, ensuring resources are allocated where they can have the most impact.\n",
    "   - **Government:** Evidence-based policymaking becomes paramount, considering various factors beyond liquor store prevalence to address crime effectively.\n",
    "\n",
    "This nuanced understanding encourages stakeholders to look beyond simplistic associations, fostering a more informed and targeted approach to addressing crime in Washington, DC.\n",
    "### 4. Shift Analysis: Midnight Shift vs. Day Shift\n",
    "\n",
    "**Why Stakeholders Should note:**\n",
    "   - **Community Members:** Awareness of crime patterns during different shifts enhances personal safety awareness.\n",
    "   - **Law Enforcement:** Tailoring patrol strategies based on shift-specific crime types improves law enforcement effectiveness.\n",
    "   - **Government:** Shift-specific crime insights inform urban planning and resource allocation.\n",
    "\n",
    "**Impact on Stakeholders' Lives:**\n",
    "   - **Community Members:** Informed decisions about daily routines contribute to a safer living environment.\n",
    "   - **Law Enforcement:** Efficient resource allocation during specific shifts improves crime response times.\n",
    "   - **Government:** Urban planning incorporates shift-specific crime patterns, fostering safer and more resilient neighbourhoods.\n",
    "\n",
    "### Overall Impact\n",
    "\n",
    "Through our meticulous examination of these diverse findings, it becomes evident that stakeholders—whether individuals navigating daily life, law enforcement ensuring public safety, or policymakers shaping the urban landscape—can derive significant benefits from these data-driven insights. These revelations offer a roadmap for targeted interventions, fostering a city where safety, equity, and well-being converge. By understanding the intricacies of crime dynamics, stakeholders can collectively contribute to a Washington, DC, that is not just secure but thriving.\n"
   ]
  }
 ],
 "metadata": {
  "kernelspec": {
   "display_name": "Python 3 (ipykernel)",
   "language": "python",
   "name": "python3"
  },
  "language_info": {
   "codemirror_mode": {
    "name": "ipython",
    "version": 3
   },
   "file_extension": ".py",
   "mimetype": "text/x-python",
   "name": "python",
   "nbconvert_exporter": "python",
   "pygments_lexer": "ipython3",
   "version": "3.11.4"
  }
 },
 "nbformat": 4,
 "nbformat_minor": 5
}
