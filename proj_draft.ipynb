{
 "cells": [
  {
   "cell_type": "markdown",
   "id": "73bdb5ce-2cc3-4a9a-b40b-4116883486d0",
   "metadata": {},
   "source": [
    "<h1 style=\"color:SlateBlue\"> At the Scene of Crime </h1>\n",
    "<h2> A Comprehensive Analysis of Crime Data in Washington DC </h2>\n",
    "<h4> TerpIQ - Helena Getachew, Xinming Tan, Poojaa Ravi Kumar, Rajat Rautan, Aniket Chafekar, Adit Pawar, Shivam Shivam </h4>\n",
    "\n",
    "\n",
    "<center><img src=\"https://th.bing.com/th/id/R.94efbd62bdae0595ab0eb22d046d2540?rik=fgjR%2bfAeo19Sew&riu=http%3a%2f%2flowres.cartoonstock.com%2flaw-order-crime-criminal-thief-crime_prevention-crime_victims-ktan327_low.jpg&ehk=19rEsDm60mbLFW3%2bm9bf6CgWHPrKis6VYWMV8XOVmdY%3d&risl=&pid=ImgRaw&r=0\" alt=\"Girl in a jacket\" width=\"500\" height=\"600\"></center>\n",
    "\n",
    "<h3 style=\"color:SlateBlue\"> Introduction </h3>\n",
    "<p>\n",
    "The goal of our project is to analyze a Washington DC crime dataset to identify any potential patterns or relationships. We plan to utilize the dataset in order to measure correlations and provide insights about factors that may influence crime.\n",
    "There are multiple stakeholders involved in DC’s criminal justice system: <b>law enforcement, community members, government officials, and judicial officials</b> (judges, prosecutors, etc.). In addition, being <i>“tough on crime”</i> is commonly seen on politicians’ platforms; we can infer that public safety is an important issue for many people.\n",
    "    \n",
    "Washington DC is an attractive location for tourists and many people who desire to live in a bustling metropolitan area. According to 2022 Census data, the nation’s capital has been home to 671,803 residents <b>(U.S. Census Bureau quickfacts: District of Columbia, 2022)</b>. Our group is concerned that Washington DC may be a hotspot for crime as compared to smaller, more isolated towns. Thus, crime control is crucial to ensure the safety of DC locals and tourists. Understanding crime patterns can be helpful when developing strategies to mitigate risks and protect residents and visitors. Stakeholders can use the extrapolations of this project to create effective, data-driven solutions for crime reduction.\n",
    "For law enforcement agencies, understanding where and when to allocate resources is crucial. Identifying crime hotspots through data analysis enables them to optimize patrols and interventions. In addition, policymakers can utilize the insights derived from the analysis to formulate policies that address the root causes of crime, thereby implementing preventative measures.\n",
    "    \n",
    "For law enforcement agencies, understanding where and when to allocate resources is crucial. Identifying crime hotspots through data analysis enables them to optimize patrols and interventions. In addition, policymakers can utilize the insights derived from the analysis to formulate policies that address the root causes of crime, thereby implementing preventative measures.\n",
    "    \n",
    "Lastly, raising community awareness regarding prevalent crimes and their hotspots empowers citizens to take precautionary measures and engage in community-led initiatives to enhance neighborhood safety.\n",
    "</p>\n",
    "\n",
    "<h3 style=\"color:SlateBlue\"> Research Question </h3>\n",
    "\n",
    "1. Are there specific geographic hotspots for crime in Washington DC?\n",
    "2. Is there a correlation between the density of alcohol outlets and crime in DC?\n",
    "3. Can we predict future crime rates or hotspots based on historical data and identified patterns?\n",
    "4. Does the temperature of the day have an impact on the number of crimes?\n",
    "5. How do socioeconomic factors such as income levels, unemployment rates, and education levels correlate with crime rates in different areas of Washington DC?\n",
    "6. Is there an association between the time of day a crime that a crime occurred and the type of crime?\n",
    "\n",
    "<h3 style=\"color:SlateBlue\"> Data Sets </h3>\n",
    "\n",
    "**DC Crime Dataset**\n",
    "The Washington DC Crime Dataset was published on Kaggle and contains details about reported crimes that occurred from October 2022 to October 2023.\n",
    "\n",
    "Source: https://www.kaggle.com/datasets/karnikakapoor/crime-incidents-in-dc/data\n",
    "\n",
    "**Liquor Licenses in DC Dataset**\n",
    "Since we are also interested in a potential association between the prevalence of alcohol outlets on crime occurrence in Washington DC, a second dataset was obtained from Open Data DC entitled “Liquor Licenses.” The Liquor Licenses dataset contains 2,300 records and 41 variables. We are most interested in the location of these liquor stores so that we can assess if there is a relationship between the number of alcohol outlets in aparticular area and crime within that area.\n",
    "\n",
    "Source: https://opendata.dc.gov/datasets/liquor-licenses/explore?location=38.819686%2C-76.814256%2C9.41 \n",
    "</br>\n",
    "Permissions: https://creativecommons.org/licenses/by/4.0/\n",
    "\n",
    "**Weather Data**\n",
    "We are also interested in the relationship between daily temperatures and crime occurrence. Thus, we will be using National Weather Service (NWS) data that contains average daily temperature reports from 2022 to 2023 (365 records). We will assign these temperatures to the corresponding crime date to evaluate this relationship.\n",
    "\n",
    "Source: https://www.weather.gov/wrh/Climate?wfo=lwx\n",
    "</br>\n",
    "Permissions:The NOAA datasets made available through NODD are free for all users to access with no use restrictions and do not require any registration to access. The data is fully open for public access and can be downloaded with no egress charges.\n",
    "\n",
    "**Socio-economic Characteristics by Ward dataset**\n",
    "Finally, to evaluate the relationship between socioeconomic characteristics and crime, we will be using the American Community Survey (ACS) on Economic Characteristics by Ward dataset. The ACS dataset has unemployment rates and household income data for each ward in DC. There are 8 observations, which correspond to the 8 wards in DC, and 142 variables.\n",
    " \n",
    "Source: https://opendata.dc.gov/datasets/DCGIS::acs-economic-characteristics-dc-census-tract/about\n",
    "</br>\n",
    "Permissions: https://creativecommons.org/licenses/by/4.0/"
   ]
  },
  {
   "cell_type": "markdown",
   "id": "683352fc-cbfa-4af6-8157-470ec2074e48",
   "metadata": {},
   "source": [
    "## Data Acquisition, Cleaning Code & EDA\n",
    "\n",
    "<h3 style=\"color:SlateBlue\">1. DC Crime dataset</h3>"
   ]
  },
  {
   "cell_type": "code",
   "execution_count": null,
   "id": "4e87d411-9054-468a-9f05-22637020c14d",
   "metadata": {
    "tags": []
   },
   "outputs": [],
   "source": [
    "#importing required libraries\n",
    "import numpy as np\n",
    "import pandas as pd\n",
    "import matplotlib.pyplot as plt\n",
    "%matplotlib inline\n",
    "import seaborn as sns\n",
    "import plotly.express as px\n",
    "import folium\n",
    "from folium.plugins import HeatMap"
   ]
  },
  {
   "cell_type": "code",
   "execution_count": 2,
   "id": "f401ff0e-271c-4832-890a-e288b1ea70d9",
   "metadata": {
    "tags": []
   },
   "outputs": [],
   "source": [
    "#Loading the data\n",
    "crime_dc = pd.read_csv('crime_dc.csv')"
   ]
  },
  {
   "cell_type": "markdown",
   "id": "15e27aa2-1c1a-4d1f-9987-1b6d45ffaf0a",
   "metadata": {},
   "source": [
    "<i>Before proceeding any further, it is important to understand what each variable name is and what information is contained in each of their columns.</i>\n",
    "    \n",
    "The following code will be used to highlight column names, identify any columns with potential null values (which will be explored later in this project), and the data types of the values within the column."
   ]
  },
  {
   "cell_type": "code",
   "execution_count": 3,
   "id": "03587750-5d77-433e-afc2-e0e3e1dcc64b",
   "metadata": {
    "tags": []
   },
   "outputs": [
    {
     "name": "stdout",
     "output_type": "stream",
     "text": [
      "There are 26091 observations of crime and 28 variables provided in this DC crime dataset.\n",
      "\n",
      "\n",
      "<class 'pandas.core.frame.DataFrame'>\n",
      "RangeIndex: 26091 entries, 0 to 26090\n",
      "Data columns (total 28 columns):\n",
      " #   Column                Non-Null Count  Dtype  \n",
      "---  ------                --------------  -----  \n",
      " 0   neighborhood_cluster  26091 non-null  object \n",
      " 1   offense_group         26091 non-null  object \n",
      " 2   census_tract          26080 non-null  float64\n",
      " 3   longitude             26091 non-null  float64\n",
      " 4   end_date              24003 non-null  object \n",
      " 5   offense_text          26091 non-null  object \n",
      " 6   shift                 26091 non-null  object \n",
      " 7   district              26091 non-null  float64\n",
      " 8   yblock                26091 non-null  float64\n",
      " 9   ward                  26089 non-null  float64\n",
      " 10  year                  26091 non-null  int64  \n",
      " 11  offensekey            26091 non-null  object \n",
      " 12  bid                   4668 non-null   object \n",
      " 13  sector                25946 non-null  object \n",
      " 14  psa                   25946 non-null  float64\n",
      " 15  ucr_rank              26091 non-null  int64  \n",
      " 16  block_group           26080 non-null  object \n",
      " 17  voting_precinct       26088 non-null  object \n",
      " 18  xblock                26091 non-null  float64\n",
      " 19  block                 26091 non-null  object \n",
      " 20  start_date            26089 non-null  object \n",
      " 21  ccn                   26091 non-null  int64  \n",
      " 22  offense               26091 non-null  object \n",
      " 23  anc                   26089 non-null  object \n",
      " 24  report_date           26091 non-null  object \n",
      " 25  method                26091 non-null  object \n",
      " 26  location              26091 non-null  object \n",
      " 27  latitude              26091 non-null  float64\n",
      "dtypes: float64(8), int64(3), object(17)\n",
      "memory usage: 5.6+ MB\n"
     ]
    }
   ],
   "source": [
    "# Determining the number of rows and columns in the data frame\n",
    "print(f'There are {(crime_dc.shape[0])} observations of crime and {crime_dc.shape[1]} variables provided in this DC crime dataset.')\n",
    "print('\\n')\n",
    "# Summarizing our data's variables, data types, and frequency of non-null values\n",
    "crime_dc.info()"
   ]
  },
  {
   "cell_type": "markdown",
   "id": "ffcc05d6-d2c6-488a-a714-b362cc1a486a",
   "metadata": {},
   "source": [
    "The above output indicates that there are multiple columns with null values when comparing our 26091 to the number of non-null values in columns 0-27. These columns will be further isolated in our data cleaning process. Additionally, The following columns within the data set provide geographic information about crimes that occurred:\n",
    "\n",
    "- ward\n",
    "- neighborhood cluster\n",
    "- longitude and latitude\n",
    "- district, census tract\n",
    "- voting precent\n",
    "- block\n",
    "- block group\n",
    "\n",
    "These variables may be useful in our analysis as we search for possible crime patterns related to geographic location.\n",
    "\n",
    "Next, our data contains 3 different data types:\n",
    "\n",
    "- float values (float64)\n",
    "- integer values (int)\n",
    "- object values (object)\n",
    "\n",
    "Knowing the data types within our data set is essential so that we can properly handle our data and reduce the frequency of errors when trying to perform operations on an unsupported data type for a particular operation. Though much has already been uncovered through these intial steps within our EDA, generating value counts for the columns in column can enhance this high level overview of crime in Washington D.C.\n",
    "\n",
    "According to the source of our data, none of the float or integer values are necessarily quantitative. Rather, they are numeric categorical values used to describe the location, year, and reporting of the crime (CITE). As a result, generating descriptive statistics such as the mean, standard deviation, minimum, and maximum values would not be appropriate for our analysis. Rather determining the different values within each column would be helpful it identifying the categories that each value falls into.\n",
    "\n",
    "<h3 style=\"color:SlateBlue\">Dataset Descriptions</h3>\n",
    "\n",
    "- **ward**: Which D.C. ward the crime occurred in\n",
    "- **neighborhood cluster**: What region of the neighborhood the crime occurred in\n",
    "- **longitude**: Longitude coordinate of where the crime occurred\n",
    "- **latitude**: Latitude coordinate of where the crime occurred\n",
    "- **district**: Police district where the crime occurred\n",
    "- **census tract**: Census tract where the crime occurred \n",
    "- **psa**: Police Service Area (a segment of the district) where the crime occurred\n",
    "- **voting precint**: polling division at which the crime occurred\n",
    "- **block**: 4 digit number describing the block at which a crime occurred\n",
    "- **block group**: subset of Census Tract; groups are based on the first digit of the block number\n",
    "- **bid**: Business improvement indicator (BID); districts with many commercial businesses\n",
    "- **yblock & xblock**: block coordinates of where the crime occurred\n",
    "- **offense group**: categorization of offenses\n",
    "- **start_date**: date and time when crimed occurred\n",
    "- **end_date**: date and time when crime ended\n",
    "- **report_date**: date and time when crime was reported\n",
    "- **shift**: police shift when the crime was reported\n",
    "- **offensekey**: key that represents type of offense\n",
    "- **sector**: police sector where crime occurred\n",
    "- **ucr_rank**: Uniform Crime Reporting (UCR) rank\n",
    "- **ccn**: Criminal Complaint Number (CCN) assigned to a criminal case\n",
    "- **offense**: categorization of crime\n",
    "- **anc**: Advisory Neighborhood Comission (ANC) indicator\n",
    "- **method**: method used to commit the crime (knife, gun, others)\n",
    "- **location**: textual format of geographic coordinates\n",
    "\n",
    "\n",
    "<h3 style=\"color:SlateBlue\">Summary Statistics of DC Crime</h3>"
   ]
  },
  {
   "cell_type": "code",
   "execution_count": 4,
   "id": "8eb8b56e-561b-4c74-9a8e-bbf62e3d005f",
   "metadata": {
    "tags": []
   },
   "outputs": [
    {
     "data": {
      "text/html": [
       "<div>\n",
       "<style scoped>\n",
       "    .dataframe tbody tr th:only-of-type {\n",
       "        vertical-align: middle;\n",
       "    }\n",
       "\n",
       "    .dataframe tbody tr th {\n",
       "        vertical-align: top;\n",
       "    }\n",
       "\n",
       "    .dataframe thead th {\n",
       "        text-align: right;\n",
       "    }\n",
       "</style>\n",
       "<table border=\"1\" class=\"dataframe\">\n",
       "  <thead>\n",
       "    <tr style=\"text-align: right;\">\n",
       "      <th></th>\n",
       "      <th>census_tract</th>\n",
       "      <th>longitude</th>\n",
       "      <th>district</th>\n",
       "      <th>yblock</th>\n",
       "      <th>ward</th>\n",
       "      <th>year</th>\n",
       "      <th>psa</th>\n",
       "      <th>ucr_rank</th>\n",
       "      <th>xblock</th>\n",
       "      <th>ccn</th>\n",
       "      <th>latitude</th>\n",
       "    </tr>\n",
       "  </thead>\n",
       "  <tbody>\n",
       "    <tr>\n",
       "      <th>count</th>\n",
       "      <td>26080.000000</td>\n",
       "      <td>26091.000000</td>\n",
       "      <td>26091.000000</td>\n",
       "      <td>26091.000000</td>\n",
       "      <td>26089.000000</td>\n",
       "      <td>26091.0</td>\n",
       "      <td>25946.000000</td>\n",
       "      <td>26091.000000</td>\n",
       "      <td>26091.000000</td>\n",
       "      <td>2.609100e+04</td>\n",
       "      <td>26091.000000</td>\n",
       "    </tr>\n",
       "    <tr>\n",
       "      <th>mean</th>\n",
       "      <td>7704.170936</td>\n",
       "      <td>-77.007120</td>\n",
       "      <td>3.786976</td>\n",
       "      <td>137660.320460</td>\n",
       "      <td>4.483307</td>\n",
       "      <td>2023.0</td>\n",
       "      <td>383.785516</td>\n",
       "      <td>6.219079</td>\n",
       "      <td>399383.051324</td>\n",
       "      <td>2.310455e+07</td>\n",
       "      <td>38.906796</td>\n",
       "    </tr>\n",
       "    <tr>\n",
       "      <th>std</th>\n",
       "      <td>35776.514487</td>\n",
       "      <td>0.034812</td>\n",
       "      <td>1.863017</td>\n",
       "      <td>3395.699165</td>\n",
       "      <td>2.357882</td>\n",
       "      <td>0.0</td>\n",
       "      <td>186.424781</td>\n",
       "      <td>1.454902</td>\n",
       "      <td>3019.263230</td>\n",
       "      <td>1.764424e+05</td>\n",
       "      <td>0.030588</td>\n",
       "    </tr>\n",
       "    <tr>\n",
       "      <th>min</th>\n",
       "      <td>101.000000</td>\n",
       "      <td>-77.112316</td>\n",
       "      <td>1.000000</td>\n",
       "      <td>127432.000000</td>\n",
       "      <td>1.000000</td>\n",
       "      <td>2023.0</td>\n",
       "      <td>101.000000</td>\n",
       "      <td>1.000000</td>\n",
       "      <td>390262.040000</td>\n",
       "      <td>5.008224e+06</td>\n",
       "      <td>38.814659</td>\n",
       "    </tr>\n",
       "    <tr>\n",
       "      <th>25%</th>\n",
       "      <td>3802.000000</td>\n",
       "      <td>-77.030789</td>\n",
       "      <td>2.000000</td>\n",
       "      <td>136028.290000</td>\n",
       "      <td>2.000000</td>\n",
       "      <td>2023.0</td>\n",
       "      <td>208.000000</td>\n",
       "      <td>6.000000</td>\n",
       "      <td>397329.970000</td>\n",
       "      <td>2.304572e+07</td>\n",
       "      <td>38.892091</td>\n",
       "    </tr>\n",
       "    <tr>\n",
       "      <th>50%</th>\n",
       "      <td>7304.000000</td>\n",
       "      <td>-77.009051</td>\n",
       "      <td>4.000000</td>\n",
       "      <td>137782.000000</td>\n",
       "      <td>5.000000</td>\n",
       "      <td>2023.0</td>\n",
       "      <td>401.000000</td>\n",
       "      <td>6.000000</td>\n",
       "      <td>399215.000000</td>\n",
       "      <td>2.309233e+07</td>\n",
       "      <td>38.907897</td>\n",
       "    </tr>\n",
       "    <tr>\n",
       "      <th>75%</th>\n",
       "      <td>9102.000000</td>\n",
       "      <td>-76.985513</td>\n",
       "      <td>5.000000</td>\n",
       "      <td>139624.000000</td>\n",
       "      <td>7.000000</td>\n",
       "      <td>2023.0</td>\n",
       "      <td>506.000000</td>\n",
       "      <td>7.000000</td>\n",
       "      <td>401257.000000</td>\n",
       "      <td>2.313228e+07</td>\n",
       "      <td>38.924489</td>\n",
       "    </tr>\n",
       "    <tr>\n",
       "      <th>max</th>\n",
       "      <td>980000.000000</td>\n",
       "      <td>-76.910146</td>\n",
       "      <td>7.000000</td>\n",
       "      <td>147292.580000</td>\n",
       "      <td>8.000000</td>\n",
       "      <td>2023.0</td>\n",
       "      <td>708.000000</td>\n",
       "      <td>9.000000</td>\n",
       "      <td>407795.000000</td>\n",
       "      <td>3.102638e+07</td>\n",
       "      <td>38.993565</td>\n",
       "    </tr>\n",
       "  </tbody>\n",
       "</table>\n",
       "</div>"
      ],
      "text/plain": [
       "        census_tract     longitude      district         yblock          ward  \\\n",
       "count   26080.000000  26091.000000  26091.000000   26091.000000  26089.000000   \n",
       "mean     7704.170936    -77.007120      3.786976  137660.320460      4.483307   \n",
       "std     35776.514487      0.034812      1.863017    3395.699165      2.357882   \n",
       "min       101.000000    -77.112316      1.000000  127432.000000      1.000000   \n",
       "25%      3802.000000    -77.030789      2.000000  136028.290000      2.000000   \n",
       "50%      7304.000000    -77.009051      4.000000  137782.000000      5.000000   \n",
       "75%      9102.000000    -76.985513      5.000000  139624.000000      7.000000   \n",
       "max    980000.000000    -76.910146      7.000000  147292.580000      8.000000   \n",
       "\n",
       "          year           psa      ucr_rank         xblock           ccn  \\\n",
       "count  26091.0  25946.000000  26091.000000   26091.000000  2.609100e+04   \n",
       "mean    2023.0    383.785516      6.219079  399383.051324  2.310455e+07   \n",
       "std        0.0    186.424781      1.454902    3019.263230  1.764424e+05   \n",
       "min     2023.0    101.000000      1.000000  390262.040000  5.008224e+06   \n",
       "25%     2023.0    208.000000      6.000000  397329.970000  2.304572e+07   \n",
       "50%     2023.0    401.000000      6.000000  399215.000000  2.309233e+07   \n",
       "75%     2023.0    506.000000      7.000000  401257.000000  2.313228e+07   \n",
       "max     2023.0    708.000000      9.000000  407795.000000  3.102638e+07   \n",
       "\n",
       "           latitude  \n",
       "count  26091.000000  \n",
       "mean      38.906796  \n",
       "std        0.030588  \n",
       "min       38.814659  \n",
       "25%       38.892091  \n",
       "50%       38.907897  \n",
       "75%       38.924489  \n",
       "max       38.993565  "
      ]
     },
     "execution_count": 4,
     "metadata": {},
     "output_type": "execute_result"
    }
   ],
   "source": [
    "# Obtaining summary statistics of DC Crime\n",
    "crime_dc.describe()"
   ]
  },
  {
   "cell_type": "markdown",
   "id": "46754959-ad43-4b59-a381-df60b2a4440b",
   "metadata": {},
   "source": [
    "<h3 style=\"color:SlateBlue\">Data Cleaning</h3>\n",
    "<h4>Identifying Null Values</h4>"
   ]
  },
  {
   "cell_type": "code",
   "execution_count": 5,
   "id": "d757c54a-f31f-42c5-b5bf-49bc58d4d4ad",
   "metadata": {
    "tags": []
   },
   "outputs": [
    {
     "data": {
      "text/plain": [
       "neighborhood_cluster        0\n",
       "offense_group               0\n",
       "census_tract               11\n",
       "longitude                   0\n",
       "end_date                 2088\n",
       "offense_text                0\n",
       "shift                       0\n",
       "district                    0\n",
       "yblock                      0\n",
       "ward                        2\n",
       "year                        0\n",
       "offensekey                  0\n",
       "bid                     21423\n",
       "sector                    145\n",
       "psa                       145\n",
       "ucr_rank                    0\n",
       "block_group                11\n",
       "voting_precinct             3\n",
       "xblock                      0\n",
       "block                       0\n",
       "start_date                  2\n",
       "ccn                         0\n",
       "offense                     0\n",
       "anc                         2\n",
       "report_date                 0\n",
       "method                      0\n",
       "location                    0\n",
       "latitude                    0\n",
       "dtype: int64"
      ]
     },
     "execution_count": 5,
     "metadata": {},
     "output_type": "execute_result"
    }
   ],
   "source": [
    "# Determining the number of null values in each column\n",
    "crime_dc.isnull().sum()"
   ]
  },
  {
   "cell_type": "markdown",
   "id": "9d233478-268b-497d-adff-1580f321d869",
   "metadata": {},
   "source": [
    "According to the above output, there are multiple null values throughout the dataset. For the goals of our analysis, it is crucial that we have ward data since it is a useful geographic indicator in the data set. Whether or not to drop the null ward values or impute them is based on how many other geographical indicators are available to determine what ward a crime occurred in. The rows with the null ward values will be examined in the code below."
   ]
  },
  {
   "cell_type": "code",
   "execution_count": 6,
   "id": "a63bb1e1-5efc-4720-8cca-ef173c3c4c22",
   "metadata": {
    "tags": []
   },
   "outputs": [
    {
     "data": {
      "text/html": [
       "<div>\n",
       "<style scoped>\n",
       "    .dataframe tbody tr th:only-of-type {\n",
       "        vertical-align: middle;\n",
       "    }\n",
       "\n",
       "    .dataframe tbody tr th {\n",
       "        vertical-align: top;\n",
       "    }\n",
       "\n",
       "    .dataframe thead th {\n",
       "        text-align: right;\n",
       "    }\n",
       "</style>\n",
       "<table border=\"1\" class=\"dataframe\">\n",
       "  <thead>\n",
       "    <tr style=\"text-align: right;\">\n",
       "      <th></th>\n",
       "      <th>neighborhood_cluster</th>\n",
       "      <th>offense_group</th>\n",
       "      <th>census_tract</th>\n",
       "      <th>longitude</th>\n",
       "      <th>end_date</th>\n",
       "      <th>offense_text</th>\n",
       "      <th>shift</th>\n",
       "      <th>district</th>\n",
       "      <th>yblock</th>\n",
       "      <th>ward</th>\n",
       "      <th>...</th>\n",
       "      <th>xblock</th>\n",
       "      <th>block</th>\n",
       "      <th>start_date</th>\n",
       "      <th>ccn</th>\n",
       "      <th>offense</th>\n",
       "      <th>anc</th>\n",
       "      <th>report_date</th>\n",
       "      <th>method</th>\n",
       "      <th>location</th>\n",
       "      <th>latitude</th>\n",
       "    </tr>\n",
       "  </thead>\n",
       "  <tbody>\n",
       "    <tr>\n",
       "      <th>5729</th>\n",
       "      <td>Unknown</td>\n",
       "      <td>property</td>\n",
       "      <td>NaN</td>\n",
       "      <td>-76.964453</td>\n",
       "      <td>NaN</td>\n",
       "      <td>MOTOR VEHICLE THEFT</td>\n",
       "      <td>day</td>\n",
       "      <td>5.0</td>\n",
       "      <td>140848.08</td>\n",
       "      <td>NaN</td>\n",
       "      <td>...</td>\n",
       "      <td>403081.98</td>\n",
       "      <td>3700 - 3799 block of 31st place ne</td>\n",
       "      <td>2023-10-03 06:30:00</td>\n",
       "      <td>23163092</td>\n",
       "      <td>MOTOR VEHICLE THEFT</td>\n",
       "      <td>NaN</td>\n",
       "      <td>2023-10-03 11:37:29</td>\n",
       "      <td>others</td>\n",
       "      <td>38.9355124415,-76.9644526428</td>\n",
       "      <td>38.935512</td>\n",
       "    </tr>\n",
       "    <tr>\n",
       "      <th>14628</th>\n",
       "      <td>Unknown</td>\n",
       "      <td>property</td>\n",
       "      <td>NaN</td>\n",
       "      <td>-76.964453</td>\n",
       "      <td>2023-08-22 08:30:00</td>\n",
       "      <td>MOTOR VEHICLE THEFT</td>\n",
       "      <td>day</td>\n",
       "      <td>5.0</td>\n",
       "      <td>140848.08</td>\n",
       "      <td>NaN</td>\n",
       "      <td>...</td>\n",
       "      <td>403081.98</td>\n",
       "      <td>3700 - 3799 block of 31st place ne</td>\n",
       "      <td>2023-08-21 22:30:00</td>\n",
       "      <td>23138047</td>\n",
       "      <td>MOTOR VEHICLE THEFT</td>\n",
       "      <td>NaN</td>\n",
       "      <td>2023-08-22 09:51:19</td>\n",
       "      <td>others</td>\n",
       "      <td>38.9355124415,-76.9644526428</td>\n",
       "      <td>38.935512</td>\n",
       "    </tr>\n",
       "  </tbody>\n",
       "</table>\n",
       "<p>2 rows × 28 columns</p>\n",
       "</div>"
      ],
      "text/plain": [
       "      neighborhood_cluster offense_group  census_tract  longitude  \\\n",
       "5729               Unknown      property           NaN -76.964453   \n",
       "14628              Unknown      property           NaN -76.964453   \n",
       "\n",
       "                  end_date         offense_text shift  district     yblock  \\\n",
       "5729                   NaN  MOTOR VEHICLE THEFT   day       5.0  140848.08   \n",
       "14628  2023-08-22 08:30:00  MOTOR VEHICLE THEFT   day       5.0  140848.08   \n",
       "\n",
       "       ward  ...     xblock                               block  \\\n",
       "5729    NaN  ...  403081.98  3700 - 3799 block of 31st place ne   \n",
       "14628   NaN  ...  403081.98  3700 - 3799 block of 31st place ne   \n",
       "\n",
       "                start_date       ccn              offense  anc  \\\n",
       "5729   2023-10-03 06:30:00  23163092  MOTOR VEHICLE THEFT  NaN   \n",
       "14628  2023-08-21 22:30:00  23138047  MOTOR VEHICLE THEFT  NaN   \n",
       "\n",
       "               report_date  method                      location   latitude  \n",
       "5729   2023-10-03 11:37:29  others  38.9355124415,-76.9644526428  38.935512  \n",
       "14628  2023-08-22 09:51:19  others  38.9355124415,-76.9644526428  38.935512  \n",
       "\n",
       "[2 rows x 28 columns]"
      ]
     },
     "execution_count": 6,
     "metadata": {},
     "output_type": "execute_result"
    }
   ],
   "source": [
    "crime_dc[crime_dc['ward'].isnull()]"
   ]
  },
  {
   "cell_type": "markdown",
   "id": "ba1ca5b4-648f-41bc-991e-37c8985a3292",
   "metadata": {},
   "source": [
    "By using the Washington D.C.'s Office of Planning \"What's my ward\" search, the wards for both of these crime incidients were located to be in Ward 5 based on the block data. This data can be imputed into the these 2 rows.\n",
    "\n",
    "Here is the link to the ward search feature: https://planning.dc.gov/whatsmyward"
   ]
  },
  {
   "cell_type": "code",
   "execution_count": 7,
   "id": "12fcd607-e0c0-4922-91b4-eb5bc83efd65",
   "metadata": {
    "tags": []
   },
   "outputs": [
    {
     "data": {
      "text/plain": [
       "0"
      ]
     },
     "execution_count": 7,
     "metadata": {},
     "output_type": "execute_result"
    }
   ],
   "source": [
    "# Imputing the missing ward data\n",
    "crime_dc['ward'] = crime_dc['ward'].fillna(5)\n",
    "\n",
    "# Demonstrating that there are no longer any null ward values\n",
    "crime_dc['ward'].isnull().sum()"
   ]
  },
  {
   "cell_type": "markdown",
   "id": "cca4c50c-fad6-44b1-8ab1-44019900e821",
   "metadata": {},
   "source": [
    "Now that the missing data has been addressed, we would like to explore the various geographic indicators in our data set. The following code will describe how many of these indicators (wards, districts, neighborhood clusters, voting precincts, blocks, and block groups) are in Washington D.C."
   ]
  },
  {
   "cell_type": "code",
   "execution_count": 8,
   "id": "48dad84f-6f4b-44c8-8e6e-492913f84263",
   "metadata": {
    "tags": []
   },
   "outputs": [
    {
     "name": "stdout",
     "output_type": "stream",
     "text": [
      "Number of wards: 8\n",
      "Number of districts: 7\n",
      "Number of neighborhood clusters: 46\n",
      "Number of voting precincts:144\n",
      "Number of blocks:7334\n",
      "Number of block groups: 568\n"
     ]
    }
   ],
   "source": [
    "# Determining the number of wards, districts, and neighborhood clusters in Washington D.C.\n",
    "print(f'Number of wards: {crime_dc.ward.nunique():.0f}\\nNumber of districts: {crime_dc.district.nunique()}\\nNumber of neighborhood clusters: {crime_dc.neighborhood_cluster.nunique()}\\nNumber of voting precincts:{crime_dc.voting_precinct.nunique()}\\nNumber of blocks:{crime_dc.block.nunique()}\\nNumber of block groups: {crime_dc.block_group.nunique()}')"
   ]
  },
  {
   "cell_type": "markdown",
   "id": "ff9b9ced-4bd2-4158-be06-e8e0173fcb32",
   "metadata": {},
   "source": [
    "There are also multiple (2088) null values within the \"end_date\" column. Because there could possibly be valuable date within this column, the null values in the \"end_date\" column should be imputed rather than removed. In determing what values to impute the data with, the \"start_date\" and \"report_date\" columns could provide a useful timeline that can help indicate when the crime ended. Examining the offenses for each crime with an unknown end date can also offer more context. "
   ]
  },
  {
   "cell_type": "code",
   "execution_count": 9,
   "id": "a258213a-b74a-4cdd-8add-d45719488a5e",
   "metadata": {
    "tags": []
   },
   "outputs": [
    {
     "name": "stdout",
     "output_type": "stream",
     "text": [
      "                        offense           start_date end_date  \\\n",
      "0                      HOMICIDE  2023-02-23 16:24:00      NaN   \n",
      "18                  THEFT/OTHER  2023-07-27 12:10:00      NaN   \n",
      "19          MOTOR VEHICLE THEFT  2023-08-04 12:06:00      NaN   \n",
      "29                      ROBBERY  2023-06-20 11:32:00      NaN   \n",
      "41          MOTOR VEHICLE THEFT  2023-05-20 10:14:00      NaN   \n",
      "45          MOTOR VEHICLE THEFT  2023-07-27 16:59:00      NaN   \n",
      "108         MOTOR VEHICLE THEFT  2023-07-20 01:51:00      NaN   \n",
      "120                     ROBBERY  2023-09-02 03:28:00      NaN   \n",
      "121                 THEFT/OTHER  2023-06-05 16:41:00      NaN   \n",
      "127  ASSAULT W/DANGEROUS WEAPON  2023-03-24 00:57:00      NaN   \n",
      "153                THEFT F/AUTO  2023-07-17 00:00:00      NaN   \n",
      "156                THEFT F/AUTO  2023-07-17 00:00:00      NaN   \n",
      "161         MOTOR VEHICLE THEFT  2023-07-11 02:14:00      NaN   \n",
      "213                     ROBBERY  2023-06-30 22:45:00      NaN   \n",
      "220                     ROBBERY  2023-04-14 21:52:00      NaN   \n",
      "\n",
      "             report_date  \n",
      "0    2023-02-24 00:00:00  \n",
      "18   2023-07-27 12:32:50  \n",
      "19   2023-08-04 13:10:41  \n",
      "29   2023-06-20 13:36:21  \n",
      "41   2023-05-20 11:02:15  \n",
      "45   2023-07-27 17:27:31  \n",
      "108  2023-07-20 02:37:59  \n",
      "120  2023-09-02 04:13:34  \n",
      "121  2023-06-05 17:03:58  \n",
      "127  2023-03-24 03:40:36  \n",
      "153  2023-07-18 08:22:37  \n",
      "156  2023-07-17 06:17:19  \n",
      "161  2023-07-11 02:39:57  \n",
      "213  2023-07-01 00:13:47  \n",
      "220  2023-04-14 23:08:27  \n"
     ]
    }
   ],
   "source": [
    "# Filtering the crime data set to include offense and date data\n",
    "filtered_df = crime_dc[['offense', 'start_date', 'end_date', 'report_date']]\n",
    "\n",
    "# Filtering the filtered data to include only crimes with null end date values\n",
    "filtered_df = filtered_df[filtered_df['end_date'].isnull()].head(15)\n",
    "print(filtered_df)"
   ]
  },
  {
   "cell_type": "markdown",
   "id": "285f640a-b1b4-4ee5-bfc3-696213de6199",
   "metadata": {},
   "source": [
    "While there are some time discrepancies between the start and report dates, for the initial 15 crimes with an undocumented end date, the majority started and were reported on the same day. This suggests that the end date might have also occurred on the same day as the report date. Thus, it is reasonable to impute the missing end date values with the report date data."
   ]
  },
  {
   "cell_type": "code",
   "execution_count": 10,
   "id": "ea3057be-a38c-4afa-8fbf-624479b5ba05",
   "metadata": {
    "tags": []
   },
   "outputs": [
    {
     "data": {
      "text/plain": [
       "0"
      ]
     },
     "execution_count": 10,
     "metadata": {},
     "output_type": "execute_result"
    }
   ],
   "source": [
    "# Imputing missing end_date data with the corresponding report_date data\n",
    "crime_dc['end_date'] = crime_dc['end_date'].fillna(crime_dc['report_date'])\n",
    "\n",
    "# Demonstrating that there are no more missing values in the \"end_date\" column\n",
    "crime_dc['end_date'].isnull().sum()"
   ]
  },
  {
   "cell_type": "markdown",
   "id": "29e64ceb-bd22-46b7-b568-8303e918e7de",
   "metadata": {},
   "source": [
    "We can see that there are a lot of null values in the \"bid\" column, which as stated previously provides business improvement district information. Let us check if the \"bid\" column has crossed our set threshold of 80% to decide if we have to delete or keep the column."
   ]
  },
  {
   "cell_type": "code",
   "execution_count": 11,
   "id": "62d76705-e3d3-450e-bd8f-69c7bb3ddac1",
   "metadata": {
    "tags": []
   },
   "outputs": [
    {
     "name": "stdout",
     "output_type": "stream",
     "text": [
      "The percentage null values in the bid column that are null is 82.11% which is over 80%.\n"
     ]
    }
   ],
   "source": [
    "bid_nulls = crime_dc['bid'].isnull().sum()/(crime_dc.shape[0]) * 100\n",
    "print(f'The percentage null values in the bid column that are null is {bid_nulls:.2f}% which is over 80%.')"
   ]
  },
  {
   "cell_type": "markdown",
   "id": "a85500a3-5d50-4e9e-b186-76b1a23eb4ae",
   "metadata": {},
   "source": [
    "Since more than 80% of the 'bid' column contains null values, the 'bid' column also need to be dropped for this reason. "
   ]
  },
  {
   "cell_type": "code",
   "execution_count": 12,
   "id": "fb824f3d-e497-42a6-9937-28102f6e87e9",
   "metadata": {
    "tags": []
   },
   "outputs": [],
   "source": [
    "crime_dc.drop('bid', axis=1, inplace=True)"
   ]
  },
  {
   "cell_type": "markdown",
   "id": "4efbf840-75fd-46a3-9dd5-6301a493355b",
   "metadata": {},
   "source": [
    "<h4>Identifying duplicates</h4>\n",
    "\n",
    "Firstly, we noticed that there are 3 columns that contain information about the location of a crime: Latitude, Longitude and Location. After further review, we have confirmed that the information in 'location' are the same with the information 'Latitude' and 'Longitude' contains. Therefore, considering that 'Latitude' and 'Longitude' are more useful for the subsequent data visulization, we decided drop this column to avoid redundancy.\n",
    "    \n",
    "Let us remove the location column from the dataset as it is just the text description of latitude and longitude.  \n"
   ]
  },
  {
   "cell_type": "code",
   "execution_count": 13,
   "id": "1fc67465-73e5-4103-a8f8-76aa525c43bd",
   "metadata": {
    "tags": []
   },
   "outputs": [],
   "source": [
    "# Drop location column\n",
    "crime_dc.drop('location', axis=1, inplace=True)\n",
    "\n",
    "#Repositioning longitude near latitude for easier analysis\n",
    "column_to_move = crime_dc.pop(\"longitude\")\n",
    "crime_dc.insert(len(crime_dc.columns), \"longitude\", column_to_move)\n",
    "\n",
    "# Drop 'year' columns\n",
    "crime_dc.drop(columns=['year'],inplace=True)\n",
    "\n",
    "#convert ward to type int\n",
    "crime_dc['ward'] = crime_dc['ward'].astype(int)"
   ]
  },
  {
   "cell_type": "markdown",
   "id": "11a26a12-e11a-4a2c-bcb1-d20f031d83ad",
   "metadata": {},
   "source": [
    "Additionally, we have removed the \"year\" column because we already identified that the year of each crime is all the same (2023). Also, the year of the crime appears in the start and end date columns. Therefore, the \"year\" column has been be removed.\n",
    "\n",
    "The ward data was in float format, so to allow for future merging between datasets, we have chosen to standardize the ward values to all be integers.\n",
    "\n",
    "Now that https://planning.dc.gov/whatsmywardhttps://planning.dc.gov/whatsmywardour data has been prepared and cleaned, we are able to explore the various geographic indicators in our data set. The following code will describe how many of these indicators (wards, districts, neighborhood clusters, voting precincts, blocks, and block groups) are in Washington D.C."
   ]
  },
  {
   "cell_type": "code",
   "execution_count": 14,
   "id": "b932914f-1401-4db7-afde-16b82fecc047",
   "metadata": {
    "tags": []
   },
   "outputs": [
    {
     "name": "stdout",
     "output_type": "stream",
     "text": [
      "Number of wards: 8\n",
      "Number of districts: 7\n",
      "Number of neighborhood clusters: 46\n",
      "Number of voting precincts:144\n",
      "Number of blocks:7334\n",
      "Number of block groups: 568\n"
     ]
    }
   ],
   "source": [
    "# Determining the number of wards, districts, and neighborhood clusters in Washington D.C.\n",
    "print(f'Number of wards: {crime_dc.ward.nunique():.0f}\\nNumber of districts: {crime_dc.district.nunique()}\\nNumber of neighborhood clusters: {crime_dc.neighborhood_cluster.nunique()}\\nNumber of voting precincts:{crime_dc.voting_precinct.nunique()}\\nNumber of blocks:{crime_dc.block.nunique()}\\nNumber of block groups: {crime_dc.block_group.nunique()}')"
   ]
  },
  {
   "cell_type": "markdown",
   "id": "0a53d5e3-d969-4f2c-a88e-ed06af3fb37d",
   "metadata": {},
   "source": [
    "<h3 style=\"color:SlateBlue\">EDA of Variables Related to the Recored Crimes</h3>\n",
    "\n",
    "<h4>Crimes by Offense Type</h4>\n",
    "There are various types of offenses within the data set, and it would be helpful to see how these crime types are distributed within the data. The following visualization will display what sorts of crimes comprised the majority and minority of incidents within D.C. in 2023."
   ]
  },
  {
   "cell_type": "code",
   "execution_count": 15,
   "id": "8880fed5-8242-417d-acc6-3587ef2a426b",
   "metadata": {
    "tags": []
   },
   "outputs": [
    {
     "data": {
      "text/plain": [
       "ARSON                            9\n",
       "SEX ABUSE                      123\n",
       "HOMICIDE                       214\n",
       "BURGLARY                       821\n",
       "ASSAULT W/DANGEROUS WEAPON    1110\n",
       "ROBBERY                       2668\n",
       "MOTOR VEHICLE THEFT           5429\n",
       "THEFT F/AUTO                  5880\n",
       "THEFT/OTHER                   9837\n",
       "Name: offense, dtype: int64"
      ]
     },
     "execution_count": 15,
     "metadata": {},
     "output_type": "execute_result"
    }
   ],
   "source": [
    "# Grouping crimes by their offense type and arranging them from highest frequency to lowest frequency\n",
    "crime_count=crime_dc['offense'].value_counts().sort_values(ascending=True)\n",
    "crime_count"
   ]
  },
  {
   "cell_type": "markdown",
   "id": "410046f6-f8ca-4861-8b05-579a244258d2",
   "metadata": {},
   "source": [
    "We observe that \"theft/other\" comprises the majority of crime reports in D.C., with 9,837 reports of theft/other in 2023. On the contrary, arson was the least reported crime, with only 9 incidents of arson reported.\n",
    "\n",
    "<h4>Crimes by Ward</h4>\n",
    "The amount of crime between each ward can be compared to understand how there may be geographic differences in the incidence of crime."
   ]
  },
  {
   "cell_type": "code",
   "execution_count": 16,
   "id": "25f79558-5136-4612-a4ee-a8fe38a6e109",
   "metadata": {
    "tags": []
   },
   "outputs": [
    {
     "data": {
      "text/plain": [
       "3    1510\n",
       "4    2292\n",
       "8    3021\n",
       "6    3315\n",
       "7    3597\n",
       "1    3890\n",
       "2    4060\n",
       "5    4406\n",
       "Name: ward, dtype: int64"
      ]
     },
     "execution_count": 16,
     "metadata": {},
     "output_type": "execute_result"
    }
   ],
   "source": [
    "# Grouping crimes by ward and arranging them from highest frequency to lowest frequency\n",
    "crime_dc['ward'].value_counts().sort_values(ascending=True)"
   ]
  },
  {
   "cell_type": "markdown",
   "id": "a2688415-5137-456c-95a0-24e7b5ae26f6",
   "metadata": {
    "tags": []
   },
   "source": [
    "For the number of crimes by ward, ward 5 had the most number of crimes reported (4,406), while ward 3 had the least number of crimes reported (1,510)."
   ]
  },
  {
   "cell_type": "markdown",
   "id": "fc19767c-b2f1-437e-aeab-7544407a5250",
   "metadata": {},
   "source": [
    "<h3 style=\"color:SlateBlue\">2. Socio Economic Characterstics Dataset</h3>\n",
    "\n",
    "The dataset under investigation contains economic indicators for various wards in the District of Columbia. It offers a comprehensive view of economic factors such as income, employment rates, poverty levels, and more, enabling a detailed analysis of the region's economic landscape."
   ]
  },
  {
   "cell_type": "code",
   "execution_count": 17,
   "id": "e5ea6ecd-b24f-4840-bf9a-d974cca578b6",
   "metadata": {
    "tags": []
   },
   "outputs": [],
   "source": [
    "socio_economic_df=pd.read_csv(r'ACS_Economic_Characteristics_DC_Ward.csv')"
   ]
  },
  {
   "cell_type": "code",
   "execution_count": 18,
   "id": "9be3bfb3-532a-4980-b465-4fd419ba8851",
   "metadata": {
    "tags": []
   },
   "outputs": [
    {
     "name": "stdout",
     "output_type": "stream",
     "text": [
      "0\n",
      "There are 8 observations  and 145 variables in in the socio economic characterstic dataset\n"
     ]
    }
   ],
   "source": [
    "print(socio_economic_df.isnull().sum().sum())\n",
    "print(f\"There are {socio_economic_df.shape[0]} observations  and {socio_economic_df.shape[1]} variables in in the socio economic characterstic dataset\")"
   ]
  },
  {
   "cell_type": "markdown",
   "id": "34a0d99c-c461-4b23-8541-1d557c85afea",
   "metadata": {},
   "source": [
    "This dataset contains **8 rows** and **145 columns**. Rows represent specific data points, while columns cover various socio-economic factors and characteristics. The dataset offers a wealth of information for in-depth analysis, allowing us to explore patterns, trends, and relationships in the socio-economic context. There are also no null values in our socio economic dataset.\n",
    "\n",
    "#### Unique Ward Names in Washington D.C.\n",
    "\n",
    "Here we will explore the unique ward names found in the 'NAMELSAD' column of the `socio_economic_df` DataFrame. These ward names correspond to the geographic regions or administrative divisions in the dataset. Let's start by obtaining and displaying the unique ward names."
   ]
  },
  {
   "cell_type": "code",
   "execution_count": 19,
   "id": "32cdc688-b707-4d02-b9b9-6e85d7534179",
   "metadata": {
    "tags": []
   },
   "outputs": [
    {
     "data": {
      "text/plain": [
       "array(['Ward 1', 'Ward 2', 'Ward 3', 'Ward 4', 'Ward 5', 'Ward 6',\n",
       "       'Ward 7', 'Ward 8'], dtype=object)"
      ]
     },
     "execution_count": 19,
     "metadata": {},
     "output_type": "execute_result"
    }
   ],
   "source": [
    "socio_economic_df.NAMELSAD.unique()"
   ]
  },
  {
   "cell_type": "markdown",
   "id": "e1741e1a-a56e-431b-9d07-ddf925caf6ca",
   "metadata": {},
   "source": [
    "#### Population statistics\n",
    "This analysis looks at how the total population (DP03_0001E) relates to crime data. We use descriptive statistics like mean, median, and standard deviation to understand how the size of the population affects crime. Knowing this helps us calculate crime rates, distribute resources wisely, and plan effective crime prevention strategies. By combining these insights with crime data, we make informed decisions for community safety. This analysis helps policymakers understand the connection between population size and crime in a straightforward way."
   ]
  },
  {
   "cell_type": "code",
   "execution_count": 20,
   "id": "c1455fee-2d2a-4433-85fe-89c8720a3645",
   "metadata": {
    "tags": []
   },
   "outputs": [
    {
     "name": "stdout",
     "output_type": "stream",
     "text": [
      "Mean: 71051\n",
      "Median: 70786\n",
      "Standard Deviation: 4293\n",
      "Minimum:64107\n",
      "Maximum:79049\n"
     ]
    }
   ],
   "source": [
    "min_value = socio_economic_df[\"DP03_0001E\"].min()\n",
    "max_value = socio_economic_df[\"DP03_0001E\"].max()\n",
    "mean_value = socio_economic_df[\"DP03_0001E\"].mean()\n",
    "median_value = socio_economic_df[\"DP03_0001E\"].median()\n",
    "std_deviation = socio_economic_df[\"DP03_0001E\"].std()\n",
    "print(f\"Mean: {mean_value:.0f}\\nMedian: {median_value:.0f}\\nStandard Deviation: {std_deviation:.0f}\\nMinimum:{min_value:.0f}\\nMaximum:{max_value:.0f}\")"
   ]
  },
  {
   "cell_type": "markdown",
   "id": "daecddba-4806-47e1-9788-6352ac0541d1",
   "metadata": {},
   "source": [
    "##### Observations from descriptive statistics\n",
    "The average population for all wards is about 71,050 residents, with a median of 70,786 residents, showing a balanced population distribution. The standard deviation of approximately 4293 residents, which indicates a reasonable variation in population sizes among the wards. The smallest ward has a population of 64,107 residents (in ward 8), while the largest has 79,049 residents (ward 2).\n",
    "\n",
    "#### Unemployment Statistics\n",
    "Studying unemployment alongside crime data helps us understand how joblessness relates to criminal activity. "
   ]
  },
  {
   "cell_type": "code",
   "execution_count": 21,
   "id": "3e605f62-bd33-4e5d-a9ef-f17ad58110a4",
   "metadata": {
    "tags": []
   },
   "outputs": [
    {
     "name": "stdout",
     "output_type": "stream",
     "text": [
      "Mean: 26159\n",
      "Median: 26049\n",
      "Standard Deviation: 2379\n",
      "Minimum:22938\n",
      "Maximum:29560\n"
     ]
    }
   ],
   "source": [
    "min_value=    socio_economic_df[\"DP03_0011E\"].min()\n",
    "max_value=    socio_economic_df[\"DP03_0011E\"].max()\n",
    "mean_value = socio_economic_df[\"DP03_0011E\"].mean()\n",
    "median_value = socio_economic_df[\"DP03_0011E\"].median()\n",
    "std_deviation = socio_economic_df[\"DP03_0011E\"].std()\n",
    "print(f\"Mean: {mean_value:.0f}\\nMedian: {median_value:.0f}\\nStandard Deviation: {std_deviation:.0f}\\nMinimum:{min_value:.0f}\\nMaximum:{max_value:.0f}\")"
   ]
  },
  {
   "cell_type": "markdown",
   "id": "1bec6f77-cb02-4149-afcf-d0f24e5d3d62",
   "metadata": {},
   "source": [
    "#### Observations from descriptive statistics \n",
    "The average size of the unemployed population across all wards is approximately 26,159 residents, with a median of 26,049 residents. The standard deviation of approximately 2,379 indicates a moderate level of variability in unemployment rates among the wards. As demonstrated by the bar chart, the minimum unemployed population corresponds to ward 8 with 22,938 residents, while the maximum unemployed population corresponds to Ward 1 with 29,560 residents.\n",
    "\n",
    "#### Statistics of Median Family income\n",
    "Analyzing the median family income across all wards in a crime dataset is vital for understanding economic dynamics and their impact on criminal patterns. "
   ]
  },
  {
   "cell_type": "code",
   "execution_count": 22,
   "id": "3f7a751c-c284-4f0d-961c-4190f93b9f15",
   "metadata": {
    "tags": []
   },
   "outputs": [
    {
     "name": "stdout",
     "output_type": "stream",
     "text": [
      "Mean: $64739.38\n",
      "Median: $65583.00\n",
      "Standard Deviation: $26549.79\n",
      "Minimum:$30412.00\n",
      "Maximum:$102050.00\n"
     ]
    }
   ],
   "source": [
    "min_value=    socio_economic_df[\"DP03_0088E\"].min()\n",
    "max_value=    socio_economic_df[\"DP03_0088E\"].max()\n",
    "mean_value = socio_economic_df[\"DP03_0088E\"].mean()\n",
    "median_value = socio_economic_df[\"DP03_0088E\"].median()\n",
    "std_deviation = socio_economic_df[\"DP03_0088E\"].std()\n",
    "print(f\"Mean: ${mean_value:.2f}\\nMedian: ${median_value:.2f}\\nStandard Deviation: ${std_deviation:.2f}\\nMinimum:${min_value:.2f}\\nMaximum:${max_value:.2f}\")"
   ]
  },
  {
   "cell_type": "markdown",
   "id": "4a2e7b2d-54ad-4974-bd96-1c4c760a9efb",
   "metadata": {},
   "source": [
    "#### Observations from Statistical analysis of Median Income\n",
    "<p>The analysis of median income across all wards reveals a diverse economic landscape. With a mean of 64,739 and a median of 65,583, there exists significant variability, ranging from 30,412 to 102,050. This suggests notable income disparities among wards, with potential socio-economic struggles in areas below the mean.</p>\n",
    "\n",
    "### Cleaning the dataset\n",
    "\n",
    "In our crime data analysis, we have chosen specific columns, namely 'NAMELSAD,' 'DP03_0001E,' 'DP03_0011E,' 'DP03_0088E,' and 'DP03_0115E,' for exploration.\n",
    "- 'NAMELSAD' is critical for identifying the legal and statistical area, providing context to crime patterns.\n",
    "- 'DP03_0001E' (total population) serves as a foundational demographic metric\n",
    "- 'DP03_0011E' (unemployment rate) offers insights into economic stability, a potential influencer of crime.\n",
    "- 'DP03_0088E' (median family income) provides socio-economic context, aiding in understanding community prosperity or challenges.\n",
    "- 'DP03_0115E' (health insurance coverage) is crucial for assessing public health aspects, influencing both crime rates and community resilience.\n",
    "\n",
    "These selected columns collectively offer a comprehensive socio-economic overview, enabling a nuanced analysis of crime patterns and aiding in the formulation of targeted interventions and policies."
   ]
  },
  {
   "cell_type": "code",
   "execution_count": 23,
   "id": "646a73dc-4618-4ad4-885a-b4fbd431a77c",
   "metadata": {
    "tags": []
   },
   "outputs": [],
   "source": [
    "li = ['NAMELSAD', 'DP03_0001E', 'DP03_0011E', 'DP03_0088E', 'DP03_0115E']\n",
    "for i in socio_economic_df.columns:\n",
    "    if i not in li:\n",
    "        socio_economic_df.drop(columns = [i], inplace  = True)\n",
    "        \n",
    "# Renaming columns for clarity and consistency\n",
    "socio_economic_df = socio_economic_df.rename(columns={\n",
    "    'NAMELSAD': 'ward',\n",
    "    'DP03_0001E': 'tot_pop',\n",
    "    'DP03_0011E': 'unemp_rate',\n",
    "    'DP03_0088E': 'Median_family_income($)',\n",
    "    'DP03_0115E': 'unemp_pop_no_health_insurance_coverage'\n",
    "})\n",
    "\n",
    "# Splitting the 'WARD' column based on space (' ') and creating two new columns ('New_Col' and 'WARD')\n",
    "# The result is expanded into two separate columns in the DataFrame\n",
    "socio_economic_df[['New_Col', 'ward']] = socio_economic_df['ward'].str.split(' ', n=1, expand=True)\n",
    "\n",
    "#converting ward to float type to maintain consistency with main dataset\n",
    "socio_economic_df['ward'] = socio_economic_df['ward'].astype(int)\n",
    "\n",
    "# Dropping the temporary 'New_Col' column\n",
    "# This column was created during a previous operation and is no longer needed for our analysis.\n",
    "socio_economic_df = socio_economic_df.drop(columns=['New_Col'])"
   ]
  },
  {
   "cell_type": "markdown",
   "id": "764ebaca-cd1e-4b39-9661-cd51716b9360",
   "metadata": {},
   "source": [
    "This cleaning process significantly reduces the dimensionality of the dataset, focusing only on the key socio-economic indicators relevant to our crime data analysis. The cleaned DataFrame is now ready for further exploration and integration with the crime dataset.\n",
    "This streamlined approach enhances the efficiency of our analysis and ensures that we are working with a dataset tailored to the specific needs of our crime data project.\n",
    "\n",
    "<h4 style=\"color:SlateBlue\">Merging with crime dataset</h4>\n",
    "\n",
    "Now that we have cleaned and processed our dataset, we can merge it with the crime dataset. Here, we are merging on 'ward' column."
   ]
  },
  {
   "cell_type": "code",
   "execution_count": 24,
   "id": "37fa74be-2100-4be6-826a-42612bce4381",
   "metadata": {
    "tags": []
   },
   "outputs": [
    {
     "data": {
      "text/plain": [
       "Index(['neighborhood_cluster', 'offense_group', 'census_tract', 'end_date',\n",
       "       'offense_text', 'shift', 'district', 'yblock', 'ward', 'offensekey',\n",
       "       'sector', 'psa', 'ucr_rank', 'block_group', 'voting_precinct', 'xblock',\n",
       "       'block', 'start_date', 'ccn', 'offense', 'anc', 'report_date', 'method',\n",
       "       'latitude', 'longitude', 'tot_pop', 'unemp_rate',\n",
       "       'Median_family_income($)', 'unemp_pop_no_health_insurance_coverage'],\n",
       "      dtype='object')"
      ]
     },
     "execution_count": 24,
     "metadata": {},
     "output_type": "execute_result"
    }
   ],
   "source": [
    "crime_dc = crime_dc.merge(socio_economic_df, on='ward')\n",
    "crime_dc.columns"
   ]
  },
  {
   "cell_type": "markdown",
   "id": "bdba0972-139c-43ee-aa8d-684ef99c50e1",
   "metadata": {},
   "source": [
    "Our dataset is now prepared with socioeconomic factors based on ward."
   ]
  },
  {
   "cell_type": "markdown",
   "id": "52882243-a23c-42e5-a174-81c09c9e64ed",
   "metadata": {
    "tags": []
   },
   "source": [
    "<h3 style=\"color:SlateBlue\">3. Liquor Dataset</h3>"
   ]
  },
  {
   "cell_type": "code",
   "execution_count": 25,
   "id": "4a3f29f8-6f5c-45b1-adf3-0222fbff23f8",
   "metadata": {
    "tags": []
   },
   "outputs": [],
   "source": [
    "#loading data\n",
    "liquor_data = pd.read_csv('Liquor_Licenses.csv')"
   ]
  },
  {
   "cell_type": "code",
   "execution_count": 26,
   "id": "ac90cf35-66d5-408b-b22a-3dfcacdeecc3",
   "metadata": {
    "tags": []
   },
   "outputs": [
    {
     "name": "stdout",
     "output_type": "stream",
     "text": [
      "There are 2300 licenses in this DC liquor dataset.\n",
      "There are 41 variables in the DC liquor dataset.\n"
     ]
    }
   ],
   "source": [
    "print(f'There are {(liquor_data.shape[0])} licenses in this DC liquor dataset.')# Determine the number of liquor licesnes in DC\n",
    "print(f'There are {(liquor_data.shape[1])} variables in the DC liquor dataset.')# Determine the variables from the Liquor Dataset"
   ]
  },
  {
   "cell_type": "code",
   "execution_count": 27,
   "id": "65755996-3f68-4109-a925-4f3f44fb44dc",
   "metadata": {
    "tags": []
   },
   "outputs": [
    {
     "name": "stdout",
     "output_type": "stream",
     "text": [
      "<class 'pandas.core.frame.DataFrame'>\n",
      "RangeIndex: 2300 entries, 0 to 2299\n",
      "Data columns (total 41 columns):\n",
      " #   Column             Non-Null Count  Dtype  \n",
      "---  ------             --------------  -----  \n",
      " 0   X                  2300 non-null   float64\n",
      " 1   Y                  2300 non-null   float64\n",
      " 2   LICENSE            2300 non-null   object \n",
      " 3   APPLICANT          2300 non-null   object \n",
      " 4   TRADE_NAME         2300 non-null   object \n",
      " 5   CLASS              2300 non-null   object \n",
      " 6   ADDRESS            2300 non-null   object \n",
      " 7   ZIPCODE            2300 non-null   int64  \n",
      " 8   WARD               2300 non-null   object \n",
      " 9   ANC                2300 non-null   object \n",
      " 10  SMD                2300 non-null   object \n",
      " 11  STATUS             2300 non-null   object \n",
      " 12  TYPE               2300 non-null   object \n",
      " 13  BREW_PUB           10 non-null     object \n",
      " 14  ENTERTAINMENT      747 non-null    object \n",
      " 15  SALES_CONSUMPTION  16 non-null     object \n",
      " 16  SIDEWALK_CAFE      532 non-null    object \n",
      " 17  SUMMER_GARDEN      470 non-null    object \n",
      " 18  TASTING            280 non-null    object \n",
      " 19  WINE_PUB           6 non-null      object \n",
      " 20  COVERCHARGE        220 non-null    object \n",
      " 21  DANCING            267 non-null    object \n",
      " 22  OFFPREMISESTORAGE  37 non-null     object \n",
      " 23  STORAGEFACILITY    1 non-null      object \n",
      " 24  DISTILLERY_PUB     2 non-null      object \n",
      " 25  TOTAL_CAPACITY     1540 non-null   float64\n",
      " 26  GAMES_OF_SKILL     47 non-null     object \n",
      " 27  SPORTS_WAGGERING   19 non-null     object \n",
      " 28  CARRYOUT_DELIVERY  853 non-null    object \n",
      " 29  MAR_ID             2300 non-null   int64  \n",
      " 30  XCOORD             2300 non-null   float64\n",
      " 31  YCOORD             2300 non-null   float64\n",
      " 32  LONGITUDE          2300 non-null   float64\n",
      " 33  LATITUDE           2300 non-null   float64\n",
      " 34  GIS_ID             2300 non-null   object \n",
      " 35  GLOBALID           2300 non-null   object \n",
      " 36  CREATOR            2300 non-null   object \n",
      " 37  CREATED            2300 non-null   object \n",
      " 38  EDITOR             2300 non-null   object \n",
      " 39  EDITED             2300 non-null   object \n",
      " 40  OBJECTID           2300 non-null   int64  \n",
      "dtypes: float64(7), int64(3), object(31)\n",
      "memory usage: 736.8+ KB\n"
     ]
    }
   ],
   "source": [
    "# Determine the variables from the Liquor Dataset\n",
    "liquor_data.info()"
   ]
  },
  {
   "cell_type": "markdown",
   "id": "6fa580d6-d5e5-4de3-8494-c3b8628b097b",
   "metadata": {},
   "source": [
    "#### Data Overview:\n",
    "- Refering the above analysis, the Washington D.C. liquor license data contains 2300 entries and 41 columns. The data includes information about the liquor license holder, the type of license, the address of the establishment, and the geographic coordinates of the establishment.\n",
    "#### Data Types:\n",
    "- Float: X, Y, Total Capacity, Longitude, and Latitude.\n",
    "- Integer: Zipcode, Mar_id, ObjectID.\n",
    "- Rest all of the entries are of object datatype.\n",
    "#### Geographic Information:\n",
    "The data contains the following geographic information about the liquor license establishments:\n",
    "- Ward\n",
    "- Longitude\n",
    "- Latitude"
   ]
  },
  {
   "cell_type": "code",
   "execution_count": 28,
   "id": "b4de4e21-7c81-440d-91df-af9c384e6877",
   "metadata": {
    "tags": []
   },
   "outputs": [
    {
     "data": {
      "text/plain": [
       "Restaurant                     932\n",
       "Tavern                         431\n",
       "Retail - Liquor Store          217\n",
       "Retail - Grocery               115\n",
       "Caterer                        108\n",
       "Hotel                          107\n",
       "Retail-Full Service Grocery     55\n",
       "Internet                        48\n",
       "Wholesaler                      44\n",
       "Nightclub                       42\n",
       "Multipurpose                    42\n",
       "Retail - Class B                37\n",
       "Retail-Liquor Store             27\n",
       "25 Percent                      25\n",
       "Club                            22\n",
       "Manufacturer                    18\n",
       "Marine Vessel                   11\n",
       "Beer and Wine                   10\n",
       "Retail-Class B                   4\n",
       "Arena                            2\n",
       "Bed and Breakfast                2\n",
       "Railroad                         1\n",
       "Name: TYPE, dtype: int64"
      ]
     },
     "execution_count": 28,
     "metadata": {},
     "output_type": "execute_result"
    }
   ],
   "source": [
    "liquor_data['TYPE'].value_counts().sort_values(ascending = False)# Determine where the licenses are distributed"
   ]
  },
  {
   "cell_type": "markdown",
   "id": "d5c25095-853d-4a92-9450-15044dbf274c",
   "metadata": {},
   "source": [
    "#### Upon looking at the above analysis,\n",
    "#### Observervations:\n",
    "- The most common plcaces where the liquor licences are distributed are Restaurants, followed by Tavern, and Reatail - Liquor Store.\n",
    "- The top 10 places that hold liquor license account for 77% of all liquor licenses.\n",
    "\n",
    "#### Inferences:\n",
    "- There might be a strong demand for alcohol in Washinton DC as evidenced by high number of Restaurants, Reatil Stores, etc.\n",
    "- The alochol market in Washington DC can be concentrated as the top 10 places holding the liquor licenses account for 77%."
   ]
  },
  {
   "cell_type": "code",
   "execution_count": 29,
   "id": "114ee1f2-cfb4-46e5-9fe9-bb5c9f570991",
   "metadata": {
    "tags": []
   },
   "outputs": [
    {
     "data": {
      "text/plain": [
       "Ward 2    827\n",
       "Ward 6    376\n",
       "Ward 1    337\n",
       "Ward 5    266\n",
       "Ward 3    201\n",
       "Ward 4    129\n",
       "Ward 8    104\n",
       "Ward 7     60\n",
       "Name: WARD, dtype: int64"
      ]
     },
     "execution_count": 29,
     "metadata": {},
     "output_type": "execute_result"
    }
   ],
   "source": [
    "liquor_data['WARD'].value_counts(ascending=False)"
   ]
  },
  {
   "cell_type": "markdown",
   "id": "77fea75e-a29b-4781-8cc2-c5e161dbcab1",
   "metadata": {},
   "source": [
    "#### Observations:\n",
    "- The number of liquor licenses in Washinton DC varies significantly from ward to ward. Ward 2 has the most liquor licenses, with over 800, while Ward 7 has the fewest, with only 60.\n",
    "- Number of liquor licenses in most wards is between 200 and 400 as Ward 1, 3, 4, and 5 are all within this range.\n",
    "#### Inferences:\n",
    "- Ward 7 maybe a residential area because there are low number of liquor licenses in this ward which suggests that there are fewer businesses that sell alcohol in this area.\n",
    "- Ward 1, 2 and 6 might have a higher concentration of nightlife. The high number of liquor licenses in these wards convey that there can be a larger number of bars and clubs in these areas.\n",
    "\n",
    "### Data Cleaning\n",
    "This dataset contains information about liquor licenses in Washington DC. The data includes the type of license, the name of the license holder, the address of the establishment, and other details."
   ]
  },
  {
   "cell_type": "code",
   "execution_count": 30,
   "id": "2414e88f-8f92-4db2-b3df-efb890157b06",
   "metadata": {
    "tags": []
   },
   "outputs": [
    {
     "name": "stdout",
     "output_type": "stream",
     "text": [
      "There are no duplicate rows in Liquor dataset.\n"
     ]
    }
   ],
   "source": [
    "# Determine if there are any duplicates in the liquor dataset\n",
    "duplicates = liquor_data.duplicated()\n",
    "if duplicates.any():\n",
    "    print('There are duplicate rows in Liquor dataset')\n",
    "    duplicate_rows = liquor_data[duplicates]\n",
    "    print(duplicate_rows)\n",
    "else:\n",
    "    print('There are no duplicate rows in Liquor dataset.')"
   ]
  },
  {
   "cell_type": "code",
   "execution_count": 31,
   "id": "2b35e51d-f6cb-41c6-b347-81ce9bd8417f",
   "metadata": {
    "tags": []
   },
   "outputs": [
    {
     "data": {
      "text/html": [
       "<div>\n",
       "<style scoped>\n",
       "    .dataframe tbody tr th:only-of-type {\n",
       "        vertical-align: middle;\n",
       "    }\n",
       "\n",
       "    .dataframe tbody tr th {\n",
       "        vertical-align: top;\n",
       "    }\n",
       "\n",
       "    .dataframe thead th {\n",
       "        text-align: right;\n",
       "    }\n",
       "</style>\n",
       "<table border=\"1\" class=\"dataframe\">\n",
       "  <thead>\n",
       "    <tr style=\"text-align: right;\">\n",
       "      <th></th>\n",
       "      <th>liquor_store_name</th>\n",
       "      <th>ward</th>\n",
       "      <th>liquor_store_zip</th>\n",
       "      <th>liquor_store_longitude</th>\n",
       "      <th>liquor_store_latitude</th>\n",
       "      <th>liquor_store_type</th>\n",
       "    </tr>\n",
       "  </thead>\n",
       "  <tbody>\n",
       "    <tr>\n",
       "      <th>0</th>\n",
       "      <td>R Street Restaurant Corporation</td>\n",
       "      <td>2</td>\n",
       "      <td>20009</td>\n",
       "      <td>-77.045097</td>\n",
       "      <td>38.912999</td>\n",
       "      <td>Restaurant</td>\n",
       "    </tr>\n",
       "    <tr>\n",
       "      <th>1</th>\n",
       "      <td>MPE Hotel I (Washington), LLC</td>\n",
       "      <td>2</td>\n",
       "      <td>20037</td>\n",
       "      <td>-77.049070</td>\n",
       "      <td>38.904519</td>\n",
       "      <td>Hotel</td>\n",
       "    </tr>\n",
       "    <tr>\n",
       "      <th>2</th>\n",
       "      <td>Lim Enterprises, Corp</td>\n",
       "      <td>2</td>\n",
       "      <td>20004</td>\n",
       "      <td>-77.031695</td>\n",
       "      <td>38.896525</td>\n",
       "      <td>Retail - Liquor Store</td>\n",
       "    </tr>\n",
       "    <tr>\n",
       "      <th>3</th>\n",
       "      <td>A &amp; M, Inc.</td>\n",
       "      <td>1</td>\n",
       "      <td>20010</td>\n",
       "      <td>-77.021168</td>\n",
       "      <td>38.936854</td>\n",
       "      <td>Retail - Class B</td>\n",
       "    </tr>\n",
       "    <tr>\n",
       "      <th>4</th>\n",
       "      <td>Aaron C. Dutton</td>\n",
       "      <td>2</td>\n",
       "      <td>20009</td>\n",
       "      <td>-77.045207</td>\n",
       "      <td>38.911315</td>\n",
       "      <td>Manufacturer</td>\n",
       "    </tr>\n",
       "  </tbody>\n",
       "</table>\n",
       "</div>"
      ],
      "text/plain": [
       "                 liquor_store_name  ward  liquor_store_zip  \\\n",
       "0  R Street Restaurant Corporation     2             20009   \n",
       "1    MPE Hotel I (Washington), LLC     2             20037   \n",
       "2            Lim Enterprises, Corp     2             20004   \n",
       "3                      A & M, Inc.     1             20010   \n",
       "4                  Aaron C. Dutton     2             20009   \n",
       "\n",
       "   liquor_store_longitude  liquor_store_latitude      liquor_store_type  \n",
       "0              -77.045097              38.912999             Restaurant  \n",
       "1              -77.049070              38.904519                  Hotel  \n",
       "2              -77.031695              38.896525  Retail - Liquor Store  \n",
       "3              -77.021168              38.936854       Retail - Class B  \n",
       "4              -77.045207              38.911315           Manufacturer  "
      ]
     },
     "execution_count": 31,
     "metadata": {},
     "output_type": "execute_result"
    }
   ],
   "source": [
    "# Filter the dataframe to make it compatible with other datasets\n",
    "liquor_data = liquor_data[['APPLICANT','WARD', 'ZIPCODE', 'LONGITUDE', 'LATITUDE', 'TYPE']]\n",
    "liquor_data[['New_Col', 'WARD']] = liquor_data['WARD'].str.split(' ', n=1, expand=True)\n",
    "liquor_data.rename(columns={\n",
    "    'WARD' : 'ward',\n",
    "    'ZIPCODE': 'liquor_store_zip',\n",
    "    'LONGITUDE': 'liquor_store_longitude',\n",
    "    'LATITUDE': 'liquor_store_latitude',\n",
    "    'TYPE': 'liquor_store_type',\n",
    "    'APPLICANT':'liquor_store_name'\n",
    "     }, inplace=True)\n",
    "liquor_data = liquor_data.drop(columns=['New_Col'])# Dropping the temporary 'New_Col' column\n",
    "liquor_data['ward'] = liquor_data['ward'].astype(int) #to standardize"
   ]
  },
  {
   "cell_type": "markdown",
   "id": "601c2fee-9a6e-4b5b-81df-9336e18cb0b3",
   "metadata": {},
   "source": [
    "The distribution of liquor stores across Washington D.C. is demonstrated in the visualization below. To better understand where these stores are located, we have chosen a dynamic map that provides the ward number of a particular store when the user hovers over the marker."
   ]
  },
  {
   "cell_type": "code",
   "execution_count": 33,
   "id": "c0402334-5d43-433c-a70f-2c9c999bf4cf",
   "metadata": {
    "tags": []
   },
   "outputs": [
    {
     "name": "stdout",
     "output_type": "stream",
     "text": [
      "   ward  liquor_store_longitude  liquor_store_latitude  liquor_store_name\n",
      "0     1              -77.029934              38.922323                164\n",
      "1     2              -77.036612              38.905464                226\n",
      "2     3              -77.074269              38.939601                 37\n",
      "3     4              -77.024400              38.954998                 59\n",
      "4     5              -76.992037              38.917495                 96\n",
      "5     6              -77.002342              38.892318                122\n",
      "6     7              -76.947999              38.889079                 40\n",
      "7     8              -76.997205              38.861630                 46\n"
     ]
    }
   ],
   "source": [
    "liquor_stores = ['Retail - Liquor Store', 'Retail - Class B', 'Beer and Wine', 'Club', 'Tavern', 'Nightclub','Retail-Liquor Store', 'Retail-Class B']\n",
    "filtered_liquor_data = liquor_data[liquor_data['liquor_store_type'].isin(liquor_stores)]\n",
    "liquor_store_df = filtered_liquor_data.groupby('ward').agg({'liquor_store_longitude': 'mean', 'liquor_store_latitude': 'mean', 'liquor_store_name':'count'}).reset_index()\n",
    "print(liquor_store_df)"
   ]
  },
  {
   "cell_type": "code",
   "execution_count": 34,
   "id": "bbdbf9ff-e2d4-40e0-aeb6-004228e9f644",
   "metadata": {
    "tags": []
   },
   "outputs": [
    {
     "data": {
      "text/html": [
       "<div>\n",
       "<style scoped>\n",
       "    .dataframe tbody tr th:only-of-type {\n",
       "        vertical-align: middle;\n",
       "    }\n",
       "\n",
       "    .dataframe tbody tr th {\n",
       "        vertical-align: top;\n",
       "    }\n",
       "\n",
       "    .dataframe thead th {\n",
       "        text-align: right;\n",
       "    }\n",
       "</style>\n",
       "<table border=\"1\" class=\"dataframe\">\n",
       "  <thead>\n",
       "    <tr style=\"text-align: right;\">\n",
       "      <th></th>\n",
       "      <th>ward</th>\n",
       "      <th>liquor_store_longitude</th>\n",
       "      <th>liquor_store_latitude</th>\n",
       "      <th>liquor_store_name</th>\n",
       "    </tr>\n",
       "  </thead>\n",
       "  <tbody>\n",
       "    <tr>\n",
       "      <th>0</th>\n",
       "      <td>1</td>\n",
       "      <td>-77.029934</td>\n",
       "      <td>38.922323</td>\n",
       "      <td>164</td>\n",
       "    </tr>\n",
       "    <tr>\n",
       "      <th>1</th>\n",
       "      <td>2</td>\n",
       "      <td>-77.036612</td>\n",
       "      <td>38.905464</td>\n",
       "      <td>226</td>\n",
       "    </tr>\n",
       "    <tr>\n",
       "      <th>2</th>\n",
       "      <td>3</td>\n",
       "      <td>-77.074269</td>\n",
       "      <td>38.939601</td>\n",
       "      <td>37</td>\n",
       "    </tr>\n",
       "    <tr>\n",
       "      <th>3</th>\n",
       "      <td>4</td>\n",
       "      <td>-77.024400</td>\n",
       "      <td>38.954998</td>\n",
       "      <td>59</td>\n",
       "    </tr>\n",
       "    <tr>\n",
       "      <th>4</th>\n",
       "      <td>5</td>\n",
       "      <td>-76.992037</td>\n",
       "      <td>38.917495</td>\n",
       "      <td>96</td>\n",
       "    </tr>\n",
       "    <tr>\n",
       "      <th>5</th>\n",
       "      <td>6</td>\n",
       "      <td>-77.002342</td>\n",
       "      <td>38.892318</td>\n",
       "      <td>122</td>\n",
       "    </tr>\n",
       "    <tr>\n",
       "      <th>6</th>\n",
       "      <td>7</td>\n",
       "      <td>-76.947999</td>\n",
       "      <td>38.889079</td>\n",
       "      <td>40</td>\n",
       "    </tr>\n",
       "    <tr>\n",
       "      <th>7</th>\n",
       "      <td>8</td>\n",
       "      <td>-76.997205</td>\n",
       "      <td>38.861630</td>\n",
       "      <td>46</td>\n",
       "    </tr>\n",
       "  </tbody>\n",
       "</table>\n",
       "</div>"
      ],
      "text/plain": [
       "   ward  liquor_store_longitude  liquor_store_latitude  liquor_store_name\n",
       "0     1              -77.029934              38.922323                164\n",
       "1     2              -77.036612              38.905464                226\n",
       "2     3              -77.074269              38.939601                 37\n",
       "3     4              -77.024400              38.954998                 59\n",
       "4     5              -76.992037              38.917495                 96\n",
       "5     6              -77.002342              38.892318                122\n",
       "6     7              -76.947999              38.889079                 40\n",
       "7     8              -76.997205              38.861630                 46"
      ]
     },
     "execution_count": 34,
     "metadata": {},
     "output_type": "execute_result"
    }
   ],
   "source": [
    "# Rename the 'stores' column to 'store_count'\n",
    "liquor_store_df = liquor_store_df.rename(columns={'APPLICANT': 'liquor_store_count'})\n",
    "liquor_store_df"
   ]
  },
  {
   "cell_type": "markdown",
   "id": "f16098cf-28f6-4a22-9c24-660ad7f3f29f",
   "metadata": {},
   "source": [
    "<h4 style=\"color:SlateBlue\">Merging with crime dataset</h4>"
   ]
  },
  {
   "cell_type": "code",
   "execution_count": 35,
   "id": "306a018e-7f2a-42c4-95ab-f305bd228070",
   "metadata": {
    "tags": []
   },
   "outputs": [],
   "source": [
    "crime_dc = crime_dc.merge(liquor_store_df, on='ward')"
   ]
  },
  {
   "cell_type": "markdown",
   "id": "c7da7cf8-4ec1-40bc-b0c6-691793199389",
   "metadata": {},
   "source": [
    "<h3 style=\"color:SlateBlue\">4. Weather Dataset</h3>\n",
    "\n",
    "The dataset under consideration here, is the weather dataset for Washington DC, of the year 2023. Below we would clean and process the data and make it compatible to merge this with our main D.C crime dataset. An integration of these datasets will allow us to explore potential correlations between weather patterns, seasons and crime occurrences.\n",
    "\n",
    "This dataset provides a detailed account of various meteorological parameters, such as maximum and minimum temperatures, average temperature, departure from normal temperature, heating and cooling degree days, precipitation, new snowfall, and snow depth. These variables, when harmonized with crime data, can unveil insightful patterns and trends that contribute to a more comprehensive understanding of the factors influencing criminal activities.\n"
   ]
  },
  {
   "cell_type": "code",
   "execution_count": 38,
   "id": "35e8f061-7a5b-4078-b246-00c06d06bd4b",
   "metadata": {
    "tags": []
   },
   "outputs": [],
   "source": [
    "weather_data = pd.read_excel(r'2023 Weather Data.xlsx', sheet_name= list(range(0,10)))"
   ]
  },
  {
   "cell_type": "code",
   "execution_count": 40,
   "id": "a417560c-53d7-4cc2-85b0-2f472ac009bd",
   "metadata": {
    "tags": []
   },
   "outputs": [],
   "source": [
    "#For loop used for cleaning 1st two header columns\n",
    "for i in range(len(weather_data)):\n",
    "    if len(weather_data[i].columns)==11:\n",
    "        weather_data[i].drop(weather_data[i].columns[6], axis=1,inplace=True)\n",
    "    weather_data[i]=weather_data[i].iloc[:-3]\n",
    "    cols = ['Date_time','Max_Temp','Min_Temp', 'Avg', 'Departure', 'HDD', 'CDD', 'Precipitation', 'New Snow', 'Snow Depth']\n",
    "    weather_data[i].columns = cols\n",
    "    weather_data[i] = weather_data[i][2:].reset_index(drop = True)\n",
    "    \n",
    "#Concatenating individual dictionaries of dataframes monthly to come up with a dataframe having values from 2017 to 2023\n",
    "weather_data_concat = pd.concat(weather_data, ignore_index=True)\n",
    "columns_to_replace_T = ['Precipitation', 'New Snow', 'Snow Depth']\n",
    "for column in columns_to_replace_T:\n",
    "    weather_data_concat[column] = weather_data_concat[column].replace('T', 0)\n",
    "columns_to_replace_dash = ['Avg', 'Departure', 'HDD', 'CDD', 'Precipitation', 'New Snow', 'Snow Depth']  # Add your column names here\n",
    "for column in columns_to_replace_dash:\n",
    "    weather_data_concat[column] = weather_data_concat[column].replace('-', 0)"
   ]
  },
  {
   "cell_type": "markdown",
   "id": "56cbae35-da64-4ad2-8a5d-7ded56f2c835",
   "metadata": {},
   "source": [
    "Our initial steps involve cleaning and standardizing the structure of the weather dataset. Specifically, we addressed discrepancies in the header columns and streamline the data format. A meticulous cleaning process is essential to ensure accurate and meaningful insights when merged with the crime dataset. Over here we replaced 'T' value with 0 since a trace value in our case would be insignificant for our data analysis to explore potential correlations between weather patterns, and crime occurrences.\n",
    "\n",
    "### Descriptive Statistics\n",
    "Some of the important terminologies to consider:\n",
    "\n",
    "HDD: A metric used in meteorology and energy consumption analysis to quantify the demand for heating. The concept of Heating Degree Days is based on the idea that, during colder periods, buildings require heating to maintain a comfortable indoor temperature.\n",
    "\n",
    "CDD: A metric used to quantify the demand for cooling in a specific location during warm periods. It is particularly relevant in regions where air conditioning is a significant factor in energy consumption, especially during hot weather.\n",
    "\n",
    "### Summary of Statistics\n",
    "Here's a brief summary of the key statistics for the dataset:\n",
    "\n",
    "- **Count**: The dataset contains 331 records.\n",
    "- **Average Departure**: The average departure is 2.66, ranging from -13.6 to 21.4.\n",
    "- **Heating Degree Days (HDD)**: The mean HDD is 18.15, with a standard deviation of 81.51.\n",
    "- **Cooling Degree Days (CDD)**: The average CDD is 12.87, with a maximum of 491.\n",
    "- **Precipitation**: On average, there is 0.29 inches of precipitation, with a maximum of 6.84 inches.\n",
    "- **New Snow**: The mean new snowfall is 0.02 inches, ranging up to 4.9 inches.\n",
    "\n",
    "In summary, the data provides insights into temperature variations, heating and cooling degree days, precipitation, and snowfall over the given period. Eventually, this dataset is ready for merging with the D.C crime dataset in order to carry out further inferences on our objectives.\n"
   ]
  },
  {
   "cell_type": "code",
   "execution_count": 41,
   "id": "28322f55-a098-4519-8fb7-62f811a9cc19",
   "metadata": {
    "tags": []
   },
   "outputs": [
    {
     "data": {
      "text/html": [
       "<div>\n",
       "<style scoped>\n",
       "    .dataframe tbody tr th:only-of-type {\n",
       "        vertical-align: middle;\n",
       "    }\n",
       "\n",
       "    .dataframe tbody tr th {\n",
       "        vertical-align: top;\n",
       "    }\n",
       "\n",
       "    .dataframe thead th {\n",
       "        text-align: right;\n",
       "    }\n",
       "</style>\n",
       "<table border=\"1\" class=\"dataframe\">\n",
       "  <thead>\n",
       "    <tr style=\"text-align: right;\">\n",
       "      <th></th>\n",
       "      <th>Precipitation</th>\n",
       "      <th>New Snow</th>\n",
       "    </tr>\n",
       "  </thead>\n",
       "  <tbody>\n",
       "    <tr>\n",
       "      <th>count</th>\n",
       "      <td>251.000000</td>\n",
       "      <td>251.0</td>\n",
       "    </tr>\n",
       "    <tr>\n",
       "      <th>mean</th>\n",
       "      <td>0.107530</td>\n",
       "      <td>0.0</td>\n",
       "    </tr>\n",
       "    <tr>\n",
       "      <th>std</th>\n",
       "      <td>0.310695</td>\n",
       "      <td>0.0</td>\n",
       "    </tr>\n",
       "    <tr>\n",
       "      <th>min</th>\n",
       "      <td>0.000000</td>\n",
       "      <td>0.0</td>\n",
       "    </tr>\n",
       "    <tr>\n",
       "      <th>25%</th>\n",
       "      <td>0.000000</td>\n",
       "      <td>0.0</td>\n",
       "    </tr>\n",
       "    <tr>\n",
       "      <th>50%</th>\n",
       "      <td>0.000000</td>\n",
       "      <td>0.0</td>\n",
       "    </tr>\n",
       "    <tr>\n",
       "      <th>75%</th>\n",
       "      <td>0.020000</td>\n",
       "      <td>0.0</td>\n",
       "    </tr>\n",
       "    <tr>\n",
       "      <th>max</th>\n",
       "      <td>1.970000</td>\n",
       "      <td>0.0</td>\n",
       "    </tr>\n",
       "  </tbody>\n",
       "</table>\n",
       "</div>"
      ],
      "text/plain": [
       "       Precipitation  New Snow\n",
       "count     251.000000     251.0\n",
       "mean        0.107530       0.0\n",
       "std         0.310695       0.0\n",
       "min         0.000000       0.0\n",
       "25%         0.000000       0.0\n",
       "50%         0.000000       0.0\n",
       "75%         0.020000       0.0\n",
       "max         1.970000       0.0"
      ]
     },
     "execution_count": 41,
     "metadata": {},
     "output_type": "execute_result"
    }
   ],
   "source": [
    "weather_data_concat.describe()"
   ]
  },
  {
   "cell_type": "markdown",
   "id": "95a7a96a-d60f-4c80-b8c0-f2a822f0db7e",
   "metadata": {},
   "source": [
    "The two data sets will be merged based on recorded date. Since both data sets have different column names and data types for date data, we have 3 standardizing methods to allow for merging the tables:\n",
    "- Will only include date data (no time values)\n",
    "- Column will be called \"date\"\n",
    "- Values will be in datetime format\n",
    "\n",
    "The reason to exclude time values is because the weather data set does not have recorded time values, just dates. Therefore, date data is sufficient in merging the tables."
   ]
  },
  {
   "cell_type": "code",
   "execution_count": 43,
   "id": "cd6fb7af-8b60-4cdc-8a86-a1d587f6617a",
   "metadata": {
    "tags": []
   },
   "outputs": [],
   "source": [
    "# Creating the merging column that contains date data \n",
    "weather_data_concat['date'] = pd.to_datetime(weather_data_concat['Date_time'], format='%Y-%m-%d %H:%M:%S').dt.date\n",
    "# Creating the matching column and converting values into date format\n",
    "crime_dc['date'] = pd.to_datetime(crime_dc['start_date']).dt.date\n",
    "# Merging the dataframes\n",
    "crime_dc = crime_dc.merge(weather_data_concat, on='date', how='left')"
   ]
  },
  {
   "cell_type": "markdown",
   "id": "7d319d86-3810-40d5-bdc0-914be856410e",
   "metadata": {},
   "source": [
    "<h2 style=\"color:SlateBlue\">ANALYSIS</h2>"
   ]
  },
  {
   "cell_type": "markdown",
   "id": "41a3f05c-352d-4895-bc9f-6d61f6553b1c",
   "metadata": {},
   "source": [
    "#### Is there an association between the time of day a crime that a crime occurred and the type of crime?\n",
    "\n",
    "According to the dataset, there are various police shifts in which each crime was reported. The following code will provide the different police shifts."
   ]
  },
  {
   "cell_type": "code",
   "execution_count": 45,
   "id": "37e63d05-45ab-45d9-a908-227bd12a107d",
   "metadata": {
    "tags": []
   },
   "outputs": [
    {
     "data": {
      "text/plain": [
       "array(['midnight', 'day', 'evening'], dtype=object)"
      ]
     },
     "execution_count": 45,
     "metadata": {},
     "output_type": "execute_result"
    }
   ],
   "source": [
    "crime_dc['shift'].unique()"
   ]
  },
  {
   "cell_type": "markdown",
   "id": "3048df02-a39b-4fca-bdbb-d154723f5bcf",
   "metadata": {},
   "source": [
    "Based on the above output, there are 3 different police shifts: <b> midnight, day, and evening.   \n",
    "- midnight: midnight - 8:00AM\n",
    "- day: 8:00AM - 4:00PM\n",
    "- evening: 4:00PM - midnight\n",
    "\n",
    "The following visualizaiton will be created to display the frequency of reported crime during each police shift."
   ]
  },
  {
   "cell_type": "code",
   "execution_count": 46,
   "id": "09470b39-4bc4-4be0-a5e1-791c83331ed9",
   "metadata": {
    "tags": []
   },
   "outputs": [
    {
     "data": {
      "text/plain": [
       "ARSON                            9\n",
       "SEX ABUSE                      123\n",
       "HOMICIDE                       214\n",
       "BURGLARY                       821\n",
       "ASSAULT W/DANGEROUS WEAPON    1110\n",
       "ROBBERY                       2668\n",
       "MOTOR VEHICLE THEFT           5429\n",
       "THEFT F/AUTO                  5880\n",
       "THEFT/OTHER                   9837\n",
       "Name: offense, dtype: int64"
      ]
     },
     "execution_count": 46,
     "metadata": {},
     "output_type": "execute_result"
    }
   ],
   "source": [
    "crime_dc['offense'].value_counts().sort_values(ascending=True)"
   ]
  },
  {
   "cell_type": "code",
   "execution_count": 47,
   "id": "6a07efa0-f53a-4117-9253-b7d5706611b6",
   "metadata": {
    "tags": []
   },
   "outputs": [
    {
     "data": {
      "text/plain": [
       "midnight     6165\n",
       "day          9838\n",
       "evening     10088\n",
       "Name: shift, dtype: int64"
      ]
     },
     "execution_count": 47,
     "metadata": {},
     "output_type": "execute_result"
    }
   ],
   "source": [
    "# Grouping crimes by shift and arranging them from highest frequency to lowest frequency\n",
    "crime_dc['shift'].value_counts().sort_values(ascending=True)"
   ]
  },
  {
   "cell_type": "code",
   "execution_count": 54,
   "id": "266a88a5-e5d3-481b-8f5a-0a655253f89e",
   "metadata": {
    "tags": []
   },
   "outputs": [
    {
     "name": "stdout",
     "output_type": "stream",
     "text": [
      "shift                     offense   day  evening  midnight  count\n",
      "0                           ARSON  55.6     33.3      11.1      9\n",
      "1      ASSAULT W/DANGEROUS WEAPON  18.3     34.1      47.7   1110\n",
      "2                        BURGLARY  44.7     27.2      28.1    821\n",
      "3                        HOMICIDE   0.0      0.0     100.0    214\n",
      "4             MOTOR VEHICLE THEFT  40.7     37.2      22.1   5429\n",
      "5                         ROBBERY  18.1     33.1      48.9   2668\n",
      "6                       SEX ABUSE  18.7     47.2      34.1    123\n",
      "7                    THEFT F/AUTO  42.6     39.1      18.3   5880\n",
      "8                     THEFT/OTHER  41.2     42.9      15.9   9837\n"
     ]
    }
   ],
   "source": [
    "# Create a pivot table with 'Category' as index, 'TimeOfDay' as columns, and 'Value' as values\n",
    "pivot_table = pd.pivot_table(crime_dc, values='ccn', index='offense', columns='shift', aggfunc='count', fill_value=0)\n",
    "pivot_table_percent = (pivot_table.div(pivot_table.sum(axis=1), axis=0) * 100).round(1)\n",
    "pivot_table_percent['count'] = crime_count\n",
    "pivot_table_percent.reset_index(inplace=True)\n",
    "print(pivot_table_percent)"
   ]
  },
  {
   "cell_type": "code",
   "execution_count": 50,
   "id": "02fe8f5c-b1e5-45df-b17c-0e53dda68c78",
   "metadata": {
    "tags": []
   },
   "outputs": [
    {
     "data": {
      "application/vnd.plotly.v1+json": {
       "config": {
        "plotlyServerURL": "https://plot.ly"
       },
       "data": [
        {
         "alignmentgroup": "True",
         "hovertemplate": "variable=day<br>offense=%{x}<br>Percentage=%{y}<extra></extra>",
         "legendgroup": "day",
         "marker": {
          "color": "#636efa",
          "pattern": {
           "shape": ""
          }
         },
         "name": "day",
         "offsetgroup": "day",
         "orientation": "v",
         "showlegend": true,
         "textposition": "auto",
         "texttemplate": "%{y}",
         "type": "bar",
         "x": [
          "ARSON",
          "ASSAULT W/DANGEROUS WEAPON",
          "BURGLARY",
          "HOMICIDE",
          "MOTOR VEHICLE THEFT",
          "ROBBERY",
          "SEX ABUSE",
          "THEFT F/AUTO",
          "THEFT/OTHER"
         ],
         "xaxis": "x",
         "y": [
          55.6,
          18.3,
          44.7,
          0,
          40.7,
          18.1,
          18.7,
          42.6,
          41.2
         ],
         "yaxis": "y"
        },
        {
         "alignmentgroup": "True",
         "hovertemplate": "variable=evening<br>offense=%{x}<br>Percentage=%{y}<extra></extra>",
         "legendgroup": "evening",
         "marker": {
          "color": "#EF553B",
          "pattern": {
           "shape": ""
          }
         },
         "name": "evening",
         "offsetgroup": "evening",
         "orientation": "v",
         "showlegend": true,
         "textposition": "auto",
         "texttemplate": "%{y}",
         "type": "bar",
         "x": [
          "ARSON",
          "ASSAULT W/DANGEROUS WEAPON",
          "BURGLARY",
          "HOMICIDE",
          "MOTOR VEHICLE THEFT",
          "ROBBERY",
          "SEX ABUSE",
          "THEFT F/AUTO",
          "THEFT/OTHER"
         ],
         "xaxis": "x",
         "y": [
          33.3,
          34.1,
          27.2,
          0,
          37.2,
          33.1,
          47.2,
          39.1,
          42.9
         ],
         "yaxis": "y"
        },
        {
         "alignmentgroup": "True",
         "hovertemplate": "variable=midnight<br>offense=%{x}<br>Percentage=%{y}<extra></extra>",
         "legendgroup": "midnight",
         "marker": {
          "color": "#00cc96",
          "pattern": {
           "shape": ""
          }
         },
         "name": "midnight",
         "offsetgroup": "midnight",
         "orientation": "v",
         "showlegend": true,
         "textposition": "auto",
         "texttemplate": "%{y}",
         "type": "bar",
         "x": [
          "ARSON",
          "ASSAULT W/DANGEROUS WEAPON",
          "BURGLARY",
          "HOMICIDE",
          "MOTOR VEHICLE THEFT",
          "ROBBERY",
          "SEX ABUSE",
          "THEFT F/AUTO",
          "THEFT/OTHER"
         ],
         "xaxis": "x",
         "y": [
          11.1,
          47.7,
          28.1,
          100,
          22.1,
          48.9,
          34.1,
          18.3,
          15.9
         ],
         "yaxis": "y"
        }
       ],
       "layout": {
        "annotations": [
         {
          "font": {
           "size": 12
          },
          "showarrow": false,
          "text": "9",
          "x": "ARSON",
          "y": 105
         },
         {
          "font": {
           "size": 12
          },
          "showarrow": false,
          "text": "1110",
          "x": "ASSAULT W/DANGEROUS WEAPON",
          "y": 105
         },
         {
          "font": {
           "size": 12
          },
          "showarrow": false,
          "text": "821",
          "x": "BURGLARY",
          "y": 105
         },
         {
          "font": {
           "size": 12
          },
          "showarrow": false,
          "text": "214",
          "x": "HOMICIDE",
          "y": 105
         },
         {
          "font": {
           "size": 12
          },
          "showarrow": false,
          "text": "5429",
          "x": "MOTOR VEHICLE THEFT",
          "y": 105
         },
         {
          "font": {
           "size": 12
          },
          "showarrow": false,
          "text": "2668",
          "x": "ROBBERY",
          "y": 105
         },
         {
          "font": {
           "size": 12
          },
          "showarrow": false,
          "text": "123",
          "x": "SEX ABUSE",
          "y": 105
         },
         {
          "font": {
           "size": 12
          },
          "showarrow": false,
          "text": "5880",
          "x": "THEFT F/AUTO",
          "y": 105
         },
         {
          "font": {
           "size": 12
          },
          "showarrow": false,
          "text": "9837",
          "x": "THEFT/OTHER",
          "y": 105
         }
        ],
        "autosize": true,
        "barmode": "relative",
        "legend": {
         "title": {
          "text": "variable"
         },
         "tracegroupgap": 0
        },
        "template": {
         "data": {
          "bar": [
           {
            "error_x": {
             "color": "#2a3f5f"
            },
            "error_y": {
             "color": "#2a3f5f"
            },
            "marker": {
             "line": {
              "color": "#E5ECF6",
              "width": 0.5
             },
             "pattern": {
              "fillmode": "overlay",
              "size": 10,
              "solidity": 0.2
             }
            },
            "type": "bar"
           }
          ],
          "barpolar": [
           {
            "marker": {
             "line": {
              "color": "#E5ECF6",
              "width": 0.5
             },
             "pattern": {
              "fillmode": "overlay",
              "size": 10,
              "solidity": 0.2
             }
            },
            "type": "barpolar"
           }
          ],
          "carpet": [
           {
            "aaxis": {
             "endlinecolor": "#2a3f5f",
             "gridcolor": "white",
             "linecolor": "white",
             "minorgridcolor": "white",
             "startlinecolor": "#2a3f5f"
            },
            "baxis": {
             "endlinecolor": "#2a3f5f",
             "gridcolor": "white",
             "linecolor": "white",
             "minorgridcolor": "white",
             "startlinecolor": "#2a3f5f"
            },
            "type": "carpet"
           }
          ],
          "choropleth": [
           {
            "colorbar": {
             "outlinewidth": 0,
             "ticks": ""
            },
            "type": "choropleth"
           }
          ],
          "contour": [
           {
            "colorbar": {
             "outlinewidth": 0,
             "ticks": ""
            },
            "colorscale": [
             [
              0,
              "#0d0887"
             ],
             [
              0.1111111111111111,
              "#46039f"
             ],
             [
              0.2222222222222222,
              "#7201a8"
             ],
             [
              0.3333333333333333,
              "#9c179e"
             ],
             [
              0.4444444444444444,
              "#bd3786"
             ],
             [
              0.5555555555555556,
              "#d8576b"
             ],
             [
              0.6666666666666666,
              "#ed7953"
             ],
             [
              0.7777777777777778,
              "#fb9f3a"
             ],
             [
              0.8888888888888888,
              "#fdca26"
             ],
             [
              1,
              "#f0f921"
             ]
            ],
            "type": "contour"
           }
          ],
          "contourcarpet": [
           {
            "colorbar": {
             "outlinewidth": 0,
             "ticks": ""
            },
            "type": "contourcarpet"
           }
          ],
          "heatmap": [
           {
            "colorbar": {
             "outlinewidth": 0,
             "ticks": ""
            },
            "colorscale": [
             [
              0,
              "#0d0887"
             ],
             [
              0.1111111111111111,
              "#46039f"
             ],
             [
              0.2222222222222222,
              "#7201a8"
             ],
             [
              0.3333333333333333,
              "#9c179e"
             ],
             [
              0.4444444444444444,
              "#bd3786"
             ],
             [
              0.5555555555555556,
              "#d8576b"
             ],
             [
              0.6666666666666666,
              "#ed7953"
             ],
             [
              0.7777777777777778,
              "#fb9f3a"
             ],
             [
              0.8888888888888888,
              "#fdca26"
             ],
             [
              1,
              "#f0f921"
             ]
            ],
            "type": "heatmap"
           }
          ],
          "heatmapgl": [
           {
            "colorbar": {
             "outlinewidth": 0,
             "ticks": ""
            },
            "colorscale": [
             [
              0,
              "#0d0887"
             ],
             [
              0.1111111111111111,
              "#46039f"
             ],
             [
              0.2222222222222222,
              "#7201a8"
             ],
             [
              0.3333333333333333,
              "#9c179e"
             ],
             [
              0.4444444444444444,
              "#bd3786"
             ],
             [
              0.5555555555555556,
              "#d8576b"
             ],
             [
              0.6666666666666666,
              "#ed7953"
             ],
             [
              0.7777777777777778,
              "#fb9f3a"
             ],
             [
              0.8888888888888888,
              "#fdca26"
             ],
             [
              1,
              "#f0f921"
             ]
            ],
            "type": "heatmapgl"
           }
          ],
          "histogram": [
           {
            "marker": {
             "pattern": {
              "fillmode": "overlay",
              "size": 10,
              "solidity": 0.2
             }
            },
            "type": "histogram"
           }
          ],
          "histogram2d": [
           {
            "colorbar": {
             "outlinewidth": 0,
             "ticks": ""
            },
            "colorscale": [
             [
              0,
              "#0d0887"
             ],
             [
              0.1111111111111111,
              "#46039f"
             ],
             [
              0.2222222222222222,
              "#7201a8"
             ],
             [
              0.3333333333333333,
              "#9c179e"
             ],
             [
              0.4444444444444444,
              "#bd3786"
             ],
             [
              0.5555555555555556,
              "#d8576b"
             ],
             [
              0.6666666666666666,
              "#ed7953"
             ],
             [
              0.7777777777777778,
              "#fb9f3a"
             ],
             [
              0.8888888888888888,
              "#fdca26"
             ],
             [
              1,
              "#f0f921"
             ]
            ],
            "type": "histogram2d"
           }
          ],
          "histogram2dcontour": [
           {
            "colorbar": {
             "outlinewidth": 0,
             "ticks": ""
            },
            "colorscale": [
             [
              0,
              "#0d0887"
             ],
             [
              0.1111111111111111,
              "#46039f"
             ],
             [
              0.2222222222222222,
              "#7201a8"
             ],
             [
              0.3333333333333333,
              "#9c179e"
             ],
             [
              0.4444444444444444,
              "#bd3786"
             ],
             [
              0.5555555555555556,
              "#d8576b"
             ],
             [
              0.6666666666666666,
              "#ed7953"
             ],
             [
              0.7777777777777778,
              "#fb9f3a"
             ],
             [
              0.8888888888888888,
              "#fdca26"
             ],
             [
              1,
              "#f0f921"
             ]
            ],
            "type": "histogram2dcontour"
           }
          ],
          "mesh3d": [
           {
            "colorbar": {
             "outlinewidth": 0,
             "ticks": ""
            },
            "type": "mesh3d"
           }
          ],
          "parcoords": [
           {
            "line": {
             "colorbar": {
              "outlinewidth": 0,
              "ticks": ""
             }
            },
            "type": "parcoords"
           }
          ],
          "pie": [
           {
            "automargin": true,
            "type": "pie"
           }
          ],
          "scatter": [
           {
            "fillpattern": {
             "fillmode": "overlay",
             "size": 10,
             "solidity": 0.2
            },
            "type": "scatter"
           }
          ],
          "scatter3d": [
           {
            "line": {
             "colorbar": {
              "outlinewidth": 0,
              "ticks": ""
             }
            },
            "marker": {
             "colorbar": {
              "outlinewidth": 0,
              "ticks": ""
             }
            },
            "type": "scatter3d"
           }
          ],
          "scattercarpet": [
           {
            "marker": {
             "colorbar": {
              "outlinewidth": 0,
              "ticks": ""
             }
            },
            "type": "scattercarpet"
           }
          ],
          "scattergeo": [
           {
            "marker": {
             "colorbar": {
              "outlinewidth": 0,
              "ticks": ""
             }
            },
            "type": "scattergeo"
           }
          ],
          "scattergl": [
           {
            "marker": {
             "colorbar": {
              "outlinewidth": 0,
              "ticks": ""
             }
            },
            "type": "scattergl"
           }
          ],
          "scattermapbox": [
           {
            "marker": {
             "colorbar": {
              "outlinewidth": 0,
              "ticks": ""
             }
            },
            "type": "scattermapbox"
           }
          ],
          "scatterpolar": [
           {
            "marker": {
             "colorbar": {
              "outlinewidth": 0,
              "ticks": ""
             }
            },
            "type": "scatterpolar"
           }
          ],
          "scatterpolargl": [
           {
            "marker": {
             "colorbar": {
              "outlinewidth": 0,
              "ticks": ""
             }
            },
            "type": "scatterpolargl"
           }
          ],
          "scatterternary": [
           {
            "marker": {
             "colorbar": {
              "outlinewidth": 0,
              "ticks": ""
             }
            },
            "type": "scatterternary"
           }
          ],
          "surface": [
           {
            "colorbar": {
             "outlinewidth": 0,
             "ticks": ""
            },
            "colorscale": [
             [
              0,
              "#0d0887"
             ],
             [
              0.1111111111111111,
              "#46039f"
             ],
             [
              0.2222222222222222,
              "#7201a8"
             ],
             [
              0.3333333333333333,
              "#9c179e"
             ],
             [
              0.4444444444444444,
              "#bd3786"
             ],
             [
              0.5555555555555556,
              "#d8576b"
             ],
             [
              0.6666666666666666,
              "#ed7953"
             ],
             [
              0.7777777777777778,
              "#fb9f3a"
             ],
             [
              0.8888888888888888,
              "#fdca26"
             ],
             [
              1,
              "#f0f921"
             ]
            ],
            "type": "surface"
           }
          ],
          "table": [
           {
            "cells": {
             "fill": {
              "color": "#EBF0F8"
             },
             "line": {
              "color": "white"
             }
            },
            "header": {
             "fill": {
              "color": "#C8D4E3"
             },
             "line": {
              "color": "white"
             }
            },
            "type": "table"
           }
          ]
         },
         "layout": {
          "annotationdefaults": {
           "arrowcolor": "#2a3f5f",
           "arrowhead": 0,
           "arrowwidth": 1
          },
          "autotypenumbers": "strict",
          "coloraxis": {
           "colorbar": {
            "outlinewidth": 0,
            "ticks": ""
           }
          },
          "colorscale": {
           "diverging": [
            [
             0,
             "#8e0152"
            ],
            [
             0.1,
             "#c51b7d"
            ],
            [
             0.2,
             "#de77ae"
            ],
            [
             0.3,
             "#f1b6da"
            ],
            [
             0.4,
             "#fde0ef"
            ],
            [
             0.5,
             "#f7f7f7"
            ],
            [
             0.6,
             "#e6f5d0"
            ],
            [
             0.7,
             "#b8e186"
            ],
            [
             0.8,
             "#7fbc41"
            ],
            [
             0.9,
             "#4d9221"
            ],
            [
             1,
             "#276419"
            ]
           ],
           "sequential": [
            [
             0,
             "#0d0887"
            ],
            [
             0.1111111111111111,
             "#46039f"
            ],
            [
             0.2222222222222222,
             "#7201a8"
            ],
            [
             0.3333333333333333,
             "#9c179e"
            ],
            [
             0.4444444444444444,
             "#bd3786"
            ],
            [
             0.5555555555555556,
             "#d8576b"
            ],
            [
             0.6666666666666666,
             "#ed7953"
            ],
            [
             0.7777777777777778,
             "#fb9f3a"
            ],
            [
             0.8888888888888888,
             "#fdca26"
            ],
            [
             1,
             "#f0f921"
            ]
           ],
           "sequentialminus": [
            [
             0,
             "#0d0887"
            ],
            [
             0.1111111111111111,
             "#46039f"
            ],
            [
             0.2222222222222222,
             "#7201a8"
            ],
            [
             0.3333333333333333,
             "#9c179e"
            ],
            [
             0.4444444444444444,
             "#bd3786"
            ],
            [
             0.5555555555555556,
             "#d8576b"
            ],
            [
             0.6666666666666666,
             "#ed7953"
            ],
            [
             0.7777777777777778,
             "#fb9f3a"
            ],
            [
             0.8888888888888888,
             "#fdca26"
            ],
            [
             1,
             "#f0f921"
            ]
           ]
          },
          "colorway": [
           "#636efa",
           "#EF553B",
           "#00cc96",
           "#ab63fa",
           "#FFA15A",
           "#19d3f3",
           "#FF6692",
           "#B6E880",
           "#FF97FF",
           "#FECB52"
          ],
          "font": {
           "color": "#2a3f5f"
          },
          "geo": {
           "bgcolor": "white",
           "lakecolor": "white",
           "landcolor": "#E5ECF6",
           "showlakes": true,
           "showland": true,
           "subunitcolor": "white"
          },
          "hoverlabel": {
           "align": "left"
          },
          "hovermode": "closest",
          "mapbox": {
           "style": "light"
          },
          "paper_bgcolor": "white",
          "plot_bgcolor": "#E5ECF6",
          "polar": {
           "angularaxis": {
            "gridcolor": "white",
            "linecolor": "white",
            "ticks": ""
           },
           "bgcolor": "#E5ECF6",
           "radialaxis": {
            "gridcolor": "white",
            "linecolor": "white",
            "ticks": ""
           }
          },
          "scene": {
           "xaxis": {
            "backgroundcolor": "#E5ECF6",
            "gridcolor": "white",
            "gridwidth": 2,
            "linecolor": "white",
            "showbackground": true,
            "ticks": "",
            "zerolinecolor": "white"
           },
           "yaxis": {
            "backgroundcolor": "#E5ECF6",
            "gridcolor": "white",
            "gridwidth": 2,
            "linecolor": "white",
            "showbackground": true,
            "ticks": "",
            "zerolinecolor": "white"
           },
           "zaxis": {
            "backgroundcolor": "#E5ECF6",
            "gridcolor": "white",
            "gridwidth": 2,
            "linecolor": "white",
            "showbackground": true,
            "ticks": "",
            "zerolinecolor": "white"
           }
          },
          "shapedefaults": {
           "line": {
            "color": "#2a3f5f"
           }
          },
          "ternary": {
           "aaxis": {
            "gridcolor": "white",
            "linecolor": "white",
            "ticks": ""
           },
           "baxis": {
            "gridcolor": "white",
            "linecolor": "white",
            "ticks": ""
           },
           "bgcolor": "#E5ECF6",
           "caxis": {
            "gridcolor": "white",
            "linecolor": "white",
            "ticks": ""
           }
          },
          "title": {
           "x": 0.05
          },
          "xaxis": {
           "automargin": true,
           "gridcolor": "white",
           "linecolor": "white",
           "ticks": "",
           "title": {
            "standoff": 15
           },
           "zerolinecolor": "white",
           "zerolinewidth": 2
          },
          "yaxis": {
           "automargin": true,
           "gridcolor": "white",
           "linecolor": "white",
           "ticks": "",
           "title": {
            "standoff": 15
           },
           "zerolinecolor": "white",
           "zerolinewidth": 2
          }
         }
        },
        "title": {
         "text": "Percent of crime by offense during each shift"
        },
        "xaxis": {
         "anchor": "y",
         "autorange": false,
         "domain": [
          0,
          1
         ],
         "range": [
          -0.5,
          8.5
         ],
         "title": {
          "text": "offense"
         },
         "type": "category"
        },
        "yaxis": {
         "anchor": "x",
         "domain": [
          0,
          1
         ],
         "range": [
          0,
          110
         ],
         "title": {
          "text": "Percentage"
         },
         "type": "linear"
        }
       }
      },
      "image/png": "[encoded data removed]",
      "text/html": [
       "<div>                            <div id=\"f904372e-c73e-4764-8506-3902672853c5\" class=\"plotly-graph-div\" style=\"height:650px; width:100%;\"></div>            <script type=\"text/javascript\">                require([\"plotly\"], function(Plotly) {                    window.PLOTLYENV=window.PLOTLYENV || {};                                    if (document.getElementById(\"f904372e-c73e-4764-8506-3902672853c5\")) {                    Plotly.newPlot(                        \"f904372e-c73e-4764-8506-3902672853c5\",                        [{\"alignmentgroup\":\"True\",\"hovertemplate\":\"variable=day<br>offense=%{x}<br>Percentage=%{y}<extra></extra>\",\"legendgroup\":\"day\",\"marker\":{\"color\":\"#636efa\",\"pattern\":{\"shape\":\"\"}},\"name\":\"day\",\"offsetgroup\":\"day\",\"orientation\":\"v\",\"showlegend\":true,\"textposition\":\"auto\",\"texttemplate\":\"%{y}\",\"x\":[\"ARSON\",\"ASSAULT W/DANGEROUS WEAPON\",\"BURGLARY\",\"HOMICIDE\",\"MOTOR VEHICLE THEFT\",\"ROBBERY\",\"SEX ABUSE\",\"THEFT F/AUTO\",\"THEFT/OTHER\"],\"xaxis\":\"x\",\"y\":[55.6,18.3,44.7,0.0,40.7,18.1,18.7,42.6,41.2],\"yaxis\":\"y\",\"type\":\"bar\"},{\"alignmentgroup\":\"True\",\"hovertemplate\":\"variable=evening<br>offense=%{x}<br>Percentage=%{y}<extra></extra>\",\"legendgroup\":\"evening\",\"marker\":{\"color\":\"#EF553B\",\"pattern\":{\"shape\":\"\"}},\"name\":\"evening\",\"offsetgroup\":\"evening\",\"orientation\":\"v\",\"showlegend\":true,\"textposition\":\"auto\",\"texttemplate\":\"%{y}\",\"x\":[\"ARSON\",\"ASSAULT W/DANGEROUS WEAPON\",\"BURGLARY\",\"HOMICIDE\",\"MOTOR VEHICLE THEFT\",\"ROBBERY\",\"SEX ABUSE\",\"THEFT F/AUTO\",\"THEFT/OTHER\"],\"xaxis\":\"x\",\"y\":[33.3,34.1,27.2,0.0,37.2,33.1,47.2,39.1,42.9],\"yaxis\":\"y\",\"type\":\"bar\"},{\"alignmentgroup\":\"True\",\"hovertemplate\":\"variable=midnight<br>offense=%{x}<br>Percentage=%{y}<extra></extra>\",\"legendgroup\":\"midnight\",\"marker\":{\"color\":\"#00cc96\",\"pattern\":{\"shape\":\"\"}},\"name\":\"midnight\",\"offsetgroup\":\"midnight\",\"orientation\":\"v\",\"showlegend\":true,\"textposition\":\"auto\",\"texttemplate\":\"%{y}\",\"x\":[\"ARSON\",\"ASSAULT W/DANGEROUS WEAPON\",\"BURGLARY\",\"HOMICIDE\",\"MOTOR VEHICLE THEFT\",\"ROBBERY\",\"SEX ABUSE\",\"THEFT F/AUTO\",\"THEFT/OTHER\"],\"xaxis\":\"x\",\"y\":[11.1,47.7,28.1,100.0,22.1,48.9,34.1,18.3,15.9],\"yaxis\":\"y\",\"type\":\"bar\"}],                        {\"template\":{\"data\":{\"histogram2dcontour\":[{\"type\":\"histogram2dcontour\",\"colorbar\":{\"outlinewidth\":0,\"ticks\":\"\"},\"colorscale\":[[0.0,\"#0d0887\"],[0.1111111111111111,\"#46039f\"],[0.2222222222222222,\"#7201a8\"],[0.3333333333333333,\"#9c179e\"],[0.4444444444444444,\"#bd3786\"],[0.5555555555555556,\"#d8576b\"],[0.6666666666666666,\"#ed7953\"],[0.7777777777777778,\"#fb9f3a\"],[0.8888888888888888,\"#fdca26\"],[1.0,\"#f0f921\"]]}],\"choropleth\":[{\"type\":\"choropleth\",\"colorbar\":{\"outlinewidth\":0,\"ticks\":\"\"}}],\"histogram2d\":[{\"type\":\"histogram2d\",\"colorbar\":{\"outlinewidth\":0,\"ticks\":\"\"},\"colorscale\":[[0.0,\"#0d0887\"],[0.1111111111111111,\"#46039f\"],[0.2222222222222222,\"#7201a8\"],[0.3333333333333333,\"#9c179e\"],[0.4444444444444444,\"#bd3786\"],[0.5555555555555556,\"#d8576b\"],[0.6666666666666666,\"#ed7953\"],[0.7777777777777778,\"#fb9f3a\"],[0.8888888888888888,\"#fdca26\"],[1.0,\"#f0f921\"]]}],\"heatmap\":[{\"type\":\"heatmap\",\"colorbar\":{\"outlinewidth\":0,\"ticks\":\"\"},\"colorscale\":[[0.0,\"#0d0887\"],[0.1111111111111111,\"#46039f\"],[0.2222222222222222,\"#7201a8\"],[0.3333333333333333,\"#9c179e\"],[0.4444444444444444,\"#bd3786\"],[0.5555555555555556,\"#d8576b\"],[0.6666666666666666,\"#ed7953\"],[0.7777777777777778,\"#fb9f3a\"],[0.8888888888888888,\"#fdca26\"],[1.0,\"#f0f921\"]]}],\"heatmapgl\":[{\"type\":\"heatmapgl\",\"colorbar\":{\"outlinewidth\":0,\"ticks\":\"\"},\"colorscale\":[[0.0,\"#0d0887\"],[0.1111111111111111,\"#46039f\"],[0.2222222222222222,\"#7201a8\"],[0.3333333333333333,\"#9c179e\"],[0.4444444444444444,\"#bd3786\"],[0.5555555555555556,\"#d8576b\"],[0.6666666666666666,\"#ed7953\"],[0.7777777777777778,\"#fb9f3a\"],[0.8888888888888888,\"#fdca26\"],[1.0,\"#f0f921\"]]}],\"contourcarpet\":[{\"type\":\"contourcarpet\",\"colorbar\":{\"outlinewidth\":0,\"ticks\":\"\"}}],\"contour\":[{\"type\":\"contour\",\"colorbar\":{\"outlinewidth\":0,\"ticks\":\"\"},\"colorscale\":[[0.0,\"#0d0887\"],[0.1111111111111111,\"#46039f\"],[0.2222222222222222,\"#7201a8\"],[0.3333333333333333,\"#9c179e\"],[0.4444444444444444,\"#bd3786\"],[0.5555555555555556,\"#d8576b\"],[0.6666666666666666,\"#ed7953\"],[0.7777777777777778,\"#fb9f3a\"],[0.8888888888888888,\"#fdca26\"],[1.0,\"#f0f921\"]]}],\"surface\":[{\"type\":\"surface\",\"colorbar\":{\"outlinewidth\":0,\"ticks\":\"\"},\"colorscale\":[[0.0,\"#0d0887\"],[0.1111111111111111,\"#46039f\"],[0.2222222222222222,\"#7201a8\"],[0.3333333333333333,\"#9c179e\"],[0.4444444444444444,\"#bd3786\"],[0.5555555555555556,\"#d8576b\"],[0.6666666666666666,\"#ed7953\"],[0.7777777777777778,\"#fb9f3a\"],[0.8888888888888888,\"#fdca26\"],[1.0,\"#f0f921\"]]}],\"mesh3d\":[{\"type\":\"mesh3d\",\"colorbar\":{\"outlinewidth\":0,\"ticks\":\"\"}}],\"scatter\":[{\"fillpattern\":{\"fillmode\":\"overlay\",\"size\":10,\"solidity\":0.2},\"type\":\"scatter\"}],\"parcoords\":[{\"type\":\"parcoords\",\"line\":{\"colorbar\":{\"outlinewidth\":0,\"ticks\":\"\"}}}],\"scatterpolargl\":[{\"type\":\"scatterpolargl\",\"marker\":{\"colorbar\":{\"outlinewidth\":0,\"ticks\":\"\"}}}],\"bar\":[{\"error_x\":{\"color\":\"#2a3f5f\"},\"error_y\":{\"color\":\"#2a3f5f\"},\"marker\":{\"line\":{\"color\":\"#E5ECF6\",\"width\":0.5},\"pattern\":{\"fillmode\":\"overlay\",\"size\":10,\"solidity\":0.2}},\"type\":\"bar\"}],\"scattergeo\":[{\"type\":\"scattergeo\",\"marker\":{\"colorbar\":{\"outlinewidth\":0,\"ticks\":\"\"}}}],\"scatterpolar\":[{\"type\":\"scatterpolar\",\"marker\":{\"colorbar\":{\"outlinewidth\":0,\"ticks\":\"\"}}}],\"histogram\":[{\"marker\":{\"pattern\":{\"fillmode\":\"overlay\",\"size\":10,\"solidity\":0.2}},\"type\":\"histogram\"}],\"scattergl\":[{\"type\":\"scattergl\",\"marker\":{\"colorbar\":{\"outlinewidth\":0,\"ticks\":\"\"}}}],\"scatter3d\":[{\"type\":\"scatter3d\",\"line\":{\"colorbar\":{\"outlinewidth\":0,\"ticks\":\"\"}},\"marker\":{\"colorbar\":{\"outlinewidth\":0,\"ticks\":\"\"}}}],\"scattermapbox\":[{\"type\":\"scattermapbox\",\"marker\":{\"colorbar\":{\"outlinewidth\":0,\"ticks\":\"\"}}}],\"scatterternary\":[{\"type\":\"scatterternary\",\"marker\":{\"colorbar\":{\"outlinewidth\":0,\"ticks\":\"\"}}}],\"scattercarpet\":[{\"type\":\"scattercarpet\",\"marker\":{\"colorbar\":{\"outlinewidth\":0,\"ticks\":\"\"}}}],\"carpet\":[{\"aaxis\":{\"endlinecolor\":\"#2a3f5f\",\"gridcolor\":\"white\",\"linecolor\":\"white\",\"minorgridcolor\":\"white\",\"startlinecolor\":\"#2a3f5f\"},\"baxis\":{\"endlinecolor\":\"#2a3f5f\",\"gridcolor\":\"white\",\"linecolor\":\"white\",\"minorgridcolor\":\"white\",\"startlinecolor\":\"#2a3f5f\"},\"type\":\"carpet\"}],\"table\":[{\"cells\":{\"fill\":{\"color\":\"#EBF0F8\"},\"line\":{\"color\":\"white\"}},\"header\":{\"fill\":{\"color\":\"#C8D4E3\"},\"line\":{\"color\":\"white\"}},\"type\":\"table\"}],\"barpolar\":[{\"marker\":{\"line\":{\"color\":\"#E5ECF6\",\"width\":0.5},\"pattern\":{\"fillmode\":\"overlay\",\"size\":10,\"solidity\":0.2}},\"type\":\"barpolar\"}],\"pie\":[{\"automargin\":true,\"type\":\"pie\"}]},\"layout\":{\"autotypenumbers\":\"strict\",\"colorway\":[\"#636efa\",\"#EF553B\",\"#00cc96\",\"#ab63fa\",\"#FFA15A\",\"#19d3f3\",\"#FF6692\",\"#B6E880\",\"#FF97FF\",\"#FECB52\"],\"font\":{\"color\":\"#2a3f5f\"},\"hovermode\":\"closest\",\"hoverlabel\":{\"align\":\"left\"},\"paper_bgcolor\":\"white\",\"plot_bgcolor\":\"#E5ECF6\",\"polar\":{\"bgcolor\":\"#E5ECF6\",\"angularaxis\":{\"gridcolor\":\"white\",\"linecolor\":\"white\",\"ticks\":\"\"},\"radialaxis\":{\"gridcolor\":\"white\",\"linecolor\":\"white\",\"ticks\":\"\"}},\"ternary\":{\"bgcolor\":\"#E5ECF6\",\"aaxis\":{\"gridcolor\":\"white\",\"linecolor\":\"white\",\"ticks\":\"\"},\"baxis\":{\"gridcolor\":\"white\",\"linecolor\":\"white\",\"ticks\":\"\"},\"caxis\":{\"gridcolor\":\"white\",\"linecolor\":\"white\",\"ticks\":\"\"}},\"coloraxis\":{\"colorbar\":{\"outlinewidth\":0,\"ticks\":\"\"}},\"colorscale\":{\"sequential\":[[0.0,\"#0d0887\"],[0.1111111111111111,\"#46039f\"],[0.2222222222222222,\"#7201a8\"],[0.3333333333333333,\"#9c179e\"],[0.4444444444444444,\"#bd3786\"],[0.5555555555555556,\"#d8576b\"],[0.6666666666666666,\"#ed7953\"],[0.7777777777777778,\"#fb9f3a\"],[0.8888888888888888,\"#fdca26\"],[1.0,\"#f0f921\"]],\"sequentialminus\":[[0.0,\"#0d0887\"],[0.1111111111111111,\"#46039f\"],[0.2222222222222222,\"#7201a8\"],[0.3333333333333333,\"#9c179e\"],[0.4444444444444444,\"#bd3786\"],[0.5555555555555556,\"#d8576b\"],[0.6666666666666666,\"#ed7953\"],[0.7777777777777778,\"#fb9f3a\"],[0.8888888888888888,\"#fdca26\"],[1.0,\"#f0f921\"]],\"diverging\":[[0,\"#8e0152\"],[0.1,\"#c51b7d\"],[0.2,\"#de77ae\"],[0.3,\"#f1b6da\"],[0.4,\"#fde0ef\"],[0.5,\"#f7f7f7\"],[0.6,\"#e6f5d0\"],[0.7,\"#b8e186\"],[0.8,\"#7fbc41\"],[0.9,\"#4d9221\"],[1,\"#276419\"]]},\"xaxis\":{\"gridcolor\":\"white\",\"linecolor\":\"white\",\"ticks\":\"\",\"title\":{\"standoff\":15},\"zerolinecolor\":\"white\",\"automargin\":true,\"zerolinewidth\":2},\"yaxis\":{\"gridcolor\":\"white\",\"linecolor\":\"white\",\"ticks\":\"\",\"title\":{\"standoff\":15},\"zerolinecolor\":\"white\",\"automargin\":true,\"zerolinewidth\":2},\"scene\":{\"xaxis\":{\"backgroundcolor\":\"#E5ECF6\",\"gridcolor\":\"white\",\"linecolor\":\"white\",\"showbackground\":true,\"ticks\":\"\",\"zerolinecolor\":\"white\",\"gridwidth\":2},\"yaxis\":{\"backgroundcolor\":\"#E5ECF6\",\"gridcolor\":\"white\",\"linecolor\":\"white\",\"showbackground\":true,\"ticks\":\"\",\"zerolinecolor\":\"white\",\"gridwidth\":2},\"zaxis\":{\"backgroundcolor\":\"#E5ECF6\",\"gridcolor\":\"white\",\"linecolor\":\"white\",\"showbackground\":true,\"ticks\":\"\",\"zerolinecolor\":\"white\",\"gridwidth\":2}},\"shapedefaults\":{\"line\":{\"color\":\"#2a3f5f\"}},\"annotationdefaults\":{\"arrowcolor\":\"#2a3f5f\",\"arrowhead\":0,\"arrowwidth\":1},\"geo\":{\"bgcolor\":\"white\",\"landcolor\":\"#E5ECF6\",\"subunitcolor\":\"white\",\"showland\":true,\"showlakes\":true,\"lakecolor\":\"white\"},\"title\":{\"x\":0.05},\"mapbox\":{\"style\":\"light\"}}},\"xaxis\":{\"anchor\":\"y\",\"domain\":[0.0,1.0],\"title\":{\"text\":\"offense\"}},\"yaxis\":{\"anchor\":\"x\",\"domain\":[0.0,1.0],\"title\":{\"text\":\"Percentage\"},\"range\":[0,110]},\"legend\":{\"title\":{\"text\":\"variable\"},\"tracegroupgap\":0},\"title\":{\"text\":\"Percent of crime by offense during each shift\"},\"barmode\":\"relative\",\"height\":650,\"annotations\":[{\"font\":{\"size\":12},\"showarrow\":false,\"text\":\"9\",\"x\":\"ARSON\",\"y\":105},{\"font\":{\"size\":12},\"showarrow\":false,\"text\":\"1110\",\"x\":\"ASSAULT W/DANGEROUS WEAPON\",\"y\":105},{\"font\":{\"size\":12},\"showarrow\":false,\"text\":\"821\",\"x\":\"BURGLARY\",\"y\":105},{\"font\":{\"size\":12},\"showarrow\":false,\"text\":\"214\",\"x\":\"HOMICIDE\",\"y\":105},{\"font\":{\"size\":12},\"showarrow\":false,\"text\":\"5429\",\"x\":\"MOTOR VEHICLE THEFT\",\"y\":105},{\"font\":{\"size\":12},\"showarrow\":false,\"text\":\"2668\",\"x\":\"ROBBERY\",\"y\":105},{\"font\":{\"size\":12},\"showarrow\":false,\"text\":\"123\",\"x\":\"SEX ABUSE\",\"y\":105},{\"font\":{\"size\":12},\"showarrow\":false,\"text\":\"5880\",\"x\":\"THEFT F/AUTO\",\"y\":105},{\"font\":{\"size\":12},\"showarrow\":false,\"text\":\"9837\",\"x\":\"THEFT/OTHER\",\"y\":105}]},                        {\"responsive\": true}                    ).then(function(){\n",
       "                            \n",
       "var gd = document.getElementById('f904372e-c73e-4764-8506-3902672853c5');\n",
       "var x = new MutationObserver(function (mutations, observer) {{\n",
       "        var display = window.getComputedStyle(gd).display;\n",
       "        if (!display || display === 'none') {{\n",
       "            console.log([gd, 'removed!']);\n",
       "            Plotly.purge(gd);\n",
       "            observer.disconnect();\n",
       "        }}\n",
       "}});\n",
       "\n",
       "// Listen for the removal of the full notebook cells\n",
       "var notebookContainer = gd.closest('#notebook-container');\n",
       "if (notebookContainer) {{\n",
       "    x.observe(notebookContainer, {childList: true});\n",
       "}}\n",
       "\n",
       "// Listen for the clearing of the current output cell\n",
       "var outputEl = gd.closest('.output');\n",
       "if (outputEl) {{\n",
       "    x.observe(outputEl, {childList: true});\n",
       "}}\n",
       "\n",
       "                        })                };                });            </script>        </div>"
      ]
     },
     "metadata": {},
     "output_type": "display_data"
    }
   ],
   "source": [
    "fig = px.bar(\n",
    "    pivot_table_percent,\n",
    "    x=\"offense\",\n",
    "    y=[\"day\", \"evening\", \"midnight\"],\n",
    "    title=\"Percent of crime by offense during each shift\",\n",
    "    text_auto=True,\n",
    "    height=650,\n",
    "    labels={'value': 'Percentage'},\n",
    ")\n",
    "fig.update_layout(\n",
    "    yaxis=dict(\n",
    "        range=[0, 110]  # Setting the y-axis range from 0 to the calculated max\n",
    "    )\n",
    ")\n",
    "# Adding annotations for each bar\n",
    "for index, row in pivot_table_percent.iterrows():\n",
    "    fig.add_annotation(\n",
    "        x=row['offense'],\n",
    "        y=105,  # Adjust this offset as needed\n",
    "        text=str(row['count']),\n",
    "        showarrow=False,\n",
    "        font=dict(size=12)\n",
    "    )\n",
    "fig.show()"
   ]
  },
  {
   "cell_type": "markdown",
   "id": "b8ebf809-bc21-4eaa-9f15-c46eb4a235c2",
   "metadata": {},
   "source": [
    "### Observations\n",
    "The bar graph represents the distribution of various crime types across three shifts: day, evening, and midnight. Assaults with a dangerous weapon predominantly occur during the evening shift (47.7%), while thefts/auto are most frequent during the day (42.6%). Homicides are exclusively reported during the midnight shift (100%). The least variation across shifts is seen in robberies, with a more even distribution. The total count of crimes for each type is indicated above the respective bars, with theft/other having the highest frequency (9837). The data suggests a correlation between the time of day and the prevalence of certain crime types.\n",
    "\n",
    "### Inferences\n",
    "The above visualization demonstrates that crimes related to theft (theft f/auto, theft/other, burglary, motor vehicle theft) primarily occur during the day shift. This may be many people may be at work or school shift, allowing for breakins to occur when people are away from their residences or vehicles. People may also be out shopping, working, or running errands during the day, which can leave their cars unattended or vulnerable to theft. It might also be because they are less likely to encounter police patrols or security guards during the day, which reduces the chance of being caught. By stealing automobiles theives might also commit serious crimes without getting caught.\n",
    "\n",
    "More serious crimes such as homicide, assault with a dangerous weapon, and robbery occur when during the midnight shift. These crimes are highly confrontational and threatening; they may be done in the midnight as there less people out and people may also be out drinking, partying, or socializing at night, which can impair their judgment, lower their inhibitions, and increase their vulnerability to violence.  According to a report by the Australian Institute of Criminology, the night-time economy, which involves the provision of entertainment, leisure, and hospitality services at night, can generate various forms of stress and conflict, such as noise, crowding, competition, and intoxication. These factors can increase the likelihood of aggression, violence, and crime among patrons, staff, and residents.\n",
    "\n",
    "### Recommendations\n",
    "These insights can be valuable for law enforcement and public safety officials to understand the distribution of crime across different times of the day and to allocate resources accordingly. To understand the distribution of the types of crimes across different police shifts, law enforcement can staff and prepare their teams appropriately for these shifts. Since more than half of the overall crime occurs during the day shift, perhaps increased patrolling may be needed to lower the incidence of thefts. The police can do this by increasing lighting, surveillance, signage, and patrols, and by enforcing policies and laws that prohibit and punish these crimes. \n",
    "\n",
    "Furthermore, increased response preparedness for violent crimes, which primarily occur in the midnight shift, can help improve officer safety and efficiency of a police response. Ultimately, D.C. law enforcement can utilize the insights from this analysis to cultivate plans that help them in their efforts to reduce and quickly respond to crime.\n",
    "\n",
    "Civilians can stay safe by avoiding walking alone at night in isolated areas, carrying pepper spray, whistle or any self defense device \n"
   ]
  },
  {
   "cell_type": "code",
   "execution_count": null,
   "id": "c9a3d963-cdb8-4971-9eb4-8621b09dd98e",
   "metadata": {},
   "outputs": [],
   "source": []
  }
 ],
 "metadata": {
  "kernelspec": {
   "display_name": "Python 3 (ipykernel)",
   "language": "python",
   "name": "python3"
  },
  "language_info": {
   "codemirror_mode": {
    "name": "ipython",
    "version": 3
   },
   "file_extension": ".py",
   "mimetype": "text/x-python",
   "name": "python",
   "nbconvert_exporter": "python",
   "pygments_lexer": "ipython3",
   "version": "3.11.4"
  }
 },
 "nbformat": 4,
 "nbformat_minor": 5
}
