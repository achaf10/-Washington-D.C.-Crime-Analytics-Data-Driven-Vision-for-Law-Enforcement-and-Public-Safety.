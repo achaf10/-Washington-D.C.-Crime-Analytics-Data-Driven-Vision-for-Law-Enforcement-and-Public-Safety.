{
 "cells": [
  {
   "cell_type": "markdown",
   "id": "bbcf2afb",
   "metadata": {},
   "source": [
    "# Visualization"
   ]
  },
  {
   "cell_type": "markdown",
   "id": "a2070393",
   "metadata": {},
   "source": [
    "### 1. Are there specific geographic hotspots for crime in Washington DC?"
   ]
  },
  {
   "cell_type": "markdown",
   "id": "773aaa64",
   "metadata": {},
   "source": [
    "In the interest of our stakeholders, which include civillians, law enforcement, and city government officials, knowing where the majority of crimes are occurring can offer much value. The following visualization will provide a profile for the prevalence of crime in each ward."
   ]
  },
  {
   "cell_type": "code",
   "execution_count": null,
   "id": "2bfd2bb5",
   "metadata": {},
   "outputs": [],
   "source": [
    "# Creating a new DataFrame that contains the number of crimes in each ward \n",
    "grouped_crime_dc = pd.DataFrame(crime_dc.groupby('ward').agg({'ward':'count'})) \n",
    "\n",
    "# Renaming the aggregated data column to represent the number of crimes in a ward\n",
    "grouped_crime_dc.rename(columns={'ward': 'count_of_crimes'}, inplace=True)\n",
    "\n",
    "import geopandas as gpd\n",
    "import pandas as pd\n",
    "import matplotlib.pyplot as plt\n",
    "\n",
    "# Importing a shapefile to highlight borders of each ward\n",
    "shapefile_path = 'Wards_from_2012.shp'\n",
    "\n",
    "# Reading the ward shapefile and creating a GeoDataFrame\n",
    "gdf = gpd.read_file(shapefile_path)\n",
    "\n",
    "# Creating the ward column to allow for merging with the crime data that is grouped by ward\n",
    "gdf['ward']= [6, 8, 4, 3, 5, 1, 2, 7] # Inputting the corresponding ward values based on coordinates\n",
    "\n",
    "# Merging grouped crime data with the shapefile using the 'ward' column\n",
    "merged = gdf.merge(grouped_crime, left_on='ward', right_on='ward', how='left')\n",
    "\n",
    "# Plotting the map\n",
    "fig, ax = plt.subplots(1, 1, figsize=(12, 8))\n",
    "merged.plot(column='count_of_crimes', cmap='OrRd', linewidth=0.8, ax=ax, edgecolor='0.8', legend=True)\n",
    "\n",
    "# Annotating the ward names\n",
    "for x, y, label in zip(merged.geometry.centroid.x, merged.geometry.centroid.y, merged['ward']):\n",
    "    ax.text(x, y, label, fontsize=8, ha='center', va='center', color='black', weight='bold')\n",
    "\n",
    "\n",
    "# Adding axes labels and title\n",
    "ax.set_title('Number of Crimes by Ward in Washington, D.C.')\n",
    "ax.set_xlabel('Longitude')\n",
    "ax.set_ylabel('Latitude')\n",
    "\n",
    "# Displaying the plot\n",
    "plt.show()"
   ]
  },
  {
   "cell_type": "markdown",
   "id": "76eb5090",
   "metadata": {},
   "source": [
    "### Observation:"
   ]
  },
  {
   "cell_type": "markdown",
   "id": "098b1f6c",
   "metadata": {},
   "source": [
    "The map shows 8 different wards, each represented by a number from 1 to 8. The color intensity varies across wards, indicating different crime levels. Darker shades represent higher crime numbers, while lighter shades represent lower crime numbers.\n",
    "\n",
    "Wards 1, 2, 5, and 7 appear to have darker shades compared to others, suggesting higher crime rates. In general, ward 5 has the highest number of crimes, followed by ward 2, ward 1, ward 7, ward 6, ward 8, ward 4 and ward 3. \n",
    "\n",
    "This indicates that the areas with the highest crime rates are concentrated in the central and eastern parts of the Washington D.C.. And if we compared to the east, the central part evidently has a higher number of crimes.\n"
   ]
  },
  {
   "cell_type": "markdown",
   "id": "9a8d38a1",
   "metadata": {},
   "source": [
    "### Inference:"
   ]
  },
  {
   "cell_type": "markdown",
   "id": "d0a7458c",
   "metadata": {},
   "source": [
    "1. The central area, with Ward 5 having the highest crime rate, followed by Ward 2 and Ward 1, exhibits elevated crime levels, which can be attributed to several factors. One prominent factor is the higher population density in these districts, as they serve as hubs for residential and commercial activities. Additionally, the increased commercialization in these central wards often leads to a greater influx of people, providing more opportunities for criminal activities to occur.\n",
    "2. Income levels are often correlated with crime rates, and it's a common finding that higher-income areas tend to have lower crime rates. For instance, Ward 3 and Ward 4 record the lowest crime numbers, which can be plausibly attributed to their proximity to affluent areas near Washington, D.C., such as Bethesda, Chevy Chase, and McLean.  Higher-income areas often have more resources to invest in community infrastructure, including better street lighting, security systems, and neighborhood watch programs, which can deter crime. At the same time, as we can glean from the preceding exploratory data analysis (EDA), theft constitutes the largest proportion within all crime categories. High income areas tend to experience fewer incidents of theft, a factor that significantly contributes to lower crime rates in such regions."
   ]
  },
  {
   "cell_type": "markdown",
   "id": "bb873fce",
   "metadata": {},
   "source": [
    "### Recommandations:"
   ]
  },
  {
   "cell_type": "markdown",
   "id": "9ff507cd",
   "metadata": {},
   "source": [
    "1. Focused Policing: Direct more policing efforts to Wards 5, 2, and 1, especially in areas identified as crime hotspots. This could involve an increase in patrols, community policing initiatives, and the use of crime prevention through environmental design (CPTED) strategies[1]. \n",
    "2. Community Engagement: Develop community outreach programs in these wards to strengthen relations between law enforcement and residents, and to work on crime prevention from a community standpoint.\n",
    "3. Economic Development: Invest in economic development initiatives in these wards to address potential underlying socio-economic causes of crime. This could include job training programs, support for local businesses, and investment in affordable housing.\n",
    "4. Infrastructure Improvements: Invest in infrastructure such as street lighting and public surveillance systems in these wards to help deter criminal activity."
   ]
  },
  {
   "cell_type": "code",
   "execution_count": null,
   "id": "6a2415f8",
   "metadata": {},
   "outputs": [],
   "source": []
  },
  {
   "cell_type": "markdown",
   "id": "c0cf0393",
   "metadata": {},
   "source": [
    "### References"
   ]
  },
  {
   "cell_type": "markdown",
   "id": "e7f297ee",
   "metadata": {},
   "source": [
    "[1] 2023, Crime Prevention through Environmental Design (CPTED), https://crime.baltimorecity.gov/crime-prevention-through-environmental-design-cpted#:~:text=Crime%20Prevention%20through%20Environmental%20Design%20(CPTED%2C%20pronounced%20sep%2Dted,the%20neighborhood%20is%20cared%20for"
   ]
  },
  {
   "cell_type": "code",
   "execution_count": null,
   "id": "f0990f45",
   "metadata": {},
   "outputs": [],
   "source": []
  },
  {
   "cell_type": "code",
   "execution_count": null,
   "id": "131e05ee",
   "metadata": {},
   "outputs": [],
   "source": []
  },
  {
   "cell_type": "code",
   "execution_count": null,
   "id": "479a831c",
   "metadata": {},
   "outputs": [],
   "source": []
  },
  {
   "cell_type": "code",
   "execution_count": null,
   "id": "b31cd9c5",
   "metadata": {},
   "outputs": [],
   "source": []
  },
  {
   "cell_type": "code",
   "execution_count": null,
   "id": "17568f9f",
   "metadata": {},
   "outputs": [],
   "source": []
  },
  {
   "cell_type": "code",
   "execution_count": null,
   "id": "8e015707",
   "metadata": {},
   "outputs": [],
   "source": []
  }
 ],
 "metadata": {
  "kernelspec": {
   "display_name": "Python 3 (ipykernel)",
   "language": "python",
   "name": "python3"
  },
  "language_info": {
   "codemirror_mode": {
    "name": "ipython",
    "version": 3
   },
   "file_extension": ".py",
   "mimetype": "text/x-python",
   "name": "python",
   "nbconvert_exporter": "python",
   "pygments_lexer": "ipython3",
   "version": "3.11.4"
  }
 },
 "nbformat": 4,
 "nbformat_minor": 5
}
